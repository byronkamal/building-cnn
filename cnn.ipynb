{
 "cells": [
  {
   "cell_type": "code",
   "execution_count": 1,
   "metadata": {},
   "outputs": [
    {
     "name": "stderr",
     "output_type": "stream",
     "text": [
      "Using TensorFlow backend.\n"
     ]
    }
   ],
   "source": [
    "# Importing the Keras libraries and packages\n",
    "from keras.models import Sequential\n",
    "from keras.layers import Conv2D\n",
    "from keras.layers import MaxPooling2D\n",
    "from keras.layers import Flatten\n",
    "from keras.layers import Dense"
   ]
  },
  {
   "cell_type": "code",
   "execution_count": 2,
   "metadata": {},
   "outputs": [
    {
     "name": "stdout",
     "output_type": "stream",
     "text": [
      "WARNING:tensorflow:From /home/marco/dl_env/lib/python3.6/site-packages/tensorflow/python/framework/op_def_library.py:263: colocate_with (from tensorflow.python.framework.ops) is deprecated and will be removed in a future version.\n",
      "Instructions for updating:\n",
      "Colocations handled automatically by placer.\n"
     ]
    }
   ],
   "source": [
    "# Initialising the CNN\n",
    "classifier = Sequential()\n",
    "\n",
    "# Step 1 - Convolution\n",
    "classifier.add(Conv2D(32, (3, 3), input_shape = (64, 64, 3), activation = 'relu'))\n",
    "\n",
    "# Step 2 - Pooling\n",
    "classifier.add(MaxPooling2D(pool_size = (2, 2)))\n",
    "\n",
    "# Adding a second convolutional layer\n",
    "classifier.add(Conv2D(32, (3, 3), activation = 'relu'))\n",
    "classifier.add(MaxPooling2D(pool_size = (2, 2)))\n",
    "\n",
    "# Step 3 - Flattening\n",
    "classifier.add(Flatten())\n",
    "\n",
    "# Step 4 - Full connection\n",
    "classifier.add(Dense(units = 128, activation = 'relu'))\n",
    "classifier.add(Dense(units = 1, activation = 'sigmoid'))\n",
    "\n",
    "# Compiling the CNN\n",
    "classifier.compile(optimizer = 'adam', loss = 'binary_crossentropy', metrics = ['accuracy'])"
   ]
  },
  {
   "cell_type": "code",
   "execution_count": 3,
   "metadata": {},
   "outputs": [
    {
     "name": "stdout",
     "output_type": "stream",
     "text": [
      "Found 8000 images belonging to 2 classes.\n",
      "Found 2000 images belonging to 2 classes.\n"
     ]
    }
   ],
   "source": [
    "# Part 2 - Fitting the CNN to the images\n",
    "\n",
    "from keras.preprocessing.image import ImageDataGenerator\n",
    "\n",
    "train_datagen = ImageDataGenerator(rescale = 1./255,\n",
    "                                   shear_range = 0.2,\n",
    "                                   zoom_range = 0.2,\n",
    "                                   horizontal_flip = True)\n",
    "\n",
    "test_datagen = ImageDataGenerator(rescale = 1./255)\n",
    "\n",
    "training_set = train_datagen.flow_from_directory('dataset/training_set',\n",
    "                                                 target_size = (64, 64),\n",
    "                                                 batch_size = 32,\n",
    "                                                 class_mode = 'binary')\n",
    "\n",
    "test_set = test_datagen.flow_from_directory('dataset/test_set',\n",
    "                                            target_size = (64, 64),\n",
    "                                            batch_size = 32,\n",
    "                                            class_mode = 'binary')"
   ]
  },
  {
   "cell_type": "code",
   "execution_count": 4,
   "metadata": {},
   "outputs": [
    {
     "name": "stdout",
     "output_type": "stream",
     "text": [
      "WARNING:tensorflow:From /home/marco/dl_env/lib/python3.6/site-packages/tensorflow/python/ops/math_ops.py:3066: to_int32 (from tensorflow.python.ops.math_ops) is deprecated and will be removed in a future version.\n",
      "Instructions for updating:\n",
      "Use tf.cast instead.\n",
      "Epoch 1/25\n",
      "8000/8000 [==============================] - 2775s 347ms/step - loss: 0.3679 - acc: 0.8275 - val_loss: 0.5555 - val_acc: 0.8167\n",
      "Epoch 2/25\n",
      "8000/8000 [==============================] - 2728s 341ms/step - loss: 0.1182 - acc: 0.9542 - val_loss: 1.0211 - val_acc: 0.7877\n",
      "Epoch 3/25\n",
      "8000/8000 [==============================] - 2731s 341ms/step - loss: 0.0575 - acc: 0.9794 - val_loss: 1.1847 - val_acc: 0.7939\n",
      "Epoch 4/25\n",
      "8000/8000 [==============================] - 2738s 342ms/step - loss: 0.0424 - acc: 0.9851 - val_loss: 1.2194 - val_acc: 0.7981\n",
      "Epoch 5/25\n",
      "8000/8000 [==============================] - 2741s 343ms/step - loss: 0.0329 - acc: 0.9885 - val_loss: 1.3715 - val_acc: 0.8061\n",
      "Epoch 6/25\n",
      "8000/8000 [==============================] - 2738s 342ms/step - loss: 0.0278 - acc: 0.9905 - val_loss: 1.3713 - val_acc: 0.7957\n",
      "Epoch 7/25\n",
      "8000/8000 [==============================] - 2743s 343ms/step - loss: 0.0243 - acc: 0.9918 - val_loss: 1.4975 - val_acc: 0.7913\n",
      "Epoch 8/25\n",
      "8000/8000 [==============================] - 2738s 342ms/step - loss: 0.0208 - acc: 0.9930 - val_loss: 1.6578 - val_acc: 0.8010\n",
      "Epoch 9/25\n",
      "8000/8000 [==============================] - 2740s 342ms/step - loss: 0.0200 - acc: 0.9935 - val_loss: 1.6970 - val_acc: 0.7846\n",
      "Epoch 10/25\n",
      "8000/8000 [==============================] - 2746s 343ms/step - loss: 0.0169 - acc: 0.9943 - val_loss: 1.5570 - val_acc: 0.8036\n",
      "Epoch 11/25\n",
      "8000/8000 [==============================] - 2745s 343ms/step - loss: 0.0164 - acc: 0.9948 - val_loss: 1.6357 - val_acc: 0.8000\n",
      "Epoch 12/25\n",
      "8000/8000 [==============================] - 2848s 356ms/step - loss: 0.0148 - acc: 0.9952 - val_loss: 1.4624 - val_acc: 0.8114\n",
      "Epoch 13/25\n",
      "8000/8000 [==============================] - 2800s 350ms/step - loss: 0.0135 - acc: 0.9958 - val_loss: 1.6712 - val_acc: 0.7985\n",
      "Epoch 14/25\n",
      "8000/8000 [==============================] - 2787s 348ms/step - loss: 0.0117 - acc: 0.9962 - val_loss: 1.6998 - val_acc: 0.8032\n",
      "Epoch 15/25\n",
      "8000/8000 [==============================] - 2793s 349ms/step - loss: 0.0118 - acc: 0.9962 - val_loss: 1.6138 - val_acc: 0.8043\n",
      "Epoch 16/25\n",
      "8000/8000 [==============================] - 2803s 350ms/step - loss: 0.0115 - acc: 0.9963 - val_loss: 1.6154 - val_acc: 0.8103\n",
      "Epoch 17/25\n",
      "8000/8000 [==============================] - 2794s 349ms/step - loss: 0.0109 - acc: 0.9967 - val_loss: 1.6769 - val_acc: 0.7964\n",
      "Epoch 18/25\n",
      "8000/8000 [==============================] - 2797s 350ms/step - loss: 0.0103 - acc: 0.9968 - val_loss: 1.6017 - val_acc: 0.8169\n",
      "Epoch 19/25\n",
      "8000/8000 [==============================] - 2797s 350ms/step - loss: 0.0103 - acc: 0.9968 - val_loss: 1.7092 - val_acc: 0.8013\n",
      "Epoch 20/25\n",
      "8000/8000 [==============================] - 2798s 350ms/step - loss: 0.0089 - acc: 0.9971 - val_loss: 1.8332 - val_acc: 0.8002\n",
      "Epoch 21/25\n",
      "8000/8000 [==============================] - 2796s 349ms/step - loss: 0.0087 - acc: 0.9974 - val_loss: 1.6251 - val_acc: 0.8047\n",
      "Epoch 22/25\n",
      "8000/8000 [==============================] - 2796s 349ms/step - loss: 0.0083 - acc: 0.9974 - val_loss: 1.6546 - val_acc: 0.8148\n",
      "Epoch 23/25\n",
      "8000/8000 [==============================] - 2804s 351ms/step - loss: 0.0080 - acc: 0.9976 - val_loss: 1.6893 - val_acc: 0.8083\n",
      "Epoch 24/25\n",
      "8000/8000 [==============================] - 2800s 350ms/step - loss: 0.0086 - acc: 0.9975 - val_loss: 1.6488 - val_acc: 0.8261\n",
      "Epoch 25/25\n",
      "8000/8000 [==============================] - 2799s 350ms/step - loss: 0.0083 - acc: 0.9976 - val_loss: 1.6134 - val_acc: 0.8070\n"
     ]
    },
    {
     "data": {
      "text/plain": [
       "<keras.callbacks.History at 0x7f6cbd148e10>"
      ]
     },
     "execution_count": 4,
     "metadata": {},
     "output_type": "execute_result"
    }
   ],
   "source": [
    "classifier.fit_generator(training_set,\n",
    "                         steps_per_epoch = 8000, \n",
    "                         epochs = 25,\n",
    "                         validation_data = test_set,\n",
    "                         validation_steps = 2000)"
   ]
  },
  {
   "cell_type": "code",
   "execution_count": 5,
   "metadata": {},
   "outputs": [],
   "source": [
    "loss, acc = classifier.evaluate_generator(generator=test_set, steps=2000)"
   ]
  },
  {
   "cell_type": "code",
   "execution_count": 6,
   "metadata": {},
   "outputs": [
    {
     "name": "stdout",
     "output_type": "stream",
     "text": [
      "1.6109816778910997\n"
     ]
    }
   ],
   "source": [
    "print(loss)"
   ]
  },
  {
   "cell_type": "code",
   "execution_count": 7,
   "metadata": {},
   "outputs": [
    {
     "name": "stdout",
     "output_type": "stream",
     "text": [
      "0.8069241431451613\n"
     ]
    }
   ],
   "source": [
    "print(acc)"
   ]
  },
  {
   "cell_type": "code",
   "execution_count": null,
   "metadata": {},
   "outputs": [],
   "source": []
  }
 ],
 "metadata": {
  "kernelspec": {
   "display_name": "Python 3",
   "language": "python",
   "name": "python3"
  },
  "language_info": {
   "codemirror_mode": {
    "name": "ipython",
    "version": 3
   },
   "file_extension": ".py",
   "mimetype": "text/x-python",
   "name": "python",
   "nbconvert_exporter": "python",
   "pygments_lexer": "ipython3",
   "version": "3.6.5"
  }
 },
 "nbformat": 4,
 "nbformat_minor": 2
}
