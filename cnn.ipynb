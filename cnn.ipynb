{
 "cells": [
  {
   "cell_type": "code",
   "execution_count": 4,
   "metadata": {},
   "outputs": [
    {
     "name": "stderr",
     "output_type": "stream",
     "text": [
      "Using TensorFlow backend.\n"
     ]
    }
   ],
   "source": [
    "# Importing the Keras libraries and packages\n",
    "from keras.models import Sequential\n",
    "from keras.layers import Conv2D\n",
    "from keras.layers import MaxPooling2D\n",
    "from keras.layers import Flatten\n",
    "from keras.layers import Dense\n",
    "from keras.preprocessing import image\n",
    "import numpy as np\n",
    "import matplotlib.pyplot as plt"
   ]
  },
  {
   "cell_type": "code",
   "execution_count": 45,
   "metadata": {},
   "outputs": [],
   "source": [
    "IMAGE_WIDTH = 150\n",
    "IMAGE_HEIGHT = 150 #200\n",
    "VALIDATION_STEPS = 25\n",
    "BATCH_SIZE = 32\n",
    "EPOCHS = 20 #25\n",
    "STEPS_PER_EPOCH = 100"
   ]
  },
  {
   "cell_type": "code",
   "execution_count": 46,
   "metadata": {},
   "outputs": [],
   "source": [
    "# Initialising the CNN\n",
    "classifier = Sequential()\n",
    "\n",
    "# Step 1 - Convolution\n",
    "classifier.add(Conv2D(32, (3, 3), input_shape = (IMAGE_WIDTH, IMAGE_HEIGHT, 3), activation = 'relu'))\n",
    "classifier.add(Conv2D(32, (3, 3), activation = 'relu'))\n",
    "\n",
    "# Step 2 - Pooling\n",
    "classifier.add(MaxPooling2D(pool_size = (2, 2)))\n",
    "\n",
    "# Adding a second convolutional layer\n",
    "classifier.add(Conv2D(32, (3, 3), activation = 'relu'))\n",
    "classifier.add(MaxPooling2D(pool_size = (2, 2)))\n",
    "\n",
    "# Step 3 - Flattening\n",
    "classifier.add(Flatten())\n",
    "\n",
    "# Step 4 - Full connection\n",
    "classifier.add(Dense(units = 128, activation = 'relu'))\n",
    "classifier.add(Dense(units = 1, activation = 'sigmoid'))"
   ]
  },
  {
   "cell_type": "code",
   "execution_count": 47,
   "metadata": {},
   "outputs": [],
   "source": [
    "# Compiling the CNN\n",
    "classifier.compile(optimizer = 'adam', loss = 'binary_crossentropy', metrics = ['accuracy'])"
   ]
  },
  {
   "cell_type": "code",
   "execution_count": 48,
   "metadata": {},
   "outputs": [],
   "source": [
    "# Part 2 - Fitting the CNN to the images\n",
    "\n",
    "from keras.preprocessing.image import ImageDataGenerator"
   ]
  },
  {
   "cell_type": "code",
   "execution_count": 49,
   "metadata": {},
   "outputs": [],
   "source": [
    "train_datagen = ImageDataGenerator(rescale = 1./255,\n",
    "                                   shear_range = 0.2,\n",
    "                                   zoom_range = 0.2,\n",
    "                                   horizontal_flip = True)"
   ]
  },
  {
   "cell_type": "code",
   "execution_count": 50,
   "metadata": {},
   "outputs": [
    {
     "name": "stdout",
     "output_type": "stream",
     "text": [
      "Found 249 images belonging to 2 classes.\n"
     ]
    }
   ],
   "source": [
    "training_set = train_datagen.flow_from_directory('data/training_set',\n",
    "                                                 target_size = (IMAGE_WIDTH, IMAGE_HEIGHT),\n",
    "                                                 batch_size = BATCH_SIZE,\n",
    "                                                 class_mode = 'binary')"
   ]
  },
  {
   "cell_type": "code",
   "execution_count": 51,
   "metadata": {},
   "outputs": [
    {
     "data": {
      "text/plain": [
       "{'matheus': 0, 'naiara': 1}"
      ]
     },
     "execution_count": 51,
     "metadata": {},
     "output_type": "execute_result"
    }
   ],
   "source": [
    "training_set.class_indices"
   ]
  },
  {
   "cell_type": "code",
   "execution_count": 52,
   "metadata": {},
   "outputs": [],
   "source": [
    "test_datagen = ImageDataGenerator(rescale = 1./255)"
   ]
  },
  {
   "cell_type": "code",
   "execution_count": 53,
   "metadata": {},
   "outputs": [
    {
     "name": "stdout",
     "output_type": "stream",
     "text": [
      "Found 82 images belonging to 2 classes.\n"
     ]
    }
   ],
   "source": [
    "test_set = test_datagen.flow_from_directory('data/test_set',\n",
    "                                            target_size = (IMAGE_WIDTH, IMAGE_HEIGHT),\n",
    "                                            batch_size = BATCH_SIZE,\n",
    "                                            class_mode = 'binary')"
   ]
  },
  {
   "cell_type": "code",
   "execution_count": 54,
   "metadata": {},
   "outputs": [
    {
     "name": "stdout",
     "output_type": "stream",
     "text": [
      "Epoch 1/20\n",
      "7/7 [==============================] - 40s 6s/step - loss: 0.9833 - acc: 0.4732 - val_loss: 0.6989 - val_acc: 0.5044\n",
      "Epoch 2/20\n",
      "7/7 [==============================] - 33s 5s/step - loss: 0.6846 - acc: 0.5398 - val_loss: 0.6888 - val_acc: 0.4797\n",
      "Epoch 3/20\n",
      "7/7 [==============================] - 33s 5s/step - loss: 0.6672 - acc: 0.5677 - val_loss: 0.6926 - val_acc: 0.5089\n",
      "Epoch 4/20\n",
      "7/7 [==============================] - 38s 5s/step - loss: 0.6366 - acc: 0.6115 - val_loss: 0.6757 - val_acc: 0.5233\n",
      "Epoch 5/20\n",
      "7/7 [==============================] - 32s 5s/step - loss: 0.5726 - acc: 0.6932 - val_loss: 0.6723 - val_acc: 0.5610\n",
      "Epoch 6/20\n",
      "7/7 [==============================] - 33s 5s/step - loss: 0.5750 - acc: 0.7123 - val_loss: 0.8372 - val_acc: 0.5223\n",
      "Epoch 7/20\n",
      "7/7 [==============================] - 32s 5s/step - loss: 0.5571 - acc: 0.7245 - val_loss: 0.7103 - val_acc: 0.6192\n",
      "Epoch 8/20\n",
      "7/7 [==============================] - 33s 5s/step - loss: 0.4749 - acc: 0.7996 - val_loss: 0.7076 - val_acc: 0.5988\n",
      "Epoch 9/20\n",
      "7/7 [==============================] - 33s 5s/step - loss: 0.4775 - acc: 0.7902 - val_loss: 0.7479 - val_acc: 0.5608\n",
      "Epoch 10/20\n",
      "7/7 [==============================] - 32s 5s/step - loss: 0.4453 - acc: 0.8174 - val_loss: 0.8631 - val_acc: 0.5654\n",
      "Epoch 11/20\n",
      "7/7 [==============================] - 34s 5s/step - loss: 0.4131 - acc: 0.8052 - val_loss: 0.7836 - val_acc: 0.5974\n",
      "Epoch 12/20\n",
      "7/7 [==============================] - 31s 4s/step - loss: 0.4256 - acc: 0.8131 - val_loss: 0.7554 - val_acc: 0.5846\n",
      "Epoch 13/20\n",
      "7/7 [==============================] - 34s 5s/step - loss: 0.3969 - acc: 0.8119 - val_loss: 0.8725 - val_acc: 0.6192\n",
      "Epoch 14/20\n",
      "7/7 [==============================] - 31s 4s/step - loss: 0.3507 - acc: 0.8219 - val_loss: 0.9873 - val_acc: 0.5988\n",
      "Epoch 15/20\n",
      "7/7 [==============================] - 31s 4s/step - loss: 0.3116 - acc: 0.8623 - val_loss: 0.9561 - val_acc: 0.6098\n",
      "Epoch 16/20\n",
      "7/7 [==============================] - 31s 4s/step - loss: 0.3114 - acc: 0.8836 - val_loss: 0.8949 - val_acc: 0.6875\n",
      "Epoch 17/20\n",
      "7/7 [==============================] - 31s 4s/step - loss: 0.2261 - acc: 0.9018 - val_loss: 1.0237 - val_acc: 0.6352\n",
      "Epoch 18/20\n",
      "7/7 [==============================] - 31s 4s/step - loss: 0.2222 - acc: 0.9137 - val_loss: 0.9370 - val_acc: 0.6454\n",
      "Epoch 19/20\n",
      "7/7 [==============================] - 32s 5s/step - loss: 0.2282 - acc: 0.9205 - val_loss: 1.1992 - val_acc: 0.6642\n",
      "Epoch 20/20\n",
      "7/7 [==============================] - 31s 4s/step - loss: 0.2274 - acc: 0.9205 - val_loss: 0.8383 - val_acc: 0.6468\n"
     ]
    },
    {
     "data": {
      "text/plain": [
       "<keras.callbacks.History at 0x7fa11ec03f60>"
      ]
     },
     "execution_count": 54,
     "metadata": {},
     "output_type": "execute_result"
    }
   ],
   "source": [
    "classifier.fit_generator(training_set,\n",
    "                         steps_per_epoch = len(training_set.filenames) // BATCH_SIZE, #STEPS_PER_EPOCH,\n",
    "                         epochs = EPOCHS,\n",
    "                         validation_data = test_set,\n",
    "                         validation_steps = VALIDATION_STEPS)"
   ]
  },
  {
   "cell_type": "code",
   "execution_count": 55,
   "metadata": {},
   "outputs": [
    {
     "name": "stdout",
     "output_type": "stream",
     "text": [
      "_________________________________________________________________\n",
      "Layer (type)                 Output Shape              Param #   \n",
      "=================================================================\n",
      "conv2d_6 (Conv2D)            (None, 148, 148, 32)      896       \n",
      "_________________________________________________________________\n",
      "conv2d_7 (Conv2D)            (None, 146, 146, 32)      9248      \n",
      "_________________________________________________________________\n",
      "max_pooling2d_5 (MaxPooling2 (None, 73, 73, 32)        0         \n",
      "_________________________________________________________________\n",
      "conv2d_8 (Conv2D)            (None, 71, 71, 32)        9248      \n",
      "_________________________________________________________________\n",
      "max_pooling2d_6 (MaxPooling2 (None, 35, 35, 32)        0         \n",
      "_________________________________________________________________\n",
      "flatten_3 (Flatten)          (None, 39200)             0         \n",
      "_________________________________________________________________\n",
      "dense_5 (Dense)              (None, 128)               5017728   \n",
      "_________________________________________________________________\n",
      "dense_6 (Dense)              (None, 1)                 129       \n",
      "=================================================================\n",
      "Total params: 5,037,249\n",
      "Trainable params: 5,037,249\n",
      "Non-trainable params: 0\n",
      "_________________________________________________________________\n"
     ]
    }
   ],
   "source": [
    "classifier.summary()"
   ]
  },
  {
   "cell_type": "code",
   "execution_count": 56,
   "metadata": {},
   "outputs": [
    {
     "data": {
      "text/plain": [
       "[0.8645152070148047, 0.6366279081896294]"
      ]
     },
     "execution_count": 56,
     "metadata": {},
     "output_type": "execute_result"
    }
   ],
   "source": [
    "classifier.evaluate_generator(generator=test_set, steps=validation_steps)"
   ]
  },
  {
   "cell_type": "code",
   "execution_count": 57,
   "metadata": {},
   "outputs": [],
   "source": [
    "loss, metric = classifier.evaluate_generator(generator=test_set, steps=validation_steps)"
   ]
  },
  {
   "cell_type": "code",
   "execution_count": 58,
   "metadata": {},
   "outputs": [
    {
     "name": "stdout",
     "output_type": "stream",
     "text": [
      "loss: 0.8769906212738784\n",
      "acc: 0.6305637996345316\n"
     ]
    }
   ],
   "source": [
    "print('loss:', loss)\n",
    "print('acc:', metric)"
   ]
  },
  {
   "cell_type": "code",
   "execution_count": 105,
   "metadata": {},
   "outputs": [],
   "source": [
    "test = image.load_img('./data/single_prediction/matheus-naiara-03.jpg', target_size=(IMAGE_WIDTH, IMAGE_HEIGHT))"
   ]
  },
  {
   "cell_type": "code",
   "execution_count": 106,
   "metadata": {},
   "outputs": [],
   "source": [
    "test = image.img_to_array(test)\n",
    "test = np.expand_dims(test, axis=0)"
   ]
  },
  {
   "cell_type": "code",
   "execution_count": 107,
   "metadata": {},
   "outputs": [],
   "source": [
    "classes = classifier.predict_classes(test)"
   ]
  },
  {
   "cell_type": "code",
   "execution_count": 108,
   "metadata": {},
   "outputs": [
    {
     "data": {
      "text/plain": [
       "array([[0]], dtype=int32)"
      ]
     },
     "execution_count": 108,
     "metadata": {},
     "output_type": "execute_result"
    }
   ],
   "source": [
    "classes"
   ]
  },
  {
   "cell_type": "code",
   "execution_count": 42,
   "metadata": {},
   "outputs": [
    {
     "data": {
      "image/png": "[encoded data removed]",
      "text/plain": [
       "<Figure size 432x288 with 1 Axes>"
      ]
     },
     "metadata": {
      "needs_background": "light"
     },
     "output_type": "display_data"
    }
   ],
   "source": [
    "# ANTES\n",
    "# summarize history for accuracy\n",
    "plt.plot(classifier.history.history['acc'])\n",
    "plt.plot(classifier.history.history['val_acc'])\n",
    "plt.title('model accuracy')\n",
    "plt.ylabel('accuracy')\n",
    "plt.xlabel('epoch')\n",
    "plt.legend(['train', 'test'], loc='upper left')\n",
    "plt.show()"
   ]
  },
  {
   "cell_type": "code",
   "execution_count": 75,
   "metadata": {},
   "outputs": [
    {
     "data": {
      "image/png": "[encoded data removed]",
      "text/plain": [
       "<Figure size 432x288 with 1 Axes>"
      ]
     },
     "metadata": {
      "needs_background": "light"
     },
     "output_type": "display_data"
    }
   ],
   "source": [
    "# DEPOIS\n",
    "# summarize history for accuracy\n",
    "plt.plot(classifier.history.history['acc'])\n",
    "plt.plot(classifier.history.history['val_acc'])\n",
    "plt.title('model accuracy')\n",
    "plt.ylabel('accuracy')\n",
    "plt.xlabel('epoch')\n",
    "plt.legend(['train', 'test'], loc='upper left')\n",
    "plt.show()"
   ]
  },
  {
   "cell_type": "code",
   "execution_count": 43,
   "metadata": {},
   "outputs": [
    {
     "data": {
      "image/png": "[encoded data removed]",
      "text/plain": [
       "<Figure size 432x288 with 1 Axes>"
      ]
     },
     "metadata": {
      "needs_background": "light"
     },
     "output_type": "display_data"
    }
   ],
   "source": [
    "# ANTES\n",
    "# summarize history for loss\n",
    "plt.plot(classifier.history.history['loss'])\n",
    "plt.plot(classifier.history.history['val_loss'])\n",
    "plt.title('model loss')\n",
    "plt.ylabel('loss')\n",
    "plt.xlabel('epoch')\n",
    "plt.legend(['train', 'test'], loc='upper left')\n",
    "plt.show()"
   ]
  },
  {
   "cell_type": "code",
   "execution_count": 76,
   "metadata": {},
   "outputs": [
    {
     "data": {
      "image/png": "[encoded data removed]",
      "text/plain": [
       "<Figure size 432x288 with 1 Axes>"
      ]
     },
     "metadata": {
      "needs_background": "light"
     },
     "output_type": "display_data"
    }
   ],
   "source": [
    "# DEPOIS\n",
    "# summarize history for loss\n",
    "plt.plot(classifier.history.history['loss'])\n",
    "plt.plot(classifier.history.history['val_loss'])\n",
    "plt.title('model loss')\n",
    "plt.ylabel('loss')\n",
    "plt.xlabel('epoch')\n",
    "plt.legend(['train', 'test'], loc='upper left')\n",
    "plt.show()"
   ]
  },
  {
   "cell_type": "code",
   "execution_count": null,
   "metadata": {},
   "outputs": [],
   "source": []
  }
 ],
 "metadata": {
  "kernelspec": {
   "display_name": "Python 3",
   "language": "python",
   "name": "python3"
  },
  "language_info": {
   "codemirror_mode": {
    "name": "ipython",
    "version": 3
   },
   "file_extension": ".py",
   "mimetype": "text/x-python",
   "name": "python",
   "nbconvert_exporter": "python",
   "pygments_lexer": "ipython3",
   "version": "3.5.2"
  }
 },
 "nbformat": 4,
 "nbformat_minor": 2
}
