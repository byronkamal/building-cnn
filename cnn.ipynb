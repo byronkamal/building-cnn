{
 "cells": [
  {
   "cell_type": "code",
   "execution_count": 3,
   "metadata": {},
   "outputs": [
    {
     "name": "stderr",
     "output_type": "stream",
     "text": [
      "Using TensorFlow backend.\n"
     ]
    }
   ],
   "source": [
    "# Convolutional Neural Network\n",
    "\n",
    "# Installing Theano\n",
    "# pip install --upgrade --no-deps git+git://github.com/Theano/Theano.git\n",
    "\n",
    "# Installing Tensorflow\n",
    "# pip install tensorflow\n",
    "\n",
    "# Installing Keras\n",
    "# pip install --upgrade keras\n",
    "\n",
    "# Part 1 - Building the CNN\n",
    "\n",
    "# Importing the Keras libraries and packages\n",
    "from keras.models import Sequential\n",
    "from keras.layers import Conv2D\n",
    "from keras.layers import MaxPooling2D\n",
    "from keras.layers import Flatten\n",
    "from keras.layers import Dense"
   ]
  },
  {
   "cell_type": "code",
   "execution_count": 4,
   "metadata": {},
   "outputs": [
    {
     "name": "stdout",
     "output_type": "stream",
     "text": [
      "WARNING:tensorflow:From /usr/local/lib/python3.6/dist-packages/tensorflow/python/framework/op_def_library.py:263: colocate_with (from tensorflow.python.framework.ops) is deprecated and will be removed in a future version.\n",
      "Instructions for updating:\n",
      "Colocations handled automatically by placer.\n"
     ]
    }
   ],
   "source": [
    "# Initialising the CNN\n",
    "classifier = Sequential()\n",
    "\n",
    "# Step 1 - Convolution\n",
    "classifier.add(Conv2D(32, (3, 3), input_shape = (64, 64, 3), activation = 'relu'))\n",
    "\n",
    "# second convolution\n",
    "classifier.add(Conv2D(32, (3, 3), input_shape = (64, 64, 3), activation = 'relu'))\n",
    "\n",
    "# Step 2 - Pooling\n",
    "classifier.add(MaxPooling2D(pool_size = (2, 2)))\n",
    "\n",
    "# Adding a second convolutional layer\n",
    "classifier.add(Conv2D(32, (3, 3), activation = 'relu'))\n",
    "\n",
    "classifier.add(MaxPooling2D(pool_size = (2, 2)))"
   ]
  },
  {
   "cell_type": "code",
   "execution_count": 5,
   "metadata": {},
   "outputs": [],
   "source": [
    "# Step 3 - Flattening\n",
    "classifier.add(Flatten())"
   ]
  },
  {
   "cell_type": "code",
   "execution_count": 6,
   "metadata": {},
   "outputs": [],
   "source": [
    "# Step 4 - Full connection\n",
    "classifier.add(Dense(units = 128, activation = 'relu'))\n",
    "classifier.add(Dense(units = 1, activation = 'sigmoid'))"
   ]
  },
  {
   "cell_type": "code",
   "execution_count": 7,
   "metadata": {},
   "outputs": [],
   "source": [
    "# Compiling the CNN\n",
    "classifier.compile(optimizer = 'adam', loss = 'binary_crossentropy', metrics = ['accuracy'])"
   ]
  },
  {
   "cell_type": "code",
   "execution_count": 8,
   "metadata": {},
   "outputs": [],
   "source": [
    "# Part 2 - Fitting the CNN to the images\n",
    "\n",
    "from keras.preprocessing.image import ImageDataGenerator\n",
    "\n",
    "train_datagen = ImageDataGenerator(rescale = 1./255,\n",
    "                                   shear_range = 0.2,\n",
    "                                   zoom_range = 0.2,\n",
    "                                   horizontal_flip = True)\n",
    "\n",
    "test_datagen = ImageDataGenerator(rescale = 1./255)"
   ]
  },
  {
   "cell_type": "code",
   "execution_count": 9,
   "metadata": {},
   "outputs": [
    {
     "name": "stdout",
     "output_type": "stream",
     "text": [
      "Found 8000 images belonging to 2 classes.\n",
      "Found 2000 images belonging to 2 classes.\n"
     ]
    }
   ],
   "source": [
    "training_set = train_datagen.flow_from_directory('dataset/training_set',\n",
    "                                                 target_size = (64, 64),\n",
    "                                                 batch_size = 32,\n",
    "                                                 class_mode = 'binary')\n",
    "\n",
    "test_set = test_datagen.flow_from_directory('dataset/test_set',\n",
    "                                            target_size = (64, 64),\n",
    "                                            batch_size = 32,\n",
    "                                            class_mode = 'binary')"
   ]
  },
  {
   "cell_type": "code",
   "execution_count": 10,
   "metadata": {},
   "outputs": [
    {
     "name": "stdout",
     "output_type": "stream",
     "text": [
      "WARNING:tensorflow:From /usr/local/lib/python3.6/dist-packages/tensorflow/python/ops/math_ops.py:3066: to_int32 (from tensorflow.python.ops.math_ops) is deprecated and will be removed in a future version.\n",
      "Instructions for updating:\n",
      "Use tf.cast instead.\n",
      "Epoch 1/25\n",
      "800/800 [==============================] - 306s 382ms/step - loss: 0.6471 - acc: 0.6123 - val_loss: 0.6089 - val_acc: 0.6806\n",
      "Epoch 2/25\n",
      "800/800 [==============================] - 279s 349ms/step - loss: 0.5177 - acc: 0.7410 - val_loss: 0.4968 - val_acc: 0.7604\n",
      "Epoch 3/25\n",
      "800/800 [==============================] - 278s 348ms/step - loss: 0.4487 - acc: 0.7869 - val_loss: 0.4553 - val_acc: 0.7868\n",
      "Epoch 4/25\n",
      "800/800 [==============================] - 278s 348ms/step - loss: 0.4040 - acc: 0.8149 - val_loss: 0.4565 - val_acc: 0.8012\n",
      "Epoch 5/25\n",
      "800/800 [==============================] - 279s 348ms/step - loss: 0.3663 - acc: 0.8332 - val_loss: 0.4198 - val_acc: 0.8068\n",
      "Epoch 6/25\n",
      "800/800 [==============================] - 279s 348ms/step - loss: 0.3270 - acc: 0.8559 - val_loss: 0.4436 - val_acc: 0.8160\n",
      "Epoch 7/25\n",
      "800/800 [==============================] - 279s 349ms/step - loss: 0.2891 - acc: 0.8762 - val_loss: 0.4603 - val_acc: 0.8169\n",
      "Epoch 8/25\n",
      "800/800 [==============================] - 279s 349ms/step - loss: 0.2539 - acc: 0.8932 - val_loss: 0.5193 - val_acc: 0.8134\n",
      "Epoch 9/25\n",
      "800/800 [==============================] - 279s 348ms/step - loss: 0.2322 - acc: 0.9021 - val_loss: 0.5448 - val_acc: 0.8125\n",
      "Epoch 10/25\n",
      "800/800 [==============================] - 279s 348ms/step - loss: 0.2014 - acc: 0.9171 - val_loss: 0.5744 - val_acc: 0.8175\n",
      "Epoch 11/25\n",
      "800/800 [==============================] - 279s 348ms/step - loss: 0.1808 - acc: 0.9257 - val_loss: 0.6045 - val_acc: 0.8111\n",
      "Epoch 12/25\n",
      "800/800 [==============================] - 280s 350ms/step - loss: 0.1570 - acc: 0.9373 - val_loss: 0.6317 - val_acc: 0.8155\n",
      "Epoch 13/25\n",
      "800/800 [==============================] - 282s 352ms/step - loss: 0.1473 - acc: 0.9414 - val_loss: 0.6939 - val_acc: 0.8108\n",
      "Epoch 14/25\n",
      "800/800 [==============================] - 307s 383ms/step - loss: 0.1255 - acc: 0.9521 - val_loss: 0.6871 - val_acc: 0.8163\n",
      "Epoch 15/25\n",
      "800/800 [==============================] - 276s 346ms/step - loss: 0.1191 - acc: 0.9535 - val_loss: 0.7042 - val_acc: 0.8111\n",
      "Epoch 16/25\n",
      "800/800 [==============================] - 284s 355ms/step - loss: 0.1115 - acc: 0.9577 - val_loss: 0.6717 - val_acc: 0.8232\n",
      "Epoch 17/25\n",
      "800/800 [==============================] - 282s 352ms/step - loss: 0.1029 - acc: 0.9605 - val_loss: 0.7798 - val_acc: 0.8197\n",
      "Epoch 18/25\n",
      "800/800 [==============================] - 280s 349ms/step - loss: 0.0938 - acc: 0.9664 - val_loss: 0.7882 - val_acc: 0.8248\n",
      "Epoch 19/25\n",
      "800/800 [==============================] - 280s 350ms/step - loss: 0.0884 - acc: 0.9673 - val_loss: 0.8098 - val_acc: 0.8253\n",
      "Epoch 20/25\n",
      "800/800 [==============================] - 280s 350ms/step - loss: 0.0830 - acc: 0.9698 - val_loss: 0.8984 - val_acc: 0.8012\n",
      "Epoch 21/25\n",
      "800/800 [==============================] - 280s 350ms/step - loss: 0.0789 - acc: 0.9716 - val_loss: 0.8373 - val_acc: 0.8215\n",
      "Epoch 22/25\n",
      "800/800 [==============================] - 280s 350ms/step - loss: 0.0697 - acc: 0.9746 - val_loss: 0.8922 - val_acc: 0.8183\n",
      "Epoch 23/25\n",
      "800/800 [==============================] - 280s 350ms/step - loss: 0.0704 - acc: 0.9736 - val_loss: 0.8758 - val_acc: 0.8194\n",
      "Epoch 24/25\n",
      "800/800 [==============================] - 290s 363ms/step - loss: 0.0731 - acc: 0.9729 - val_loss: 0.9154 - val_acc: 0.8213\n",
      "Epoch 25/25\n",
      "800/800 [==============================] - 278s 348ms/step - loss: 0.0622 - acc: 0.9791 - val_loss: 0.9216 - val_acc: 0.8201\n"
     ]
    },
    {
     "data": {
      "text/plain": [
       "<keras.callbacks.History at 0x7fd31543aa90>"
      ]
     },
     "execution_count": 10,
     "metadata": {},
     "output_type": "execute_result"
    }
   ],
   "source": [
    "classifier.fit_generator(training_set,\n",
    "                         steps_per_epoch = 800,\n",
    "                         epochs = 25,\n",
    "                         validation_data = test_set,\n",
    "                         validation_steps = 200)"
   ]
  },
  {
   "cell_type": "code",
   "execution_count": null,
   "metadata": {},
   "outputs": [],
   "source": []
  }
 ],
 "metadata": {
  "kernelspec": {
   "display_name": "Python 3",
   "language": "python",
   "name": "python3"
  },
  "language_info": {
   "codemirror_mode": {
    "name": "ipython",
    "version": 3
   },
   "file_extension": ".py",
   "mimetype": "text/x-python",
   "name": "python",
   "nbconvert_exporter": "python",
   "pygments_lexer": "ipython3",
   "version": "3.6.7"
  }
 },
 "nbformat": 4,
 "nbformat_minor": 2
}
