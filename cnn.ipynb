{
 "cells": [
  {
   "cell_type": "code",
   "execution_count": 1,
   "metadata": {},
   "outputs": [
    {
     "name": "stderr",
     "output_type": "stream",
     "text": [
      "Using TensorFlow backend.\n"
     ]
    }
   ],
   "source": [
    "# Importing the Keras libraries and packages\n",
    "from keras.models import Sequential\n",
    "from keras.layers import Conv2D\n",
    "from keras.layers import MaxPooling2D\n",
    "from keras.layers import Flatten\n",
    "from keras.layers import Dense\n",
    "from keras.preprocessing import image\n",
    "import numpy as np\n",
    "import matplotlib.pyplot as plt\n",
    "from sklearn.model_selection import train_test_split"
   ]
  },
  {
   "cell_type": "code",
   "execution_count": 2,
   "metadata": {},
   "outputs": [],
   "source": [
    "IMAGE_WIDTH = 64\n",
    "IMAGE_HEIGHT = 64 \n",
    "VALIDATION_STEPS = 25\n",
    "BATCH_SIZE = 32\n",
    "EPOCHS = 25\n",
    "STEPS_PER_EPOCH = 100"
   ]
  },
  {
   "cell_type": "code",
   "execution_count": 3,
   "metadata": {},
   "outputs": [
    {
     "name": "stdout",
     "output_type": "stream",
     "text": [
      "WARNING:tensorflow:From /home/naiara/GIT/deeplearningunb/myenv/lib/python3.5/site-packages/tensorflow/python/framework/op_def_library.py:263: colocate_with (from tensorflow.python.framework.ops) is deprecated and will be removed in a future version.\n",
      "Instructions for updating:\n",
      "Colocations handled automatically by placer.\n"
     ]
    }
   ],
   "source": [
    "# Initialising the CNN\n",
    "classifier = Sequential()\n",
    "\n",
    "# Step 1 - Convolution\n",
    "classifier.add(Conv2D(32, (3, 3), input_shape = (IMAGE_WIDTH, IMAGE_HEIGHT, 3), activation = 'relu'))\n",
    "classifier.add(Conv2D(32, (3, 3), activation = 'relu'))\n",
    "\n",
    "# Step 2 - Pooling\n",
    "classifier.add(MaxPooling2D(pool_size = (2, 2)))\n",
    "\n",
    "# Adding a second convolutional layer\n",
    "classifier.add(Conv2D(32, (3, 3), activation = 'tanh'))\n",
    "classifier.add(Conv2D(32, (3, 3), activation = 'relu'))\n",
    "classifier.add(MaxPooling2D(pool_size = (2, 2)))\n",
    "\n",
    "# Step 3 - Flattening\n",
    "classifier.add(Flatten())\n",
    "\n",
    "# Step 4 - Full connection\n",
    "classifier.add(Dense(units = 128, activation = 'relu'))\n",
    "classifier.add(Dense(units = 1, activation = 'sigmoid'))"
   ]
  },
  {
   "cell_type": "code",
   "execution_count": 4,
   "metadata": {},
   "outputs": [],
   "source": [
    "# Compiling the CNN\n",
    "classifier.compile(optimizer = 'adam', loss = 'binary_crossentropy', metrics = ['accuracy'])"
   ]
  },
  {
   "cell_type": "code",
   "execution_count": 5,
   "metadata": {},
   "outputs": [],
   "source": [
    "# Part 2 - Fitting the CNN to the images\n",
    "\n",
    "from keras.preprocessing.image import ImageDataGenerator"
   ]
  },
  {
   "cell_type": "code",
   "execution_count": 6,
   "metadata": {},
   "outputs": [],
   "source": [
    "train_datagen = ImageDataGenerator(rescale = 1./255,\n",
    "                                   shear_range = 0.2,\n",
    "                                   zoom_range = 0.2,\n",
    "                                   horizontal_flip = True)"
   ]
  },
  {
   "cell_type": "code",
   "execution_count": 7,
   "metadata": {},
   "outputs": [
    {
     "name": "stdout",
     "output_type": "stream",
     "text": [
      "Found 253 images belonging to 2 classes.\n"
     ]
    }
   ],
   "source": [
    "training_set = train_datagen.flow_from_directory('data/training_set',\n",
    "                                                 target_size = (IMAGE_WIDTH, IMAGE_HEIGHT),\n",
    "                                                 batch_size = BATCH_SIZE,\n",
    "                                                 class_mode = 'binary')"
   ]
  },
  {
   "cell_type": "code",
   "execution_count": 8,
   "metadata": {},
   "outputs": [
    {
     "data": {
      "text/plain": [
       "{'matheus': 0, 'naiara': 1}"
      ]
     },
     "execution_count": 8,
     "metadata": {},
     "output_type": "execute_result"
    }
   ],
   "source": [
    "training_set.class_indices"
   ]
  },
  {
   "cell_type": "code",
   "execution_count": 9,
   "metadata": {},
   "outputs": [],
   "source": [
    "test_datagen = ImageDataGenerator(rescale = 1./255)"
   ]
  },
  {
   "cell_type": "code",
   "execution_count": 10,
   "metadata": {},
   "outputs": [
    {
     "name": "stdout",
     "output_type": "stream",
     "text": [
      "Found 84 images belonging to 2 classes.\n"
     ]
    }
   ],
   "source": [
    "test_set = test_datagen.flow_from_directory('data/test_set',\n",
    "                                            target_size = (IMAGE_WIDTH, IMAGE_HEIGHT),\n",
    "                                            batch_size = BATCH_SIZE,\n",
    "                                            class_mode = 'binary')"
   ]
  },
  {
   "cell_type": "code",
   "execution_count": 11,
   "metadata": {},
   "outputs": [
    {
     "name": "stdout",
     "output_type": "stream",
     "text": [
      "WARNING:tensorflow:From /home/naiara/GIT/deeplearningunb/myenv/lib/python3.5/site-packages/tensorflow/python/ops/math_ops.py:3066: to_int32 (from tensorflow.python.ops.math_ops) is deprecated and will be removed in a future version.\n",
      "Instructions for updating:\n",
      "Use tf.cast instead.\n",
      "Epoch 1/25\n",
      "7/7 [==============================] - 24s 3s/step - loss: 0.6994 - acc: 0.4732 - val_loss: 0.6886 - val_acc: 0.5241\n",
      "Epoch 2/25\n",
      "7/7 [==============================] - 19s 3s/step - loss: 0.6966 - acc: 0.4931 - val_loss: 0.6945 - val_acc: 0.5043\n",
      "Epoch 3/25\n",
      "7/7 [==============================] - 21s 3s/step - loss: 0.6590 - acc: 0.6285 - val_loss: 0.7075 - val_acc: 0.5275\n",
      "Epoch 4/25\n",
      "7/7 [==============================] - 21s 3s/step - loss: 0.5686 - acc: 0.6878 - val_loss: 0.7423 - val_acc: 0.5966\n",
      "Epoch 5/25\n",
      "7/7 [==============================] - 21s 3s/step - loss: 0.5688 - acc: 0.7016 - val_loss: 0.6948 - val_acc: 0.5611\n",
      "Epoch 6/25\n",
      "7/7 [==============================] - 21s 3s/step - loss: 0.5389 - acc: 0.7248 - val_loss: 0.7258 - val_acc: 0.6301\n",
      "Epoch 7/25\n",
      "7/7 [==============================] - 22s 3s/step - loss: 0.4932 - acc: 0.7939 - val_loss: 0.7130 - val_acc: 0.5838\n",
      "Epoch 8/25\n",
      "7/7 [==============================] - 20s 3s/step - loss: 0.4044 - acc: 0.8561 - val_loss: 0.7731 - val_acc: 0.5739\n",
      "Epoch 9/25\n",
      "7/7 [==============================] - 20s 3s/step - loss: 0.4229 - acc: 0.7902 - val_loss: 0.7738 - val_acc: 0.5954\n",
      "Epoch 10/25\n",
      "7/7 [==============================] - 20s 3s/step - loss: 0.3768 - acc: 0.8366 - val_loss: 0.7020 - val_acc: 0.6179\n",
      "Epoch 11/25\n",
      "7/7 [==============================] - 22s 3s/step - loss: 0.3268 - acc: 0.8780 - val_loss: 0.6540 - val_acc: 0.7074\n",
      "Epoch 12/25\n",
      "7/7 [==============================] - 25s 4s/step - loss: 0.3314 - acc: 0.8236 - val_loss: 0.7378 - val_acc: 0.6488\n",
      "Epoch 13/25\n",
      "7/7 [==============================] - 22s 3s/step - loss: 0.2655 - acc: 0.8959 - val_loss: 0.7500 - val_acc: 0.6364\n",
      "Epoch 14/25\n",
      "7/7 [==============================] - 22s 3s/step - loss: 0.3079 - acc: 0.8646 - val_loss: 0.7510 - val_acc: 0.7187\n",
      "Epoch 15/25\n",
      "7/7 [==============================] - 23s 3s/step - loss: 0.2641 - acc: 0.9004 - val_loss: 0.6907 - val_acc: 0.6806\n",
      "Epoch 16/25\n",
      "7/7 [==============================] - 24s 3s/step - loss: 0.2300 - acc: 0.9045 - val_loss: 0.7810 - val_acc: 0.7131\n",
      "Epoch 17/25\n",
      "7/7 [==============================] - 23s 3s/step - loss: 0.2929 - acc: 0.8839 - val_loss: 1.1060 - val_acc: 0.7131\n",
      "Epoch 18/25\n",
      "7/7 [==============================] - 21s 3s/step - loss: 0.3301 - acc: 0.8467 - val_loss: 0.7594 - val_acc: 0.7471\n",
      "Epoch 19/25\n",
      "7/7 [==============================] - 21s 3s/step - loss: 0.3075 - acc: 0.8687 - val_loss: 0.7536 - val_acc: 0.7145\n",
      "Epoch 20/25\n",
      "7/7 [==============================] - 22s 3s/step - loss: 0.2181 - acc: 0.9061 - val_loss: 0.9165 - val_acc: 0.7017\n",
      "Epoch 21/25\n",
      "7/7 [==============================] - 21s 3s/step - loss: 0.2464 - acc: 0.8943 - val_loss: 0.9925 - val_acc: 0.6821\n",
      "Epoch 22/25\n",
      "7/7 [==============================] - 40s 6s/step - loss: 0.2005 - acc: 0.9146 - val_loss: 0.7645 - val_acc: 0.7031\n",
      "Epoch 23/25\n",
      "7/7 [==============================] - 35s 5s/step - loss: 0.2563 - acc: 0.8829 - val_loss: 0.8031 - val_acc: 0.7102\n",
      "Epoch 24/25\n",
      "7/7 [==============================] - 19s 3s/step - loss: 0.1619 - acc: 0.9321 - val_loss: 0.6678 - val_acc: 0.7283\n",
      "Epoch 25/25\n",
      "7/7 [==============================] - 20s 3s/step - loss: 0.1227 - acc: 0.9643 - val_loss: 0.7172 - val_acc: 0.7528\n"
     ]
    },
    {
     "data": {
      "text/plain": [
       "<keras.callbacks.History at 0x7fc176a88780>"
      ]
     },
     "execution_count": 11,
     "metadata": {},
     "output_type": "execute_result"
    }
   ],
   "source": [
    "classifier.fit_generator(training_set,\n",
    "                         steps_per_epoch = len(training_set.filenames) // BATCH_SIZE, #STEPS_PER_EPOCH,\n",
    "                         epochs = EPOCHS,\n",
    "                         validation_data = test_set,\n",
    "                         validation_steps = VALIDATION_STEPS)"
   ]
  },
  {
   "cell_type": "code",
   "execution_count": 12,
   "metadata": {},
   "outputs": [
    {
     "name": "stdout",
     "output_type": "stream",
     "text": [
      "_________________________________________________________________\n",
      "Layer (type)                 Output Shape              Param #   \n",
      "=================================================================\n",
      "conv2d_1 (Conv2D)            (None, 62, 62, 32)        896       \n",
      "_________________________________________________________________\n",
      "conv2d_2 (Conv2D)            (None, 60, 60, 32)        9248      \n",
      "_________________________________________________________________\n",
      "max_pooling2d_1 (MaxPooling2 (None, 30, 30, 32)        0         \n",
      "_________________________________________________________________\n",
      "conv2d_3 (Conv2D)            (None, 28, 28, 32)        9248      \n",
      "_________________________________________________________________\n",
      "conv2d_4 (Conv2D)            (None, 26, 26, 32)        9248      \n",
      "_________________________________________________________________\n",
      "max_pooling2d_2 (MaxPooling2 (None, 13, 13, 32)        0         \n",
      "_________________________________________________________________\n",
      "flatten_1 (Flatten)          (None, 5408)              0         \n",
      "_________________________________________________________________\n",
      "dense_1 (Dense)              (None, 128)               692352    \n",
      "_________________________________________________________________\n",
      "dense_2 (Dense)              (None, 1)                 129       \n",
      "=================================================================\n",
      "Total params: 721,121\n",
      "Trainable params: 721,121\n",
      "Non-trainable params: 0\n",
      "_________________________________________________________________\n"
     ]
    }
   ],
   "source": [
    "classifier.summary()"
   ]
  },
  {
   "cell_type": "code",
   "execution_count": 14,
   "metadata": {},
   "outputs": [
    {
     "data": {
      "text/plain": [
       "[0.7244904511581266, 0.7471098269341309]"
      ]
     },
     "execution_count": 14,
     "metadata": {},
     "output_type": "execute_result"
    }
   ],
   "source": [
    "classifier.evaluate_generator(generator=test_set, steps=VALIDATION_STEPS)"
   ]
  },
  {
   "cell_type": "code",
   "execution_count": 162,
   "metadata": {},
   "outputs": [],
   "source": [
    "loss, metric = classifier.evaluate_generator(generator=test_set, steps=VALIDATION_STEPS)"
   ]
  },
  {
   "cell_type": "code",
   "execution_count": 163,
   "metadata": {},
   "outputs": [
    {
     "name": "stdout",
     "output_type": "stream",
     "text": [
      "loss: 0.7477634489874948\n",
      "acc: 0.7315340898931026\n"
     ]
    }
   ],
   "source": [
    "print('loss:', loss)\n",
    "print('acc:', metric)"
   ]
  },
  {
   "cell_type": "code",
   "execution_count": 154,
   "metadata": {},
   "outputs": [],
   "source": [
    "test = image.load_img('./data/single_prediction/matheus-naiara-05.jpg', target_size=(IMAGE_WIDTH, IMAGE_HEIGHT))"
   ]
  },
  {
   "cell_type": "code",
   "execution_count": 155,
   "metadata": {},
   "outputs": [],
   "source": [
    "test = image.img_to_array(test)\n",
    "test = np.expand_dims(test, axis=0)"
   ]
  },
  {
   "cell_type": "code",
   "execution_count": 156,
   "metadata": {},
   "outputs": [],
   "source": [
    "classes = classifier.predict_classes(test)"
   ]
  },
  {
   "cell_type": "code",
   "execution_count": 157,
   "metadata": {},
   "outputs": [
    {
     "data": {
      "text/plain": [
       "array([[0]], dtype=int32)"
      ]
     },
     "execution_count": 157,
     "metadata": {},
     "output_type": "execute_result"
    }
   ],
   "source": [
    "classes"
   ]
  },
  {
   "cell_type": "code",
   "execution_count": 15,
   "metadata": {},
   "outputs": [
    {
     "data": {
      "image/png": "[encoded data removed]",
      "text/plain": [
       "<Figure size 432x288 with 1 Axes>"
      ]
     },
     "metadata": {
      "needs_background": "light"
     },
     "output_type": "display_data"
    }
   ],
   "source": [
    "# With TANH\n",
    "# summarize history for accuracy\n",
    "plt.plot(classifier.history.history['acc'])\n",
    "plt.plot(classifier.history.history['val_acc'])\n",
    "plt.title('model accuracy')\n",
    "plt.ylabel('accuracy')\n",
    "plt.xlabel('epoch')\n",
    "plt.legend(['train', 'test'], loc='upper left')\n",
    "plt.show()"
   ]
  },
  {
   "cell_type": "code",
   "execution_count": 160,
   "metadata": {},
   "outputs": [
    {
     "data": {
      "image/png": "[encoded data removed]",
      "text/plain": [
       "<Figure size 432x288 with 1 Axes>"
      ]
     },
     "metadata": {
      "needs_background": "light"
     },
     "output_type": "display_data"
    }
   ],
   "source": [
    "# summarize history for accuracy\n",
    "plt.plot(classifier.history.history['acc'])\n",
    "plt.plot(classifier.history.history['val_acc'])\n",
    "plt.title('model accuracy')\n",
    "plt.ylabel('accuracy')\n",
    "plt.xlabel('epoch')\n",
    "plt.legend(['train', 'test'], loc='upper left')\n",
    "plt.show()"
   ]
  },
  {
   "cell_type": "code",
   "execution_count": 16,
   "metadata": {},
   "outputs": [
    {
     "data": {
      "image/png": "[encoded data removed]",
      "text/plain": [
       "<Figure size 432x288 with 1 Axes>"
      ]
     },
     "metadata": {
      "needs_background": "light"
     },
     "output_type": "display_data"
    }
   ],
   "source": [
    "# WITH TANH\n",
    "# summarize history for loss\n",
    "plt.plot(classifier.history.history['loss'])\n",
    "plt.plot(classifier.history.history['val_loss'])\n",
    "plt.title('model loss')\n",
    "plt.ylabel('loss')\n",
    "plt.xlabel('epoch')\n",
    "plt.legend(['train', 'test'], loc='upper left')\n",
    "plt.show()"
   ]
  },
  {
   "cell_type": "code",
   "execution_count": 161,
   "metadata": {},
   "outputs": [
    {
     "data": {
      "image/png": "[encoded data removed]",
      "text/plain": [
       "<Figure size 432x288 with 1 Axes>"
      ]
     },
     "metadata": {
      "needs_background": "light"
     },
     "output_type": "display_data"
    }
   ],
   "source": [
    "# summarize history for loss\n",
    "plt.plot(classifier.history.history['loss'])\n",
    "plt.plot(classifier.history.history['val_loss'])\n",
    "plt.title('model loss')\n",
    "plt.ylabel('loss')\n",
    "plt.xlabel('epoch')\n",
    "plt.legend(['train', 'test'], loc='upper left')\n",
    "plt.show()"
   ]
  },
  {
   "cell_type": "code",
   "execution_count": null,
   "metadata": {},
   "outputs": [],
   "source": []
  }
 ],
 "metadata": {
  "kernelspec": {
   "display_name": "Python 3",
   "language": "python",
   "name": "python3"
  },
  "language_info": {
   "codemirror_mode": {
    "name": "ipython",
    "version": 3
   },
   "file_extension": ".py",
   "mimetype": "text/x-python",
   "name": "python",
   "nbconvert_exporter": "python",
   "pygments_lexer": "ipython3",
   "version": "3.5.2"
  }
 },
 "nbformat": 4,
 "nbformat_minor": 2
}
