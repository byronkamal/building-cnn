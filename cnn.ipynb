{
 "cells": [
  {
   "cell_type": "code",
   "execution_count": 4,
   "metadata": {},
   "outputs": [
    {
     "name": "stderr",
     "output_type": "stream",
     "text": [
      "Using TensorFlow backend.\n"
     ]
    }
   ],
   "source": [
    "# Importing the Keras libraries and packages\n",
    "from keras.models import Sequential\n",
    "from keras.layers import Conv2D\n",
    "from keras.layers import MaxPooling2D\n",
    "from keras.layers import Flatten\n",
    "from keras.layers import Dense\n",
    "from keras.preprocessing import image\n",
    "import numpy as np\n",
    "import matplotlib.pyplot as plt"
   ]
  },
  {
   "cell_type": "code",
   "execution_count": 164,
   "metadata": {},
   "outputs": [],
   "source": [
    "IMAGE_WIDTH = 64\n",
    "IMAGE_HEIGHT = 64 \n",
    "VALIDATION_STEPS = 25\n",
    "BATCH_SIZE = 32\n",
    "EPOCHS = 25\n",
    "STEPS_PER_EPOCH = 100"
   ]
  },
  {
   "cell_type": "code",
   "execution_count": 139,
   "metadata": {},
   "outputs": [],
   "source": [
    "# Initialising the CNN\n",
    "classifier = Sequential()\n",
    "\n",
    "# Step 1 - Convolution\n",
    "classifier.add(Conv2D(32, (3, 3), input_shape = (IMAGE_WIDTH, IMAGE_HEIGHT, 3), activation = 'relu'))\n",
    "classifier.add(Conv2D(32, (3, 3), activation = 'relu'))\n",
    "\n",
    "# Step 2 - Pooling\n",
    "classifier.add(MaxPooling2D(pool_size = (2, 2)))\n",
    "\n",
    "# Adding a second convolutional layer\n",
    "classifier.add(Conv2D(32, (3, 3), activation = 'relu'))\n",
    "classifier.add(Conv2D(32, (3, 3), activation = 'relu'))\n",
    "classifier.add(MaxPooling2D(pool_size = (2, 2)))\n",
    "\n",
    "# Step 3 - Flattening\n",
    "classifier.add(Flatten())\n",
    "\n",
    "# Step 4 - Full connection\n",
    "classifier.add(Dense(units = 128, activation = 'relu'))\n",
    "classifier.add(Dense(units = 1, activation = 'sigmoid'))"
   ]
  },
  {
   "cell_type": "code",
   "execution_count": 140,
   "metadata": {},
   "outputs": [],
   "source": [
    "# Compiling the CNN\n",
    "classifier.compile(optimizer = 'adam', loss = 'binary_crossentropy', metrics = ['accuracy'])"
   ]
  },
  {
   "cell_type": "code",
   "execution_count": 141,
   "metadata": {},
   "outputs": [],
   "source": [
    "# Part 2 - Fitting the CNN to the images\n",
    "\n",
    "from keras.preprocessing.image import ImageDataGenerator"
   ]
  },
  {
   "cell_type": "code",
   "execution_count": 142,
   "metadata": {},
   "outputs": [],
   "source": [
    "train_datagen = ImageDataGenerator(rescale = 1./255,\n",
    "                                   shear_range = 0.2,\n",
    "                                   zoom_range = 0.2,\n",
    "                                   horizontal_flip = True)"
   ]
  },
  {
   "cell_type": "code",
   "execution_count": 143,
   "metadata": {},
   "outputs": [
    {
     "name": "stdout",
     "output_type": "stream",
     "text": [
      "Found 253 images belonging to 2 classes.\n"
     ]
    }
   ],
   "source": [
    "training_set = train_datagen.flow_from_directory('data/training_set',\n",
    "                                                 target_size = (IMAGE_WIDTH, IMAGE_HEIGHT),\n",
    "                                                 batch_size = BATCH_SIZE,\n",
    "                                                 class_mode = 'binary')"
   ]
  },
  {
   "cell_type": "code",
   "execution_count": 144,
   "metadata": {},
   "outputs": [
    {
     "data": {
      "text/plain": [
       "{'matheus': 0, 'naiara': 1}"
      ]
     },
     "execution_count": 144,
     "metadata": {},
     "output_type": "execute_result"
    }
   ],
   "source": [
    "training_set.class_indices"
   ]
  },
  {
   "cell_type": "code",
   "execution_count": 145,
   "metadata": {},
   "outputs": [],
   "source": [
    "test_datagen = ImageDataGenerator(rescale = 1./255)"
   ]
  },
  {
   "cell_type": "code",
   "execution_count": 146,
   "metadata": {},
   "outputs": [
    {
     "name": "stdout",
     "output_type": "stream",
     "text": [
      "Found 84 images belonging to 2 classes.\n"
     ]
    }
   ],
   "source": [
    "test_set = test_datagen.flow_from_directory('data/test_set',\n",
    "                                            target_size = (IMAGE_WIDTH, IMAGE_HEIGHT),\n",
    "                                            batch_size = BATCH_SIZE,\n",
    "                                            class_mode = 'binary')"
   ]
  },
  {
   "cell_type": "code",
   "execution_count": 147,
   "metadata": {},
   "outputs": [
    {
     "name": "stdout",
     "output_type": "stream",
     "text": [
      "Epoch 1/25\n",
      "7/7 [==============================] - 23s 3s/step - loss: 0.6959 - acc: 0.5223 - val_loss: 0.6902 - val_acc: 0.5710\n",
      "Epoch 2/25\n",
      "7/7 [==============================] - 20s 3s/step - loss: 0.6621 - acc: 0.6317 - val_loss: 0.8275 - val_acc: 0.5057\n",
      "Epoch 3/25\n",
      "7/7 [==============================] - 18s 3s/step - loss: 0.6368 - acc: 0.6325 - val_loss: 0.7082 - val_acc: 0.5173\n",
      "Epoch 4/25\n",
      "7/7 [==============================] - 19s 3s/step - loss: 0.6672 - acc: 0.5951 - val_loss: 0.7112 - val_acc: 0.5227\n",
      "Epoch 5/25\n",
      "7/7 [==============================] - 19s 3s/step - loss: 0.5953 - acc: 0.6748 - val_loss: 0.6748 - val_acc: 0.5497\n",
      "Epoch 6/25\n",
      "7/7 [==============================] - 19s 3s/step - loss: 0.5203 - acc: 0.7602 - val_loss: 0.7719 - val_acc: 0.5723\n",
      "Epoch 7/25\n",
      "7/7 [==============================] - 19s 3s/step - loss: 0.5095 - acc: 0.7504 - val_loss: 0.7084 - val_acc: 0.5824\n",
      "Epoch 8/25\n",
      "7/7 [==============================] - 19s 3s/step - loss: 0.4805 - acc: 0.8016 - val_loss: 0.7158 - val_acc: 0.6080\n",
      "Epoch 9/25\n",
      "7/7 [==============================] - 18s 3s/step - loss: 0.4730 - acc: 0.7812 - val_loss: 0.7574 - val_acc: 0.6199\n",
      "Epoch 10/25\n",
      "7/7 [==============================] - 19s 3s/step - loss: 0.4489 - acc: 0.7919 - val_loss: 0.6977 - val_acc: 0.5838\n",
      "Epoch 11/25\n",
      "7/7 [==============================] - 19s 3s/step - loss: 0.4385 - acc: 0.7842 - val_loss: 0.6570 - val_acc: 0.6108\n",
      "Epoch 12/25\n",
      "7/7 [==============================] - 19s 3s/step - loss: 0.3937 - acc: 0.8451 - val_loss: 0.6518 - val_acc: 0.5925\n",
      "Epoch 13/25\n",
      "7/7 [==============================] - 19s 3s/step - loss: 0.3020 - acc: 0.8772 - val_loss: 0.6997 - val_acc: 0.6534\n",
      "Epoch 14/25\n",
      "7/7 [==============================] - 20s 3s/step - loss: 0.3549 - acc: 0.8508 - val_loss: 0.6912 - val_acc: 0.6562\n",
      "Epoch 15/25\n",
      "7/7 [==============================] - 18s 3s/step - loss: 0.2741 - acc: 0.8996 - val_loss: 0.7330 - val_acc: 0.6199\n",
      "Epoch 16/25\n",
      "7/7 [==============================] - 19s 3s/step - loss: 0.2861 - acc: 0.8878 - val_loss: 0.6653 - val_acc: 0.6918\n",
      "Epoch 17/25\n",
      "7/7 [==============================] - 19s 3s/step - loss: 0.2423 - acc: 0.9062 - val_loss: 0.6584 - val_acc: 0.6634\n",
      "Epoch 18/25\n",
      "7/7 [==============================] - 19s 3s/step - loss: 0.2086 - acc: 0.9280 - val_loss: 0.7694 - val_acc: 0.6532\n",
      "Epoch 19/25\n",
      "7/7 [==============================] - 19s 3s/step - loss: 0.1958 - acc: 0.9187 - val_loss: 0.7754 - val_acc: 0.7031\n",
      "Epoch 20/25\n",
      "7/7 [==============================] - 19s 3s/step - loss: 0.1638 - acc: 0.9463 - val_loss: 0.7603 - val_acc: 0.7074\n",
      "Epoch 21/25\n",
      "7/7 [==============================] - 18s 3s/step - loss: 0.2214 - acc: 0.9232 - val_loss: 0.6718 - val_acc: 0.7052\n",
      "Epoch 22/25\n",
      "7/7 [==============================] - 19s 3s/step - loss: 0.1743 - acc: 0.9317 - val_loss: 0.7499 - val_acc: 0.7244\n",
      "Epoch 23/25\n",
      "7/7 [==============================] - 19s 3s/step - loss: 0.1534 - acc: 0.9459 - val_loss: 0.7201 - val_acc: 0.6960\n",
      "Epoch 24/25\n",
      "7/7 [==============================] - 18s 3s/step - loss: 0.1527 - acc: 0.9366 - val_loss: 0.8207 - val_acc: 0.7601\n",
      "Epoch 25/25\n",
      "7/7 [==============================] - 19s 3s/step - loss: 0.1540 - acc: 0.9330 - val_loss: 0.7328 - val_acc: 0.7315\n"
     ]
    },
    {
     "data": {
      "text/plain": [
       "<keras.callbacks.History at 0x7fa11eff1dd8>"
      ]
     },
     "execution_count": 147,
     "metadata": {},
     "output_type": "execute_result"
    }
   ],
   "source": [
    "classifier.fit_generator(training_set,\n",
    "                         steps_per_epoch = len(training_set.filenames) // BATCH_SIZE, #STEPS_PER_EPOCH,\n",
    "                         epochs = EPOCHS,\n",
    "                         validation_data = test_set,\n",
    "                         validation_steps = VALIDATION_STEPS)"
   ]
  },
  {
   "cell_type": "code",
   "execution_count": 148,
   "metadata": {},
   "outputs": [
    {
     "name": "stdout",
     "output_type": "stream",
     "text": [
      "_________________________________________________________________\n",
      "Layer (type)                 Output Shape              Param #   \n",
      "=================================================================\n",
      "conv2d_12 (Conv2D)           (None, 62, 62, 32)        896       \n",
      "_________________________________________________________________\n",
      "conv2d_13 (Conv2D)           (None, 60, 60, 32)        9248      \n",
      "_________________________________________________________________\n",
      "max_pooling2d_9 (MaxPooling2 (None, 30, 30, 32)        0         \n",
      "_________________________________________________________________\n",
      "conv2d_14 (Conv2D)           (None, 28, 28, 32)        9248      \n",
      "_________________________________________________________________\n",
      "conv2d_15 (Conv2D)           (None, 26, 26, 32)        9248      \n",
      "_________________________________________________________________\n",
      "max_pooling2d_10 (MaxPooling (None, 13, 13, 32)        0         \n",
      "_________________________________________________________________\n",
      "flatten_5 (Flatten)          (None, 5408)              0         \n",
      "_________________________________________________________________\n",
      "dense_9 (Dense)              (None, 128)               692352    \n",
      "_________________________________________________________________\n",
      "dense_10 (Dense)             (None, 1)                 129       \n",
      "=================================================================\n",
      "Total params: 721,121\n",
      "Trainable params: 721,121\n",
      "Non-trainable params: 0\n",
      "_________________________________________________________________\n"
     ]
    }
   ],
   "source": [
    "classifier.summary()"
   ]
  },
  {
   "cell_type": "code",
   "execution_count": 149,
   "metadata": {},
   "outputs": [
    {
     "data": {
      "text/plain": [
       "[0.7573973588171722, 0.7225433532902271]"
      ]
     },
     "execution_count": 149,
     "metadata": {},
     "output_type": "execute_result"
    }
   ],
   "source": [
    "classifier.evaluate_generator(generator=test_set, steps=validation_steps)"
   ]
  },
  {
   "cell_type": "code",
   "execution_count": 162,
   "metadata": {},
   "outputs": [],
   "source": [
    "loss, metric = classifier.evaluate_generator(generator=test_set, steps=validation_steps)"
   ]
  },
  {
   "cell_type": "code",
   "execution_count": 163,
   "metadata": {},
   "outputs": [
    {
     "name": "stdout",
     "output_type": "stream",
     "text": [
      "loss: 0.7477634489874948\n",
      "acc: 0.7315340898931026\n"
     ]
    }
   ],
   "source": [
    "print('loss:', loss)\n",
    "print('acc:', metric)"
   ]
  },
  {
   "cell_type": "code",
   "execution_count": 154,
   "metadata": {},
   "outputs": [],
   "source": [
    "test = image.load_img('./data/single_prediction/matheus-naiara-05.jpg', target_size=(IMAGE_WIDTH, IMAGE_HEIGHT))"
   ]
  },
  {
   "cell_type": "code",
   "execution_count": 155,
   "metadata": {},
   "outputs": [],
   "source": [
    "test = image.img_to_array(test)\n",
    "test = np.expand_dims(test, axis=0)"
   ]
  },
  {
   "cell_type": "code",
   "execution_count": 156,
   "metadata": {},
   "outputs": [],
   "source": [
    "classes = classifier.predict_classes(test)"
   ]
  },
  {
   "cell_type": "code",
   "execution_count": 157,
   "metadata": {},
   "outputs": [
    {
     "data": {
      "text/plain": [
       "array([[0]], dtype=int32)"
      ]
     },
     "execution_count": 157,
     "metadata": {},
     "output_type": "execute_result"
    }
   ],
   "source": [
    "classes"
   ]
  },
  {
   "cell_type": "code",
   "execution_count": 160,
   "metadata": {},
   "outputs": [
    {
     "data": {
      "image/png": "[encoded data removed]",
      "text/plain": [
       "<Figure size 432x288 with 1 Axes>"
      ]
     },
     "metadata": {
      "needs_background": "light"
     },
     "output_type": "display_data"
    }
   ],
   "source": [
    "# summarize history for accuracy\n",
    "plt.plot(classifier.history.history['acc'])\n",
    "plt.plot(classifier.history.history['val_acc'])\n",
    "plt.title('model accuracy')\n",
    "plt.ylabel('accuracy')\n",
    "plt.xlabel('epoch')\n",
    "plt.legend(['train', 'test'], loc='upper left')\n",
    "plt.show()"
   ]
  },
  {
   "cell_type": "code",
   "execution_count": 161,
   "metadata": {},
   "outputs": [
    {
     "data": {
      "image/png": "[encoded data removed]",
      "text/plain": [
       "<Figure size 432x288 with 1 Axes>"
      ]
     },
     "metadata": {
      "needs_background": "light"
     },
     "output_type": "display_data"
    }
   ],
   "source": [
    "# summarize history for loss\n",
    "plt.plot(classifier.history.history['loss'])\n",
    "plt.plot(classifier.history.history['val_loss'])\n",
    "plt.title('model loss')\n",
    "plt.ylabel('loss')\n",
    "plt.xlabel('epoch')\n",
    "plt.legend(['train', 'test'], loc='upper left')\n",
    "plt.show()"
   ]
  },
  {
   "cell_type": "code",
   "execution_count": null,
   "metadata": {},
   "outputs": [],
   "source": []
  }
 ],
 "metadata": {
  "kernelspec": {
   "display_name": "Python 3",
   "language": "python",
   "name": "python3"
  },
  "language_info": {
   "codemirror_mode": {
    "name": "ipython",
    "version": 3
   },
   "file_extension": ".py",
   "mimetype": "text/x-python",
   "name": "python",
   "nbconvert_exporter": "python",
   "pygments_lexer": "ipython3",
   "version": "3.5.2"
  }
 },
 "nbformat": 4,
 "nbformat_minor": 2
}
