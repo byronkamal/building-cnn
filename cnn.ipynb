{
 "cells": [
  {
   "cell_type": "code",
   "execution_count": 1,
   "metadata": {},
   "outputs": [
    {
     "name": "stderr",
     "output_type": "stream",
     "text": [
      "Using TensorFlow backend.\n"
     ]
    }
   ],
   "source": [
    "# Part 1 - Building the CNN\n",
    "\n",
    "# Importing the Keras libraries and packages\n",
    "from keras.models import Sequential\n",
    "from keras.layers import Conv2D\n",
    "from keras.layers import MaxPooling2D\n",
    "from keras.layers import Flatten\n",
    "from keras.layers import Dense"
   ]
  },
  {
   "cell_type": "code",
   "execution_count": 2,
   "metadata": {},
   "outputs": [
    {
     "name": "stdout",
     "output_type": "stream",
     "text": [
      "WARNING:tensorflow:From /home/fabdebian/anaconda3/lib/python3.7/site-packages/tensorflow/python/framework/op_def_library.py:263: colocate_with (from tensorflow.python.framework.ops) is deprecated and will be removed in a future version.\n",
      "Instructions for updating:\n",
      "Colocations handled automatically by placer.\n"
     ]
    }
   ],
   "source": [
    "# Initialising the CNN\n",
    "classifier = Sequential()\n",
    "\n",
    "# Step 1 - Convolution\n",
    "classifier.add(Conv2D(32, (3, 3), input_shape = (64, 64, 3), activation = 'relu'))\n",
    "classifier.add(Conv2D(32, (3, 3), activation = 'relu'))\n",
    "\n",
    "# Step 2 - Pooling\n",
    "classifier.add(MaxPooling2D(pool_size = (2, 2)))\n",
    "\n",
    "# Adding a second convolutional layer\n",
    "classifier.add(Conv2D(32, (3, 3), activation = 'relu'))\n",
    "classifier.add(Conv2D(32, (3, 3), activation = 'relu'))\n",
    "classifier.add(MaxPooling2D(pool_size = (2, 2)))\n",
    "\n",
    "# Step 3 - Flattening\n",
    "classifier.add(Flatten())\n",
    "\n",
    "# Step 4 - Full connection\n",
    "classifier.add(Dense(units = 128, activation = 'relu'))\n",
    "classifier.add(Dense(units = 1, activation = 'sigmoid'))\n",
    "\n",
    "# Compiling the CNN\n",
    "classifier.compile(optimizer = 'adam', loss = 'binary_crossentropy', metrics = ['accuracy'])"
   ]
  },
  {
   "cell_type": "code",
   "execution_count": 3,
   "metadata": {},
   "outputs": [],
   "source": [
    "# Part 2 - Fitting the CNN to the images\n",
    "\n",
    "from keras.preprocessing.image import ImageDataGenerator\n",
    "\n",
    "train_datagen = ImageDataGenerator(rescale = 1./255,\n",
    "                                   shear_range = 0.2,\n",
    "                                   zoom_range = 0.2,\n",
    "                                   horizontal_flip = True)\n",
    "\n",
    "test_datagen = ImageDataGenerator(rescale = 1./255)"
   ]
  },
  {
   "cell_type": "code",
   "execution_count": 4,
   "metadata": {},
   "outputs": [
    {
     "name": "stdout",
     "output_type": "stream",
     "text": [
      "Found 8000 images belonging to 2 classes.\n",
      "Found 2000 images belonging to 2 classes.\n"
     ]
    }
   ],
   "source": [
    "training_set = train_datagen.flow_from_directory('dataset/training_set',\n",
    "                                                 target_size = (64, 64),\n",
    "                                                 batch_size = 32,\n",
    "                                                 class_mode = 'binary')\n",
    "\n",
    "test_set = test_datagen.flow_from_directory('dataset/test_set',\n",
    "                                            target_size = (64, 64),\n",
    "                                            batch_size = 32,\n",
    "                                            class_mode = 'binary')"
   ]
  },
  {
   "cell_type": "code",
   "execution_count": 5,
   "metadata": {},
   "outputs": [
    {
     "name": "stdout",
     "output_type": "stream",
     "text": [
      "WARNING:tensorflow:From /home/fabdebian/anaconda3/lib/python3.7/site-packages/tensorflow/python/ops/math_ops.py:3066: to_int32 (from tensorflow.python.ops.math_ops) is deprecated and will be removed in a future version.\n",
      "Instructions for updating:\n",
      "Use tf.cast instead.\n",
      "Epoch 1/25\n",
      "8000/8000 [==============================] - 2243s 280ms/step - loss: 0.3371 - acc: 0.8413 - val_loss: 0.4992 - val_acc: 0.8464\n",
      "Epoch 2/25\n",
      "8000/8000 [==============================] - 2205s 276ms/step - loss: 0.0933 - acc: 0.9645 - val_loss: 0.8076 - val_acc: 0.8280\n",
      "Epoch 3/25\n",
      "8000/8000 [==============================] - 2207s 276ms/step - loss: 0.0531 - acc: 0.9812 - val_loss: 0.8570 - val_acc: 0.8366\n",
      "Epoch 4/25\n",
      "8000/8000 [==============================] - 2212s 277ms/step - loss: 0.0391 - acc: 0.9866 - val_loss: 0.9823 - val_acc: 0.8305\n",
      "Epoch 5/25\n",
      "8000/8000 [==============================] - 2214s 277ms/step - loss: 0.0321 - acc: 0.9892 - val_loss: 1.0097 - val_acc: 0.8401\n",
      "Epoch 6/25\n",
      "8000/8000 [==============================] - 2213s 277ms/step - loss: 0.0267 - acc: 0.9911 - val_loss: 1.0521 - val_acc: 0.8258\n",
      "Epoch 7/25\n",
      "8000/8000 [==============================] - 2210s 276ms/step - loss: 0.0233 - acc: 0.9924 - val_loss: 1.0605 - val_acc: 0.8458\n",
      "Epoch 8/25\n",
      "8000/8000 [==============================] - 2210s 276ms/step - loss: 0.0224 - acc: 0.9929 - val_loss: 1.0594 - val_acc: 0.8315\n",
      "Epoch 9/25\n",
      "8000/8000 [==============================] - 2212s 276ms/step - loss: 0.0200 - acc: 0.9933 - val_loss: 1.2757 - val_acc: 0.8167\n",
      "Epoch 10/25\n",
      "8000/8000 [==============================] - 2213s 277ms/step - loss: 0.0190 - acc: 0.9940 - val_loss: 1.0174 - val_acc: 0.8361\n",
      "Epoch 11/25\n",
      "8000/8000 [==============================] - 2214s 277ms/step - loss: 0.0176 - acc: 0.9945 - val_loss: 1.1278 - val_acc: 0.8382\n",
      "Epoch 12/25\n",
      "8000/8000 [==============================] - 2214s 277ms/step - loss: 0.0172 - acc: 0.9945 - val_loss: 1.2238 - val_acc: 0.8248\n",
      "Epoch 13/25\n",
      "8000/8000 [==============================] - 2214s 277ms/step - loss: 0.0163 - acc: 0.9948 - val_loss: 1.3434 - val_acc: 0.8428\n",
      "Epoch 14/25\n",
      "8000/8000 [==============================] - 2214s 277ms/step - loss: 0.0157 - acc: 0.9954 - val_loss: 1.3247 - val_acc: 0.8314\n",
      "Epoch 15/25\n",
      "8000/8000 [==============================] - 2215s 277ms/step - loss: 0.0161 - acc: 0.9949 - val_loss: 1.4948 - val_acc: 0.8163\n",
      "Epoch 16/25\n",
      "8000/8000 [==============================] - 2216s 277ms/step - loss: 0.0155 - acc: 0.9954 - val_loss: 1.2994 - val_acc: 0.8370\n",
      "Epoch 17/25\n",
      "8000/8000 [==============================] - 2216s 277ms/step - loss: 0.0155 - acc: 0.9955 - val_loss: 1.2105 - val_acc: 0.8420\n",
      "Epoch 18/25\n",
      "8000/8000 [==============================] - 2218s 277ms/step - loss: 0.0152 - acc: 0.9958 - val_loss: 1.2863 - val_acc: 0.8359\n",
      "Epoch 19/25\n",
      "8000/8000 [==============================] - 2218s 277ms/step - loss: 0.0147 - acc: 0.9958 - val_loss: 1.3872 - val_acc: 0.8354\n",
      "Epoch 20/25\n",
      "8000/8000 [==============================] - 2219s 277ms/step - loss: 0.0148 - acc: 0.9958 - val_loss: 1.4595 - val_acc: 0.8362\n",
      "Epoch 21/25\n",
      "8000/8000 [==============================] - 2219s 277ms/step - loss: 0.0152 - acc: 0.9958 - val_loss: 1.4978 - val_acc: 0.8320\n",
      "Epoch 22/25\n",
      "8000/8000 [==============================] - 2219s 277ms/step - loss: 0.0157 - acc: 0.9958 - val_loss: 1.5361 - val_acc: 0.8338\n",
      "Epoch 23/25\n",
      "8000/8000 [==============================] - 2220s 277ms/step - loss: 0.0146 - acc: 0.9962 - val_loss: 1.5653 - val_acc: 0.8226\n",
      "Epoch 24/25\n",
      "8000/8000 [==============================] - 2229s 279ms/step - loss: 0.0162 - acc: 0.9959 - val_loss: 1.4760 - val_acc: 0.8345\n",
      "Epoch 25/25\n",
      "8000/8000 [==============================] - 2215s 277ms/step - loss: 0.0153 - acc: 0.9961 - val_loss: 1.4690 - val_acc: 0.8384\n"
     ]
    },
    {
     "data": {
      "text/plain": [
       "<keras.callbacks.History at 0x7f3e4c45f198>"
      ]
     },
     "execution_count": 5,
     "metadata": {},
     "output_type": "execute_result"
    }
   ],
   "source": [
    "classifier.fit_generator(training_set,\n",
    "                         steps_per_epoch = 8000,\n",
    "                         epochs = 25,\n",
    "                         validation_data = test_set,\n",
    "                         validation_steps = 2000)"
   ]
  },
  {
   "cell_type": "code",
   "execution_count": 7,
   "metadata": {},
   "outputs": [],
   "source": [
    "loss, acc = classifier.evaluate_generator(generator=test_set, steps=25)"
   ]
  },
  {
   "cell_type": "code",
   "execution_count": 8,
   "metadata": {},
   "outputs": [
    {
     "name": "stdout",
     "output_type": "stream",
     "text": [
      "loss: 1.3659058906594101\n",
      "acc: 0.8367346938775511\n"
     ]
    }
   ],
   "source": [
    "print('loss:', loss)\n",
    "print('acc:', acc)"
   ]
  },
  {
   "cell_type": "code",
   "execution_count": null,
   "metadata": {},
   "outputs": [],
   "source": []
  }
 ],
 "metadata": {
  "kernelspec": {
   "display_name": "Python 3",
   "language": "python",
   "name": "python3"
  },
  "language_info": {
   "codemirror_mode": {
    "name": "ipython",
    "version": 3
   },
   "file_extension": ".py",
   "mimetype": "text/x-python",
   "name": "python",
   "nbconvert_exporter": "python",
   "pygments_lexer": "ipython3",
   "version": "3.7.3"
  }
 },
 "nbformat": 4,
 "nbformat_minor": 2
}
