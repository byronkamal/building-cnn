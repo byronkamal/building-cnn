{
 "cells": [
  {
   "cell_type": "code",
   "execution_count": 1,
   "metadata": {},
   "outputs": [
    {
     "name": "stdout",
     "output_type": "stream",
     "text": [
      "Requirement already satisfied: tensorflow==1.13.1 in /home/administradora/anaconda3/lib/python3.7/site-packages (from -r requirements.txt (line 1)) (1.13.1)\n",
      "Requirement already satisfied: numpy==1.16.2 in /home/administradora/anaconda3/lib/python3.7/site-packages (from -r requirements.txt (line 2)) (1.16.2)\n",
      "Requirement already satisfied: pandas==0.24.2 in /home/administradora/anaconda3/lib/python3.7/site-packages (from -r requirements.txt (line 3)) (0.24.2)\n",
      "Requirement already satisfied: matplotlib==3.0.3 in /home/administradora/anaconda3/lib/python3.7/site-packages (from -r requirements.txt (line 4)) (3.0.3)\n",
      "Requirement already satisfied: Keras==2.2.4 in /home/administradora/anaconda3/lib/python3.7/site-packages (from -r requirements.txt (line 5)) (2.2.4)\n",
      "Requirement already satisfied: sklearn==0.0 in /home/administradora/anaconda3/lib/python3.7/site-packages (from -r requirements.txt (line 6)) (0.0)\n",
      "Requirement already satisfied: protobuf>=3.6.1 in /home/administradora/anaconda3/lib/python3.7/site-packages (from tensorflow==1.13.1->-r requirements.txt (line 1)) (3.10.0)\n",
      "Requirement already satisfied: keras-applications>=1.0.6 in /home/administradora/anaconda3/lib/python3.7/site-packages (from tensorflow==1.13.1->-r requirements.txt (line 1)) (1.0.8)\n",
      "Requirement already satisfied: tensorflow-estimator<1.14.0rc0,>=1.13.0 in /home/administradora/anaconda3/lib/python3.7/site-packages (from tensorflow==1.13.1->-r requirements.txt (line 1)) (1.13.0)\n",
      "Requirement already satisfied: absl-py>=0.1.6 in /home/administradora/anaconda3/lib/python3.7/site-packages (from tensorflow==1.13.1->-r requirements.txt (line 1)) (0.8.1)\n",
      "Requirement already satisfied: gast>=0.2.0 in /home/administradora/anaconda3/lib/python3.7/site-packages (from tensorflow==1.13.1->-r requirements.txt (line 1)) (0.2.2)\n",
      "Requirement already satisfied: tensorboard<1.14.0,>=1.13.0 in /home/administradora/anaconda3/lib/python3.7/site-packages (from tensorflow==1.13.1->-r requirements.txt (line 1)) (1.13.1)\n",
      "Requirement already satisfied: six>=1.10.0 in /home/administradora/anaconda3/lib/python3.7/site-packages (from tensorflow==1.13.1->-r requirements.txt (line 1)) (1.12.0)\n",
      "Requirement already satisfied: termcolor>=1.1.0 in /home/administradora/anaconda3/lib/python3.7/site-packages (from tensorflow==1.13.1->-r requirements.txt (line 1)) (1.1.0)\n",
      "Requirement already satisfied: grpcio>=1.8.6 in /home/administradora/anaconda3/lib/python3.7/site-packages (from tensorflow==1.13.1->-r requirements.txt (line 1)) (1.25.0)\n",
      "Requirement already satisfied: keras-preprocessing>=1.0.5 in /home/administradora/anaconda3/lib/python3.7/site-packages (from tensorflow==1.13.1->-r requirements.txt (line 1)) (1.1.0)\n",
      "Requirement already satisfied: astor>=0.6.0 in /home/administradora/anaconda3/lib/python3.7/site-packages (from tensorflow==1.13.1->-r requirements.txt (line 1)) (0.8.0)\n",
      "Requirement already satisfied: wheel>=0.26 in /home/administradora/anaconda3/lib/python3.7/site-packages (from tensorflow==1.13.1->-r requirements.txt (line 1)) (0.33.4)\n",
      "Requirement already satisfied: pytz>=2011k in /home/administradora/anaconda3/lib/python3.7/site-packages (from pandas==0.24.2->-r requirements.txt (line 3)) (2019.1)\n",
      "Requirement already satisfied: python-dateutil>=2.5.0 in /home/administradora/anaconda3/lib/python3.7/site-packages (from pandas==0.24.2->-r requirements.txt (line 3)) (2.8.0)\n",
      "Requirement already satisfied: kiwisolver>=1.0.1 in /home/administradora/anaconda3/lib/python3.7/site-packages (from matplotlib==3.0.3->-r requirements.txt (line 4)) (1.1.0)\n",
      "Requirement already satisfied: cycler>=0.10 in /home/administradora/anaconda3/lib/python3.7/site-packages (from matplotlib==3.0.3->-r requirements.txt (line 4)) (0.10.0)\n",
      "Requirement already satisfied: pyparsing!=2.0.4,!=2.1.2,!=2.1.6,>=2.0.1 in /home/administradora/anaconda3/lib/python3.7/site-packages (from matplotlib==3.0.3->-r requirements.txt (line 4)) (2.4.0)\n",
      "Requirement already satisfied: h5py in /home/administradora/anaconda3/lib/python3.7/site-packages (from Keras==2.2.4->-r requirements.txt (line 5)) (2.9.0)\n",
      "Requirement already satisfied: scipy>=0.14 in /home/administradora/anaconda3/lib/python3.7/site-packages (from Keras==2.2.4->-r requirements.txt (line 5)) (1.3.0)\n",
      "Requirement already satisfied: pyyaml in /home/administradora/anaconda3/lib/python3.7/site-packages (from Keras==2.2.4->-r requirements.txt (line 5)) (5.1.1)\n",
      "Requirement already satisfied: scikit-learn in /home/administradora/anaconda3/lib/python3.7/site-packages (from sklearn==0.0->-r requirements.txt (line 6)) (0.21.3)\n",
      "Requirement already satisfied: setuptools in /home/administradora/anaconda3/lib/python3.7/site-packages (from protobuf>=3.6.1->tensorflow==1.13.1->-r requirements.txt (line 1)) (41.0.1)\n",
      "Requirement already satisfied: mock>=2.0.0 in /home/administradora/anaconda3/lib/python3.7/site-packages (from tensorflow-estimator<1.14.0rc0,>=1.13.0->tensorflow==1.13.1->-r requirements.txt (line 1)) (3.0.5)\n",
      "Requirement already satisfied: werkzeug>=0.11.15 in /home/administradora/anaconda3/lib/python3.7/site-packages (from tensorboard<1.14.0,>=1.13.0->tensorflow==1.13.1->-r requirements.txt (line 1)) (0.15.4)\n",
      "Requirement already satisfied: markdown>=2.6.8 in /home/administradora/anaconda3/lib/python3.7/site-packages (from tensorboard<1.14.0,>=1.13.0->tensorflow==1.13.1->-r requirements.txt (line 1)) (3.1.1)\n",
      "Requirement already satisfied: joblib>=0.11 in /home/administradora/anaconda3/lib/python3.7/site-packages (from scikit-learn->sklearn==0.0->-r requirements.txt (line 6)) (0.13.2)\n"
     ]
    }
   ],
   "source": [
    "!pip install -r requirements.txt"
   ]
  },
  {
   "cell_type": "code",
   "execution_count": 2,
   "metadata": {},
   "outputs": [
    {
     "name": "stderr",
     "output_type": "stream",
     "text": [
      "Using TensorFlow backend.\n"
     ]
    }
   ],
   "source": [
    "# Convolutional Neural Network\n",
    "\n",
    "# Part 1 - Building the CNN\n",
    "\n",
    "# Importing the Keras libraries and packages\n",
    "from keras.models import Sequential\n",
    "from keras.layers import Conv2D\n",
    "from keras.layers import MaxPooling2D\n",
    "from keras.layers import Flatten\n",
    "from keras.layers import Dense\n",
    "import tensorflow as tf "
   ]
  },
  {
   "cell_type": "code",
   "execution_count": 3,
   "metadata": {},
   "outputs": [
    {
     "name": "stdout",
     "output_type": "stream",
     "text": [
      "WARNING:tensorflow:From /home/administradora/anaconda3/lib/python3.7/site-packages/tensorflow/python/framework/op_def_library.py:263: colocate_with (from tensorflow.python.framework.ops) is deprecated and will be removed in a future version.\n",
      "Instructions for updating:\n",
      "Colocations handled automatically by placer.\n"
     ]
    }
   ],
   "source": [
    "# Initialising the CNN\n",
    "classifier = Sequential()\n",
    "\n",
    "# Step 1 - Convolution\n",
    "classifier.add(Conv2D(32, (3, 3), input_shape = (64, 64, 3), activation = 'relu'))\n",
    "\n",
    "# Step 2 - Pooling\n",
    "classifier.add(MaxPooling2D(pool_size = (2, 2)))\n",
    "\n",
    "# Adding a second convolutional layer\n",
    "classifier.add(Conv2D(32, (3, 3), activation = 'relu'))\n",
    "classifier.add(MaxPooling2D(pool_size = (2, 2)))\n",
    "\n",
    "# Adding a second convolutional layer\n",
    "classifier.add(Conv2D(32, (3, 3), activation = 'sigmoid'))\n",
    "classifier.add(MaxPooling2D(pool_size = (2, 2)))\n",
    "\n",
    "# Step 3 - Flattening\n",
    "classifier.add(Flatten())\n",
    "\n",
    "# Step 4 - Full connection\n",
    "classifier.add(Dense(units = 128, activation = 'relu'))\n",
    "classifier.add(Dense(units = 128, activation = 'relu'))\n",
    "classifier.add(Dense(units = 1, activation = 'sigmoid'))\n",
    "\n",
    "# Compiling the CNN\n",
    "classifier.compile(optimizer = 'adam', loss = 'binary_crossentropy', metrics = ['accuracy'])\n"
   ]
  },
  {
   "cell_type": "code",
   "execution_count": 4,
   "metadata": {
    "scrolled": true
   },
   "outputs": [
    {
     "name": "stdout",
     "output_type": "stream",
     "text": [
      "Found 8000 images belonging to 2 classes.\n",
      "Found 2000 images belonging to 2 classes.\n",
      "WARNING:tensorflow:From /home/administradora/anaconda3/lib/python3.7/site-packages/tensorflow/python/ops/math_ops.py:3066: to_int32 (from tensorflow.python.ops.math_ops) is deprecated and will be removed in a future version.\n",
      "Instructions for updating:\n",
      "Use tf.cast instead.\n",
      "Epoch 1/10\n",
      "8000/8000 [==============================] - 2441s 305ms/step - loss: 0.4681 - acc: 0.7597 - val_loss: 0.4197 - val_acc: 0.8300\n",
      "Epoch 2/10\n",
      "8000/8000 [==============================] - 2503s 313ms/step - loss: 0.2287 - acc: 0.9032 - val_loss: 0.5462 - val_acc: 0.8184\n",
      "Epoch 3/10\n",
      "8000/8000 [==============================] - 2688s 336ms/step - loss: 0.1251 - acc: 0.9503 - val_loss: 0.6513 - val_acc: 0.8245\n",
      "Epoch 4/10\n",
      "8000/8000 [==============================] - 2327s 291ms/step - loss: 0.0852 - acc: 0.9676 - val_loss: 0.7908 - val_acc: 0.8076\n",
      "Epoch 5/10\n",
      "8000/8000 [==============================] - 2729s 341ms/step - loss: 0.0649 - acc: 0.9757 - val_loss: 0.8969 - val_acc: 0.8055\n",
      "Epoch 6/10\n",
      "8000/8000 [==============================] - 2453s 307ms/step - loss: 0.0525 - acc: 0.9809 - val_loss: 0.8535 - val_acc: 0.8139\n",
      "Epoch 7/10\n",
      "8000/8000 [==============================] - 2431s 304ms/step - loss: 0.0461 - acc: 0.9832 - val_loss: 0.8382 - val_acc: 0.8190\n",
      "Epoch 8/10\n",
      "8000/8000 [==============================] - 2366s 296ms/step - loss: 0.0388 - acc: 0.9861 - val_loss: 0.9253 - val_acc: 0.8120\n",
      "Epoch 9/10\n",
      "8000/8000 [==============================] - 2314s 289ms/step - loss: 0.0352 - acc: 0.9871 - val_loss: 0.9243 - val_acc: 0.8284\n",
      "Epoch 10/10\n",
      "8000/8000 [==============================] - 2299s 287ms/step - loss: 0.0318 - acc: 0.9883 - val_loss: 0.9682 - val_acc: 0.8211\n"
     ]
    },
    {
     "data": {
      "text/plain": [
       "<keras.callbacks.History at 0x7f9e607fbf60>"
      ]
     },
     "execution_count": 4,
     "metadata": {},
     "output_type": "execute_result"
    }
   ],
   "source": [
    "# Part 2 - Fitting the CNN to the images\n",
    "\n",
    "from keras.preprocessing.image import ImageDataGenerator\n",
    "\n",
    "train_datagen = ImageDataGenerator(rescale = 1./255,\n",
    "                                   shear_range = 0.2,\n",
    "                                   zoom_range = 0.2,\n",
    "                                   horizontal_flip = True)\n",
    "\n",
    "test_datagen = ImageDataGenerator(rescale = 1./255)\n",
    "\n",
    "training_set = train_datagen.flow_from_directory('dataset/training_set',\n",
    "                                                 target_size = (64, 64),\n",
    "                                                 batch_size = 32,\n",
    "                                                 class_mode = 'binary')\n",
    "\n",
    "test_set = test_datagen.flow_from_directory('dataset/test_set',\n",
    "                                            target_size = (64, 64),\n",
    "                                            batch_size = 32,\n",
    "                                            class_mode = 'binary')\n",
    "\n",
    "classifier.fit_generator(training_set,\n",
    "                         steps_per_epoch = 8000,\n",
    "                         epochs = 10,\n",
    "                         validation_data = test_set,\n",
    "                         validation_steps = 5000)"
   ]
  },
  {
   "cell_type": "code",
   "execution_count": 13,
   "metadata": {},
   "outputs": [
    {
     "name": "stdout",
     "output_type": "stream",
     "text": [
      "cat\n"
     ]
    }
   ],
   "source": [
    "# Part 3 - Making new predictions\n",
    "\n",
    "import numpy as np\n",
    "from keras.preprocessing import image\n",
    "test_image = image.load_img('dataset/single_prediction/cat_or_dog_3.jpg', target_size = (64, 64))\n",
    "test_image = image.img_to_array(test_image)\n",
    "test_image = np.expand_dims(test_image, axis = 0)\n",
    "result = classifier.predict(test_image)\n",
    "training_set.class_indices\n",
    "if result[0][0] == 1:\n",
    "    prediction = 'dog'\n",
    "else:\n",
    "    prediction = 'cat'\n",
    "    \n",
    "print(prediction)"
   ]
  },
  {
   "cell_type": "code",
   "execution_count": null,
   "metadata": {},
   "outputs": [],
   "source": []
  },
  {
   "cell_type": "code",
   "execution_count": null,
   "metadata": {},
   "outputs": [],
   "source": []
  }
 ],
 "metadata": {
  "kernelspec": {
   "display_name": "Python 3",
   "language": "python",
   "name": "python3"
  },
  "language_info": {
   "codemirror_mode": {
    "name": "ipython",
    "version": 3
   },
   "file_extension": ".py",
   "mimetype": "text/x-python",
   "name": "python",
   "nbconvert_exporter": "python",
   "pygments_lexer": "ipython3",
   "version": "3.7.3"
  }
 },
 "nbformat": 4,
 "nbformat_minor": 2
}
