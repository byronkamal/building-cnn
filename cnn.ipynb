{
 "cells": [
  {
   "cell_type": "code",
   "execution_count": 6,
   "metadata": {},
   "outputs": [],
   "source": [
    "# Importing the Keras libraries and packages\n",
    "from keras.models import Sequential\n",
    "from keras.layers import Conv2D\n",
    "from keras.layers import MaxPooling2D\n",
    "from keras.layers import Flatten\n",
    "from keras.layers import Dense"
   ]
  },
  {
   "cell_type": "code",
   "execution_count": 7,
   "metadata": {},
   "outputs": [],
   "source": [
    "# Initialising the CNN\n",
    "classifier = Sequential()\n",
    "\n",
    "# Step 1 - Convolution\n",
    "classifier.add(Conv2D(32, (3, 3), input_shape = (64, 64, 3), activation = 'relu'))\n",
    "\n",
    "# Step 2 - Pooling\n",
    "classifier.add(MaxPooling2D(pool_size = (2, 2)))\n",
    "\n",
    "# Adding a second convolutional layer\n",
    "classifier.add(Conv2D(32, (3, 3), activation = 'relu'))\n",
    "classifier.add(MaxPooling2D(pool_size = (2, 2)))\n",
    "\n",
    "# Step 3 - Flattening\n",
    "classifier.add(Flatten())\n",
    "\n",
    "# Step 4 - Full connection\n",
    "classifier.add(Dense(units = 128, activation = 'relu'))\n",
    "classifier.add(Dense(units = 1, activation = 'sigmoid'))\n",
    "\n",
    "# Compiling the CNN\n",
    "classifier.compile(optimizer = 'adam', loss = 'binary_crossentropy', metrics = ['accuracy'])"
   ]
  },
  {
   "cell_type": "code",
   "execution_count": 8,
   "metadata": {},
   "outputs": [
    {
     "name": "stdout",
     "output_type": "stream",
     "text": [
      "Found 8000 images belonging to 2 classes.\n",
      "Found 2000 images belonging to 2 classes.\n"
     ]
    }
   ],
   "source": [
    "# Part 2 - Fitting the CNN to the images\n",
    "\n",
    "from keras.preprocessing.image import ImageDataGenerator\n",
    "\n",
    "train_datagen = ImageDataGenerator(rescale = 1./255,\n",
    "                                   shear_range = 0.2,\n",
    "                                   zoom_range = 0.2,\n",
    "                                   horizontal_flip = True)\n",
    "\n",
    "test_datagen = ImageDataGenerator(rescale = 1./255)\n",
    "\n",
    "training_set = train_datagen.flow_from_directory('dataset/training_set',\n",
    "                                                 target_size = (64, 64),\n",
    "                                                 batch_size = 32,\n",
    "                                                 class_mode = 'binary')\n",
    "\n",
    "test_set = test_datagen.flow_from_directory('dataset/test_set',\n",
    "                                            target_size = (64, 64),\n",
    "                                            batch_size = 32,\n",
    "                                            class_mode = 'binary')"
   ]
  },
  {
   "cell_type": "code",
   "execution_count": 9,
   "metadata": {},
   "outputs": [
    {
     "name": "stdout",
     "output_type": "stream",
     "text": [
      "Epoch 1/15\n",
      "8000/8000 [==============================] - 2745s 343ms/step - loss: 0.3917 - acc: 0.8122 - val_loss: 0.5327 - val_acc: 0.7979\n",
      "Epoch 2/15\n",
      "8000/8000 [==============================] - 2729s 341ms/step - loss: 0.1584 - acc: 0.9379 - val_loss: 0.8998 - val_acc: 0.7931\n",
      "Epoch 3/15\n",
      "8000/8000 [==============================] - 2722s 340ms/step - loss: 0.0777 - acc: 0.9718 - val_loss: 1.0719 - val_acc: 0.8021\n",
      "Epoch 4/15\n",
      "8000/8000 [==============================] - 2707s 338ms/step - loss: 0.0515 - acc: 0.9816 - val_loss: 1.1371 - val_acc: 0.8071\n",
      "Epoch 5/15\n",
      "8000/8000 [==============================] - 2804s 351ms/step - loss: 0.0398 - acc: 0.9863 - val_loss: 1.3258 - val_acc: 0.7998\n",
      "Epoch 6/15\n",
      "8000/8000 [==============================] - 3036s 380ms/step - loss: 0.0332 - acc: 0.9886 - val_loss: 1.3368 - val_acc: 0.7998\n",
      "Epoch 7/15\n",
      "8000/8000 [==============================] - 2815s 352ms/step - loss: 0.0282 - acc: 0.9903 - val_loss: 1.3137 - val_acc: 0.8125\n",
      "Epoch 8/15\n",
      "8000/8000 [==============================] - 2819s 352ms/step - loss: 0.0250 - acc: 0.9916 - val_loss: 1.3423 - val_acc: 0.8104\n",
      "Epoch 9/15\n",
      "8000/8000 [==============================] - 2831s 354ms/step - loss: 0.0221 - acc: 0.9927 - val_loss: 1.4032 - val_acc: 0.8024\n",
      "Epoch 10/15\n",
      "8000/8000 [==============================] - 2900s 363ms/step - loss: 0.0194 - acc: 0.9937 - val_loss: 1.4023 - val_acc: 0.8121\n",
      "Epoch 11/15\n",
      "8000/8000 [==============================] - 2786s 348ms/step - loss: 0.0181 - acc: 0.9938 - val_loss: 1.5407 - val_acc: 0.8108\n",
      "Epoch 12/15\n",
      "8000/8000 [==============================] - 2871s 359ms/step - loss: 0.0161 - acc: 0.9948 - val_loss: 1.4949 - val_acc: 0.8101\n",
      "Epoch 13/15\n",
      "8000/8000 [==============================] - 2891s 361ms/step - loss: 0.0150 - acc: 0.9950 - val_loss: 1.5066 - val_acc: 0.8090\n",
      "Epoch 14/15\n",
      "8000/8000 [==============================] - 2983s 373ms/step - loss: 0.0140 - acc: 0.9954 - val_loss: 1.5773 - val_acc: 0.8144\n",
      "Epoch 15/15\n",
      "8000/8000 [==============================] - 2713s 339ms/step - loss: 0.0134 - acc: 0.9958 - val_loss: 1.6837 - val_acc: 0.8065\n"
     ]
    },
    {
     "data": {
      "text/plain": [
       "<keras.callbacks.History at 0x7f9117b595c0>"
      ]
     },
     "execution_count": 9,
     "metadata": {},
     "output_type": "execute_result"
    }
   ],
   "source": [
    "classifier.fit_generator(training_set,\n",
    "                         steps_per_epoch = 8000, \n",
    "                         epochs = 15, ## reduzido por falta de tempo, valor original: 25\n",
    "                         validation_data = test_set,\n",
    "                         validation_steps = 2000)"
   ]
  },
  {
   "cell_type": "code",
   "execution_count": 13,
   "metadata": {},
   "outputs": [],
   "source": [
    "loss, acc = classifier.evaluate_generator(generator=test_set, steps=2000)"
   ]
  },
  {
   "cell_type": "code",
   "execution_count": 14,
   "metadata": {},
   "outputs": [
    {
     "name": "stdout",
     "output_type": "stream",
     "text": [
      "1.6844544234177925\n"
     ]
    }
   ],
   "source": [
    "print(loss)"
   ]
  },
  {
   "cell_type": "code",
   "execution_count": 15,
   "metadata": {},
   "outputs": [
    {
     "name": "stdout",
     "output_type": "stream",
     "text": [
      "0.8065933719758065\n"
     ]
    }
   ],
   "source": [
    "print(acc)"
   ]
  },
  {
   "cell_type": "code",
   "execution_count": null,
   "metadata": {},
   "outputs": [],
   "source": []
  }
 ],
 "metadata": {
  "kernelspec": {
   "display_name": "Python 3",
   "language": "python",
   "name": "python3"
  },
  "language_info": {
   "codemirror_mode": {
    "name": "ipython",
    "version": 3
   },
   "file_extension": ".py",
   "mimetype": "text/x-python",
   "name": "python",
   "nbconvert_exporter": "python",
   "pygments_lexer": "ipython3",
   "version": "3.6.5"
  }
 },
 "nbformat": 4,
 "nbformat_minor": 2
}
