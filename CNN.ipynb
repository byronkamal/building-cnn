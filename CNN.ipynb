{
 "cells": [
  {
   "cell_type": "code",
   "execution_count": 1,
   "metadata": {},
   "outputs": [
    {
     "name": "stderr",
     "output_type": "stream",
     "text": [
      "Using TensorFlow backend.\n"
     ]
    }
   ],
   "source": [
    "# Part 0 - Imports\n",
    "\n",
    "from keras.models import Sequential\n",
    "from keras.layers import Conv2D\n",
    "from keras.layers import MaxPooling2D\n",
    "from keras.layers import Flatten\n",
    "from keras.layers import Dense, Dropout\n",
    "from keras.layers.advanced_activations import PReLU, LeakyReLU"
   ]
  },
  {
   "cell_type": "code",
   "execution_count": 2,
   "metadata": {},
   "outputs": [
    {
     "name": "stdout",
     "output_type": "stream",
     "text": [
      "WARNING:tensorflow:From /home/neo/anaconda3/lib/python3.7/site-packages/tensorflow/python/framework/op_def_library.py:263: colocate_with (from tensorflow.python.framework.ops) is deprecated and will be removed in a future version.\n",
      "Instructions for updating:\n",
      "Colocations handled automatically by placer.\n"
     ]
    }
   ],
   "source": [
    "# Part 1 - Defining the CNN\n",
    "\n",
    "#Initialising the CNN\n",
    "classifier = Sequential()\n",
    "\n",
    "# Step 1 - Convolution\n",
    "classifier.add(Conv2D(32, (3, 3), input_shape = (64, 64, 3), activation = 'relu'))\n",
    "\n",
    "# Step 2 - Pooling\n",
    "classifier.add(MaxPooling2D(pool_size = (2, 2)))\n",
    "\n",
    "# Adding a second convolutional layer\n",
    "classifier.add(Conv2D(32, (3, 3), activation = 'relu'))\n",
    "classifier.add(MaxPooling2D(pool_size = (2, 2)))\n",
    "\n",
    "# Step 3 - Flattening\n",
    "classifier.add(Flatten())\n",
    "\n",
    "# Step 4 - Full connection\n",
    "classifier.add(PReLU()) \n",
    "classifier.add(Dense(units = 128, activation = 'relu'))\n",
    "classifier.add(LeakyReLU(alpha=.001))\n",
    "classifier.add(Dense(units = 1, activation = 'sigmoid'))\n",
    "\n",
    "# Compiling the CNN\n",
    "classifier.compile(optimizer = 'adam', loss = 'binary_crossentropy', metrics = ['accuracy'])"
   ]
  },
  {
   "cell_type": "code",
   "execution_count": 3,
   "metadata": {
    "scrolled": true
   },
   "outputs": [
    {
     "name": "stdout",
     "output_type": "stream",
     "text": [
      "Found 8000 images belonging to 2 classes.\n",
      "Found 2000 images belonging to 2 classes.\n",
      "WARNING:tensorflow:From /home/neo/anaconda3/lib/python3.7/site-packages/tensorflow/python/ops/math_ops.py:3066: to_int32 (from tensorflow.python.ops.math_ops) is deprecated and will be removed in a future version.\n",
      "Instructions for updating:\n",
      "Use tf.cast instead.\n",
      "Epoch 1/11\n",
      "8000/8000 [==============================] - 2071s 259ms/step - loss: 0.3455 - acc: 0.8368 - val_loss: 0.6560 - val_acc: 0.7875\n",
      "Epoch 2/11\n",
      "8000/8000 [==============================] - 2079s 260ms/step - loss: 0.0910 - acc: 0.9661 - val_loss: 0.9443 - val_acc: 0.8021\n",
      "Epoch 3/11\n",
      "8000/8000 [==============================] - 2067s 258ms/step - loss: 0.0484 - acc: 0.9830 - val_loss: 1.1256 - val_acc: 0.8045\n",
      "Epoch 4/11\n",
      "8000/8000 [==============================] - 2044s 255ms/step - loss: 0.0352 - acc: 0.9877 - val_loss: 1.4231 - val_acc: 0.7888\n",
      "Epoch 5/11\n",
      "8000/8000 [==============================] - 2054s 257ms/step - loss: 0.0295 - acc: 0.9901 - val_loss: 1.2309 - val_acc: 0.8085\n",
      "Epoch 6/11\n",
      "8000/8000 [==============================] - 2041s 255ms/step - loss: 0.0252 - acc: 0.9916 - val_loss: 1.3769 - val_acc: 0.7939\n",
      "Epoch 7/11\n",
      "8000/8000 [==============================] - 2040s 255ms/step - loss: 0.0210 - acc: 0.9932 - val_loss: 1.4172 - val_acc: 0.7940\n",
      "Epoch 8/11\n",
      "8000/8000 [==============================] - 2042s 255ms/step - loss: 0.0183 - acc: 0.9940 - val_loss: 1.3192 - val_acc: 0.8044\n",
      "Epoch 9/11\n",
      "8000/8000 [==============================] - 2043s 255ms/step - loss: 0.0167 - acc: 0.9946 - val_loss: 1.4507 - val_acc: 0.8085\n",
      "Epoch 10/11\n",
      "8000/8000 [==============================] - 2041s 255ms/step - loss: 0.0151 - acc: 0.9951 - val_loss: 1.5143 - val_acc: 0.8032\n",
      "Epoch 11/11\n",
      "8000/8000 [==============================] - 2041s 255ms/step - loss: 0.0145 - acc: 0.9954 - val_loss: 1.5149 - val_acc: 0.8055\n"
     ]
    },
    {
     "data": {
      "text/plain": [
       "<keras.callbacks.History at 0x7f0ee3c3a5c0>"
      ]
     },
     "execution_count": 3,
     "metadata": {},
     "output_type": "execute_result"
    }
   ],
   "source": [
    "# Part 2 - Fitting the CNN to the images\n",
    "\n",
    "from keras.preprocessing.image import ImageDataGenerator\n",
    "\n",
    "train_datagen = ImageDataGenerator(rescale = 1./255,\n",
    "                                   shear_range = 0.2,\n",
    "                                   zoom_range = 0.2,\n",
    "                                   horizontal_flip = True)\n",
    "\n",
    "test_datagen = ImageDataGenerator(rescale = 1./255)\n",
    "\n",
    "training_set = train_datagen.flow_from_directory('dataset/training_set',\n",
    "                                                 target_size = (64, 64),\n",
    "                                                 batch_size = 32,\n",
    "                                                 class_mode = 'binary')\n",
    "\n",
    "test_set = test_datagen.flow_from_directory('dataset/test_set',\n",
    "                                            target_size = (64, 64),\n",
    "                                            batch_size = 32,\n",
    "                                            class_mode = 'binary')\n",
    "\n",
    "classifier.fit_generator(training_set,\n",
    "                         steps_per_epoch = 8000,\n",
    "                         epochs = 11,\n",
    "                         validation_data = test_set,\n",
    "                         validation_steps = 2000)"
   ]
  },
  {
   "cell_type": "code",
   "execution_count": 7,
   "metadata": {},
   "outputs": [
    {
     "name": "stdout",
     "output_type": "stream",
     "text": [
      "dog\n"
     ]
    }
   ],
   "source": [
    "# Part 3 - Data Visualization\n",
    "\n",
    "import numpy as np\n",
    "from keras.preprocessing import image\n",
    "test_image = image.load_img('dataset/single_prediction/cat_or_dog_1.jpg', target_size = (64, 64))\n",
    "test_image = image.img_to_array(test_image)\n",
    "test_image = np.expand_dims(test_image, axis = 0)\n",
    "result = classifier.predict(test_image)\n",
    "training_set.class_indices\n",
    "if result[0][0] == 1:\n",
    "    prediction = 'dog'\n",
    "else:\n",
    "    prediction = 'cat'\n",
    "    \n",
    "print(prediction)"
   ]
  }
 ],
 "metadata": {
  "kernelspec": {
   "display_name": "Python 3",
   "language": "python",
   "name": "python3"
  },
  "language_info": {
   "codemirror_mode": {
    "name": "ipython",
    "version": 3
   },
   "file_extension": ".py",
   "mimetype": "text/x-python",
   "name": "python",
   "nbconvert_exporter": "python",
   "pygments_lexer": "ipython3",
   "version": "3.7.3"
  }
 },
 "nbformat": 4,
 "nbformat_minor": 2
}
