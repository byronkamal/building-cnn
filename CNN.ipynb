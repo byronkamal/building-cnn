{
 "cells": [
  {
   "cell_type": "markdown",
   "metadata": {},
   "source": [
    "# Convolutional Neural Network\n"
   ]
  },
  {
   "cell_type": "markdown",
   "metadata": {},
   "source": [
    "## Inporting libraries\n"
   ]
  },
  {
   "cell_type": "code",
   "execution_count": 1,
   "metadata": {},
   "outputs": [
    {
     "name": "stdout",
     "output_type": "stream",
     "text": [
      "Requirement already up-to-date: keras in /Users/gabrielfilipe7/anaconda3/lib/python3.7/site-packages (2.2.4)\r\n",
      "Requirement already satisfied, skipping upgrade: scipy>=0.14 in /Users/gabrielfilipe7/anaconda3/lib/python3.7/site-packages (from keras) (1.2.1)\r\n",
      "Requirement already satisfied, skipping upgrade: h5py in /Users/gabrielfilipe7/anaconda3/lib/python3.7/site-packages (from keras) (2.9.0)\r\n",
      "Requirement already satisfied, skipping upgrade: keras-applications>=1.0.6 in /Users/gabrielfilipe7/anaconda3/lib/python3.7/site-packages (from keras) (1.0.6)\r\n",
      "Requirement already satisfied, skipping upgrade: pyyaml in /Users/gabrielfilipe7/anaconda3/lib/python3.7/site-packages (from keras) (5.1)\r\n",
      "Requirement already satisfied, skipping upgrade: numpy>=1.9.1 in /Users/gabrielfilipe7/anaconda3/lib/python3.7/site-packages (from keras) (1.16.2)\r\n",
      "Requirement already satisfied, skipping upgrade: keras-preprocessing>=1.0.5 in /Users/gabrielfilipe7/anaconda3/lib/python3.7/site-packages (from keras) (1.0.5)\r\n",
      "Requirement already satisfied, skipping upgrade: six>=1.9.0 in /Users/gabrielfilipe7/anaconda3/lib/python3.7/site-packages (from keras) (1.12.0)\r\n"
     ]
    },
    {
     "name": "stderr",
     "output_type": "stream",
     "text": [
      "Using TensorFlow backend.\n"
     ]
    }
   ],
   "source": [
    "# Importing the Keras libraries and packages\n",
    "!pip install --upgrade keras\n",
    "from keras.models import Sequential\n",
    "from keras.layers import Conv2D\n",
    "from keras.layers import MaxPooling2D\n",
    "from keras.layers import Flatten\n",
    "from keras.layers import Dense\n",
    "from keras.layers import LeakyReLU\n",
    "from keras.layers import Dropout\n"
   ]
  },
  {
   "cell_type": "markdown",
   "metadata": {},
   "source": [
    "## Part 1 - Building the CNN\n"
   ]
  },
  {
   "cell_type": "code",
   "execution_count": 2,
   "metadata": {},
   "outputs": [
    {
     "name": "stdout",
     "output_type": "stream",
     "text": [
      "WARNING:tensorflow:From /Users/gabrielfilipe7/anaconda3/lib/python3.7/site-packages/tensorflow/python/framework/op_def_library.py:263: colocate_with (from tensorflow.python.framework.ops) is deprecated and will be removed in a future version.\n",
      "Instructions for updating:\n",
      "Colocations handled automatically by placer.\n",
      "WARNING:tensorflow:From /Users/gabrielfilipe7/anaconda3/lib/python3.7/site-packages/keras/backend/tensorflow_backend.py:3445: calling dropout (from tensorflow.python.ops.nn_ops) with keep_prob is deprecated and will be removed in a future version.\n",
      "Instructions for updating:\n",
      "Please use `rate` instead of `keep_prob`. Rate should be set to `rate = 1 - keep_prob`.\n"
     ]
    }
   ],
   "source": [
    "# Initialising the CNN\n",
    "classifier = Sequential()\n",
    "\n",
    "# Step 1 - Convolution\n",
    "classifier.add(Conv2D(32, (4, 4), input_shape = (64, 64, 3), activation = 'relu'))\n",
    "\n",
    "# Step 2 - Pooling\n",
    "classifier.add(MaxPooling2D(pool_size = (2, 2)))\n",
    "\n",
    "# Adding a second convolutional layer\n",
    "classifier.add(Conv2D(32, (3, 3), activation = 'relu'))\n",
    "classifier.add(MaxPooling2D(pool_size = (2, 2)))\n",
    "\n",
    "# Step 3 - Flattening\n",
    "classifier.add(Flatten())\n",
    "\n",
    "# Step 4 - Full connection\n",
    "classifier.add(Dense(units = 128, activation = 'relu'))\n",
    "classifier.add(Dense(units = 64, activation = 'relu'))\n",
    "classifier.add(Dropout(rate=0.3))\n",
    "classifier.add(Dense(units = 1, activation = 'sigmoid'))\n",
    "\n",
    "# Compiling the CNN\n",
    "classifier.compile(optimizer = 'adam', loss = 'binary_crossentropy', metrics = ['accuracy'])"
   ]
  },
  {
   "cell_type": "markdown",
   "metadata": {},
   "source": [
    "## Compiling the CNN"
   ]
  },
  {
   "cell_type": "code",
   "execution_count": 3,
   "metadata": {},
   "outputs": [],
   "source": [
    "classifier.compile(optimizer = 'adam', loss = 'binary_crossentropy', metrics = ['accuracy'])"
   ]
  },
  {
   "cell_type": "markdown",
   "metadata": {},
   "source": [
    "## Part 2 - Fitting the CNN to the images"
   ]
  },
  {
   "cell_type": "code",
   "execution_count": 4,
   "metadata": {},
   "outputs": [
    {
     "name": "stdout",
     "output_type": "stream",
     "text": [
      "Found 8000 images belonging to 2 classes.\n",
      "Found 2000 images belonging to 2 classes.\n",
      "WARNING:tensorflow:From /Users/gabrielfilipe7/anaconda3/lib/python3.7/site-packages/tensorflow/python/ops/math_ops.py:3066: to_int32 (from tensorflow.python.ops.math_ops) is deprecated and will be removed in a future version.\n",
      "Instructions for updating:\n",
      "Use tf.cast instead.\n",
      "Epoch 1/15\n",
      "8000/8000 [==============================] - 1454s 182ms/step - loss: 0.3480 - acc: 0.8374 - val_loss: 0.6245 - val_acc: 0.7984\n",
      "Epoch 2/15\n",
      "8000/8000 [==============================] - 1787s 223ms/step - loss: 0.1022 - acc: 0.9619 - val_loss: 0.8948 - val_acc: 0.7995\n",
      "Epoch 3/15\n",
      "8000/8000 [==============================] - 1757s 220ms/step - loss: 0.0539 - acc: 0.9812 - val_loss: 1.0694 - val_acc: 0.7923\n",
      "Epoch 4/15\n",
      "8000/8000 [==============================] - 2038s 255ms/step - loss: 0.0367 - acc: 0.9874 - val_loss: 1.2051 - val_acc: 0.7893\n",
      "Epoch 5/15\n",
      "8000/8000 [==============================] - 2628s 329ms/step - loss: 0.0292 - acc: 0.9903 - val_loss: 1.1654 - val_acc: 0.7934\n",
      "Epoch 6/15\n",
      "8000/8000 [==============================] - 2542s 318ms/step - loss: 0.0242 - acc: 0.9919 - val_loss: 1.2660 - val_acc: 0.7853\n",
      "Epoch 7/15\n",
      "8000/8000 [==============================] - 2649s 331ms/step - loss: 0.0204 - acc: 0.9933 - val_loss: 1.3468 - val_acc: 0.7986\n",
      "Epoch 8/15\n",
      "8000/8000 [==============================] - 2608s 326ms/step - loss: 0.0179 - acc: 0.9941 - val_loss: 1.2435 - val_acc: 0.8024\n",
      "Epoch 9/15\n",
      "8000/8000 [==============================] - 2743s 343ms/step - loss: 0.0151 - acc: 0.9950 - val_loss: 1.4182 - val_acc: 0.7848\n",
      "Epoch 10/15\n",
      "8000/8000 [==============================] - 2024s 253ms/step - loss: 0.0136 - acc: 0.9955 - val_loss: 1.2041 - val_acc: 0.7964\n",
      "Epoch 11/15\n",
      "8000/8000 [==============================] - 2386s 298ms/step - loss: 0.0133 - acc: 0.9957 - val_loss: 1.2396 - val_acc: 0.7908\n",
      "Epoch 12/15\n",
      "8000/8000 [==============================] - 2558s 320ms/step - loss: 0.0123 - acc: 0.9961 - val_loss: 1.2857 - val_acc: 0.8075\n",
      "Epoch 13/15\n",
      "8000/8000 [==============================] - 2144s 268ms/step - loss: 0.0106 - acc: 0.9968 - val_loss: 1.3066 - val_acc: 0.7905\n",
      "Epoch 14/15\n",
      "8000/8000 [==============================] - 1861s 233ms/step - loss: 0.0107 - acc: 0.9967 - val_loss: 1.6123 - val_acc: 0.7971\n",
      "Epoch 15/15\n",
      "8000/8000 [==============================] - 1853s 232ms/step - loss: 0.0101 - acc: 0.9969 - val_loss: 1.6318 - val_acc: 0.8002\n"
     ]
    },
    {
     "data": {
      "text/plain": [
       "<keras.callbacks.History at 0xb1f9b3908>"
      ]
     },
     "execution_count": 4,
     "metadata": {},
     "output_type": "execute_result"
    }
   ],
   "source": [
    "from keras.preprocessing.image import ImageDataGenerator\n",
    "\n",
    "train_datagen = ImageDataGenerator(rescale = 1./255,\n",
    "                                   shear_range = 0.2,\n",
    "                                   zoom_range = 0.2,\n",
    "                                   horizontal_flip = True)\n",
    "\n",
    "test_datagen = ImageDataGenerator(rescale = 1./255)\n",
    "\n",
    "training_set = train_datagen.flow_from_directory('dataset/training_set',\n",
    "                                                 target_size = (64, 64),\n",
    "                                                 batch_size = 32,\n",
    "                                                 class_mode = 'binary')\n",
    "\n",
    "test_set = test_datagen.flow_from_directory('dataset/test_set',\n",
    "                                            target_size = (64, 64),\n",
    "                                            batch_size = 32,\n",
    "                                            class_mode = 'binary')\n",
    "\n",
    "classifier.fit_generator(training_set,\n",
    "                         steps_per_epoch = 8000,\n",
    "                         epochs = 15,\n",
    "                         validation_data = test_set,\n",
    "                         validation_steps = 2000)"
   ]
  },
  {
   "cell_type": "code",
   "execution_count": 6,
   "metadata": {},
   "outputs": [],
   "source": [
    "import numpy as np\n",
    "from keras.preprocessing import image\n",
    "test_image = image.load_img('dataset/single_prediction/cat_or_dog_1.jpg', target_size = (64, 64))\n",
    "test_image = image.img_to_array(test_image)\n",
    "test_image = np.expand_dims(test_image, axis = 0)\n",
    "result = classifier.predict(test_image)\n",
    "training_set.class_indices\n",
    "if result[0][0] == 1:\n",
    "    prediction ='dog'\n",
    "else:\n",
    "    prediction = 'cat'"
   ]
  },
  {
   "cell_type": "code",
   "execution_count": 7,
   "metadata": {},
   "outputs": [
    {
     "name": "stdout",
     "output_type": "stream",
     "text": [
      "dog\n"
     ]
    }
   ],
   "source": [
    "print(prediction)"
   ]
  },
  {
   "cell_type": "code",
   "execution_count": null,
   "metadata": {},
   "outputs": [],
   "source": []
  }
 ],
 "metadata": {
  "kernelspec": {
   "display_name": "Python 3",
   "language": "python",
   "name": "python3"
  },
  "language_info": {
   "codemirror_mode": {
    "name": "ipython",
    "version": 3
   },
   "file_extension": ".py",
   "mimetype": "text/x-python",
   "name": "python",
   "nbconvert_exporter": "python",
   "pygments_lexer": "ipython3",
   "version": "3.7.3"
  }
 },
 "nbformat": 4,
 "nbformat_minor": 2
}
