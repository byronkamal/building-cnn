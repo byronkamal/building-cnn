{
 "cells": [
  {
   "cell_type": "code",
   "execution_count": 1,
   "metadata": {},
   "outputs": [
    {
     "name": "stderr",
     "output_type": "stream",
     "text": [
      "Using TensorFlow backend.\n"
     ]
    }
   ],
   "source": [
    "# Part 1 - Building the CNN\n",
    "\n",
    "# Importing the Keras libraries and packages\n",
    "from keras.models import Sequential\n",
    "from keras.layers import Conv2D\n",
    "from keras.layers import MaxPooling2D\n",
    "from keras.layers import Flatten\n",
    "from keras.layers import Dense"
   ]
  },
  {
   "cell_type": "code",
   "execution_count": 2,
   "metadata": {},
   "outputs": [
    {
     "name": "stdout",
     "output_type": "stream",
     "text": [
      "WARNING:tensorflow:From /home/fabdebian/anaconda3/lib/python3.7/site-packages/tensorflow/python/framework/op_def_library.py:263: colocate_with (from tensorflow.python.framework.ops) is deprecated and will be removed in a future version.\n",
      "Instructions for updating:\n",
      "Colocations handled automatically by placer.\n"
     ]
    }
   ],
   "source": [
    "# Initialising the CNN\n",
    "classifier = Sequential()\n",
    "\n",
    "# Step 1 - Convolution\n",
    "classifier.add(Conv2D(32, (3, 3), input_shape = (64, 64, 3), activation = 'relu'))\n",
    "classifier.add(Conv2D(32, (3, 3), activation = 'tanh'))\n",
    "\n",
    "# Step 2 - Pooling\n",
    "classifier.add(MaxPooling2D(pool_size = (2, 2)))\n",
    "\n",
    "# Adding a second convolutional layer\n",
    "classifier.add(Conv2D(32, (3, 3), activation = 'relu'))\n",
    "classifier.add(Conv2D(32, (3, 3), activation = 'sigmoid'))\n",
    "classifier.add(MaxPooling2D(pool_size = (2, 2)))\n",
    "\n",
    "# Step 3 - Flattening\n",
    "classifier.add(Flatten())\n",
    "\n",
    "# Step 4 - Full connection\n",
    "classifier.add(Dense(units = 128, activation = 'relu'))\n",
    "classifier.add(Dense(units = 1, activation = 'sigmoid'))\n",
    "\n",
    "classifier.compile(optimizer = 'adam', loss = 'binary_crossentropy', metrics = ['accuracy'])"
   ]
  },
  {
   "cell_type": "code",
   "execution_count": 3,
   "metadata": {},
   "outputs": [
    {
     "name": "stdout",
     "output_type": "stream",
     "text": [
      "Found 8000 images belonging to 2 classes.\n",
      "Found 2000 images belonging to 2 classes.\n",
      "WARNING:tensorflow:From /home/fabdebian/anaconda3/lib/python3.7/site-packages/tensorflow/python/ops/math_ops.py:3066: to_int32 (from tensorflow.python.ops.math_ops) is deprecated and will be removed in a future version.\n",
      "Instructions for updating:\n",
      "Use tf.cast instead.\n",
      "Epoch 1/25\n",
      "8000/8000 [==============================] - 2264s 283ms/step - loss: 0.4564 - acc: 0.7622 - val_loss: 0.5596 - val_acc: 0.7873\n",
      "Epoch 2/25\n",
      "8000/8000 [==============================] - 2216s 277ms/step - loss: 0.1015 - acc: 0.9622 - val_loss: 0.8703 - val_acc: 0.7858\n",
      "Epoch 3/25\n",
      "8000/8000 [==============================] - 2217s 277ms/step - loss: 0.0466 - acc: 0.9837 - val_loss: 0.9856 - val_acc: 0.7830\n",
      "Epoch 4/25\n",
      "8000/8000 [==============================] - 2217s 277ms/step - loss: 0.0334 - acc: 0.9882 - val_loss: 1.0438 - val_acc: 0.7800\n",
      "Epoch 5/25\n",
      "8000/8000 [==============================] - 2218s 277ms/step - loss: 0.0279 - acc: 0.9901 - val_loss: 1.1577 - val_acc: 0.7891\n",
      "Epoch 6/25\n",
      "8000/8000 [==============================] - 2219s 277ms/step - loss: 0.0251 - acc: 0.9914 - val_loss: 1.1691 - val_acc: 0.7833\n",
      "Epoch 7/25\n",
      "8000/8000 [==============================] - 2220s 277ms/step - loss: 0.0217 - acc: 0.9923 - val_loss: 1.1541 - val_acc: 0.7922\n",
      "Epoch 8/25\n",
      "8000/8000 [==============================] - 2222s 278ms/step - loss: 0.0199 - acc: 0.9934 - val_loss: 1.2973 - val_acc: 0.7795\n",
      "Epoch 9/25\n",
      "8000/8000 [==============================] - 2221s 278ms/step - loss: 0.0188 - acc: 0.9937 - val_loss: 1.2462 - val_acc: 0.7976\n",
      "Epoch 10/25\n",
      "8000/8000 [==============================] - 2221s 278ms/step - loss: 0.0173 - acc: 0.9943 - val_loss: 1.2098 - val_acc: 0.7977\n",
      "Epoch 11/25\n",
      "8000/8000 [==============================] - 2223s 278ms/step - loss: 0.0155 - acc: 0.9947 - val_loss: 1.3585 - val_acc: 0.7925\n",
      "Epoch 12/25\n",
      "8000/8000 [==============================] - 2223s 278ms/step - loss: 0.0155 - acc: 0.9947 - val_loss: 1.2813 - val_acc: 0.7925\n",
      "Epoch 13/25\n",
      "8000/8000 [==============================] - 2222s 278ms/step - loss: 0.0145 - acc: 0.9951 - val_loss: 1.3782 - val_acc: 0.7919\n",
      "Epoch 14/25\n",
      "8000/8000 [==============================] - 2223s 278ms/step - loss: 0.0154 - acc: 0.9951 - val_loss: 1.3115 - val_acc: 0.7948\n",
      "Epoch 15/25\n",
      "8000/8000 [==============================] - 2223s 278ms/step - loss: 0.0145 - acc: 0.9952 - val_loss: 1.4308 - val_acc: 0.7762\n",
      "Epoch 16/25\n",
      "8000/8000 [==============================] - 2224s 278ms/step - loss: 0.0130 - acc: 0.9957 - val_loss: 1.3873 - val_acc: 0.7763\n",
      "Epoch 17/25\n",
      "8000/8000 [==============================] - 2225s 278ms/step - loss: 0.0140 - acc: 0.9953 - val_loss: 1.4339 - val_acc: 0.7811\n",
      "Epoch 18/25\n",
      "8000/8000 [==============================] - 2224s 278ms/step - loss: 0.0129 - acc: 0.9957 - val_loss: 1.3778 - val_acc: 0.7940\n",
      "Epoch 19/25\n",
      "8000/8000 [==============================] - 2224s 278ms/step - loss: 0.0133 - acc: 0.9956 - val_loss: 1.3770 - val_acc: 0.7985\n",
      "Epoch 20/25\n",
      "8000/8000 [==============================] - 2226s 278ms/step - loss: 0.0122 - acc: 0.9959 - val_loss: 1.4313 - val_acc: 0.7969\n",
      "Epoch 21/25\n",
      "8000/8000 [==============================] - 2226s 278ms/step - loss: 0.0117 - acc: 0.9961 - val_loss: 1.3896 - val_acc: 0.7861\n",
      "Epoch 22/25\n",
      "8000/8000 [==============================] - 2226s 278ms/step - loss: 0.0125 - acc: 0.9959 - val_loss: 1.3201 - val_acc: 0.7833\n",
      "Epoch 23/25\n",
      "8000/8000 [==============================] - 2226s 278ms/step - loss: 0.0118 - acc: 0.9961 - val_loss: 1.4285 - val_acc: 0.7915\n",
      "Epoch 24/25\n",
      "8000/8000 [==============================] - 2226s 278ms/step - loss: 0.0119 - acc: 0.9960 - val_loss: 1.2901 - val_acc: 0.7930\n",
      "Epoch 25/25\n",
      "8000/8000 [==============================] - 2226s 278ms/step - loss: 0.0114 - acc: 0.9962 - val_loss: 1.3863 - val_acc: 0.7936\n"
     ]
    },
    {
     "data": {
      "text/plain": [
       "<keras.callbacks.History at 0x7f252235df98>"
      ]
     },
     "execution_count": 3,
     "metadata": {},
     "output_type": "execute_result"
    }
   ],
   "source": [
    "# Part 2 - Fitting the CNN to the images\n",
    "\n",
    "from keras.preprocessing.image import ImageDataGenerator\n",
    "\n",
    "train_datagen = ImageDataGenerator(rescale = 1./255,\n",
    "                                   shear_range = 0.2,\n",
    "                                   zoom_range = 0.2,\n",
    "                                   horizontal_flip = True)\n",
    "\n",
    "test_datagen = ImageDataGenerator(rescale = 1./255)\n",
    "\n",
    "training_set = train_datagen.flow_from_directory('dataset/training_set',\n",
    "                                                 target_size = (64, 64),\n",
    "                                                 batch_size = 32,\n",
    "                                                 class_mode = 'binary')\n",
    "\n",
    "test_set = test_datagen.flow_from_directory('dataset/test_set',\n",
    "                                            target_size = (64, 64),\n",
    "                                            batch_size = 32,\n",
    "                                            class_mode = 'binary')\n",
    "\n",
    "classifier.fit_generator(training_set,\n",
    "                         steps_per_epoch = 8000,\n",
    "                         epochs = 25,\n",
    "                         validation_data = test_set,\n",
    "                         validation_steps = 2000)"
   ]
  },
  {
   "cell_type": "code",
   "execution_count": 4,
   "metadata": {},
   "outputs": [],
   "source": [
    "loss, accuracy = classifier.evaluate_generator(generator=test_set, steps=25)"
   ]
  },
  {
   "cell_type": "code",
   "execution_count": 5,
   "metadata": {},
   "outputs": [
    {
     "name": "stdout",
     "output_type": "stream",
     "text": [
      "Accuracy:  0.7844387755102041\n",
      "Loss: 1.398911449373985\n"
     ]
    }
   ],
   "source": [
    "print('Accuracy: ', accuracy)\n",
    "print('Loss:', loss)"
   ]
  }
 ],
 "metadata": {
  "kernelspec": {
   "display_name": "Python 3",
   "language": "python",
   "name": "python3"
  },
  "language_info": {
   "codemirror_mode": {
    "name": "ipython",
    "version": 3
   },
   "file_extension": ".py",
   "mimetype": "text/x-python",
   "name": "python",
   "nbconvert_exporter": "python",
   "pygments_lexer": "ipython3",
   "version": "3.7.3"
  }
 },
 "nbformat": 4,
 "nbformat_minor": 2
}
