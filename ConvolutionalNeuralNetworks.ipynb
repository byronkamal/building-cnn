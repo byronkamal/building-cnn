{
 "cells": [
  {
   "cell_type": "code",
   "execution_count": 1,
   "metadata": {},
   "outputs": [
    {
     "name": "stdout",
     "output_type": "stream",
     "text": [
      "Requirement already satisfied: tensorflow==1.13.1 in /home/eduardonunes/Documents/virtualenvs/deeplearning/lib/python3.5/site-packages (from -r requirements.txt (line 1)) (1.13.1)\n",
      "Requirement already satisfied: numpy==1.16.2 in /home/eduardonunes/Documents/virtualenvs/deeplearning/lib/python3.5/site-packages (from -r requirements.txt (line 2)) (1.16.2)\n",
      "Requirement already satisfied: pandas==0.24.2 in /home/eduardonunes/Documents/virtualenvs/deeplearning/lib/python3.5/site-packages (from -r requirements.txt (line 3)) (0.24.2)\n",
      "Requirement already satisfied: matplotlib==3.0.3 in /home/eduardonunes/Documents/virtualenvs/deeplearning/lib/python3.5/site-packages (from -r requirements.txt (line 4)) (3.0.3)\n",
      "Requirement already satisfied: Keras==2.2.4 in /home/eduardonunes/Documents/virtualenvs/deeplearning/lib/python3.5/site-packages (from -r requirements.txt (line 5)) (2.2.4)\n",
      "Requirement already satisfied: sklearn==0.0 in /home/eduardonunes/Documents/virtualenvs/deeplearning/lib/python3.5/site-packages (from -r requirements.txt (line 6)) (0.0)\n",
      "Requirement already satisfied: pillow in /home/eduardonunes/Documents/virtualenvs/deeplearning/lib/python3.5/site-packages (from -r requirements.txt (line 7)) (6.0.0)\n",
      "Requirement already satisfied: wheel>=0.26 in /home/eduardonunes/Documents/virtualenvs/deeplearning/lib/python3.5/site-packages (from tensorflow==1.13.1->-r requirements.txt (line 1)) (0.33.4)\n",
      "Requirement already satisfied: termcolor>=1.1.0 in /home/eduardonunes/Documents/virtualenvs/deeplearning/lib/python3.5/site-packages (from tensorflow==1.13.1->-r requirements.txt (line 1)) (1.1.0)\n",
      "Requirement already satisfied: grpcio>=1.8.6 in /home/eduardonunes/Documents/virtualenvs/deeplearning/lib/python3.5/site-packages (from tensorflow==1.13.1->-r requirements.txt (line 1)) (1.21.1)\n",
      "Requirement already satisfied: tensorflow-estimator<1.14.0rc0,>=1.13.0 in /home/eduardonunes/Documents/virtualenvs/deeplearning/lib/python3.5/site-packages (from tensorflow==1.13.1->-r requirements.txt (line 1)) (1.13.0)\n",
      "Requirement already satisfied: astor>=0.6.0 in /home/eduardonunes/Documents/virtualenvs/deeplearning/lib/python3.5/site-packages (from tensorflow==1.13.1->-r requirements.txt (line 1)) (0.8.0)\n",
      "Requirement already satisfied: absl-py>=0.1.6 in /home/eduardonunes/Documents/virtualenvs/deeplearning/lib/python3.5/site-packages (from tensorflow==1.13.1->-r requirements.txt (line 1)) (0.7.1)\n",
      "Requirement already satisfied: gast>=0.2.0 in /home/eduardonunes/Documents/virtualenvs/deeplearning/lib/python3.5/site-packages (from tensorflow==1.13.1->-r requirements.txt (line 1)) (0.2.2)\n",
      "Requirement already satisfied: six>=1.10.0 in /home/eduardonunes/Documents/virtualenvs/deeplearning/lib/python3.5/site-packages (from tensorflow==1.13.1->-r requirements.txt (line 1)) (1.12.0)\n",
      "Requirement already satisfied: tensorboard<1.14.0,>=1.13.0 in /home/eduardonunes/Documents/virtualenvs/deeplearning/lib/python3.5/site-packages (from tensorflow==1.13.1->-r requirements.txt (line 1)) (1.13.1)\n",
      "Requirement already satisfied: keras-applications>=1.0.6 in /home/eduardonunes/Documents/virtualenvs/deeplearning/lib/python3.5/site-packages (from tensorflow==1.13.1->-r requirements.txt (line 1)) (1.0.8)\n",
      "Requirement already satisfied: protobuf>=3.6.1 in /home/eduardonunes/Documents/virtualenvs/deeplearning/lib/python3.5/site-packages (from tensorflow==1.13.1->-r requirements.txt (line 1)) (3.8.0)\n",
      "Requirement already satisfied: keras-preprocessing>=1.0.5 in /home/eduardonunes/Documents/virtualenvs/deeplearning/lib/python3.5/site-packages (from tensorflow==1.13.1->-r requirements.txt (line 1)) (1.1.0)\n",
      "Requirement already satisfied: python-dateutil>=2.5.0 in /home/eduardonunes/Documents/virtualenvs/deeplearning/lib/python3.5/site-packages (from pandas==0.24.2->-r requirements.txt (line 3)) (2.8.0)\n",
      "Requirement already satisfied: pytz>=2011k in /home/eduardonunes/Documents/virtualenvs/deeplearning/lib/python3.5/site-packages (from pandas==0.24.2->-r requirements.txt (line 3)) (2019.1)\n",
      "Requirement already satisfied: kiwisolver>=1.0.1 in /home/eduardonunes/Documents/virtualenvs/deeplearning/lib/python3.5/site-packages (from matplotlib==3.0.3->-r requirements.txt (line 4)) (1.1.0)\n",
      "Requirement already satisfied: pyparsing!=2.0.4,!=2.1.2,!=2.1.6,>=2.0.1 in /home/eduardonunes/Documents/virtualenvs/deeplearning/lib/python3.5/site-packages (from matplotlib==3.0.3->-r requirements.txt (line 4)) (2.4.0)\n",
      "Requirement already satisfied: cycler>=0.10 in /home/eduardonunes/Documents/virtualenvs/deeplearning/lib/python3.5/site-packages (from matplotlib==3.0.3->-r requirements.txt (line 4)) (0.10.0)\n",
      "Requirement already satisfied: scipy>=0.14 in /home/eduardonunes/Documents/virtualenvs/deeplearning/lib/python3.5/site-packages (from Keras==2.2.4->-r requirements.txt (line 5)) (1.3.0)\n",
      "Requirement already satisfied: pyyaml in /home/eduardonunes/Documents/virtualenvs/deeplearning/lib/python3.5/site-packages (from Keras==2.2.4->-r requirements.txt (line 5)) (5.1.1)\n",
      "Requirement already satisfied: h5py in /home/eduardonunes/Documents/virtualenvs/deeplearning/lib/python3.5/site-packages (from Keras==2.2.4->-r requirements.txt (line 5)) (2.9.0)\n",
      "Requirement already satisfied: scikit-learn in /home/eduardonunes/Documents/virtualenvs/deeplearning/lib/python3.5/site-packages (from sklearn==0.0->-r requirements.txt (line 6)) (0.21.2)\n",
      "Requirement already satisfied: mock>=2.0.0 in /home/eduardonunes/Documents/virtualenvs/deeplearning/lib/python3.5/site-packages (from tensorflow-estimator<1.14.0rc0,>=1.13.0->tensorflow==1.13.1->-r requirements.txt (line 1)) (3.0.5)\n",
      "Requirement already satisfied: werkzeug>=0.11.15 in /home/eduardonunes/Documents/virtualenvs/deeplearning/lib/python3.5/site-packages (from tensorboard<1.14.0,>=1.13.0->tensorflow==1.13.1->-r requirements.txt (line 1)) (0.15.4)\n",
      "Requirement already satisfied: markdown>=2.6.8 in /home/eduardonunes/Documents/virtualenvs/deeplearning/lib/python3.5/site-packages (from tensorboard<1.14.0,>=1.13.0->tensorflow==1.13.1->-r requirements.txt (line 1)) (3.1.1)\n",
      "Requirement already satisfied: setuptools in /home/eduardonunes/Documents/virtualenvs/deeplearning/lib/python3.5/site-packages (from protobuf>=3.6.1->tensorflow==1.13.1->-r requirements.txt (line 1)) (32.3.1)\n",
      "Requirement already satisfied: joblib>=0.11 in /home/eduardonunes/Documents/virtualenvs/deeplearning/lib/python3.5/site-packages (from scikit-learn->sklearn==0.0->-r requirements.txt (line 6)) (0.13.2)\n",
      "Requirement already up-to-date: keras in /home/eduardonunes/Documents/virtualenvs/deeplearning/lib/python3.5/site-packages (2.2.4)\n",
      "Requirement already satisfied, skipping upgrade: numpy>=1.9.1 in /home/eduardonunes/Documents/virtualenvs/deeplearning/lib/python3.5/site-packages (from keras) (1.16.2)\n",
      "Requirement already satisfied, skipping upgrade: h5py in /home/eduardonunes/Documents/virtualenvs/deeplearning/lib/python3.5/site-packages (from keras) (2.9.0)\n",
      "Requirement already satisfied, skipping upgrade: keras-applications>=1.0.6 in /home/eduardonunes/Documents/virtualenvs/deeplearning/lib/python3.5/site-packages (from keras) (1.0.8)\n",
      "Requirement already satisfied, skipping upgrade: scipy>=0.14 in /home/eduardonunes/Documents/virtualenvs/deeplearning/lib/python3.5/site-packages (from keras) (1.3.0)\n",
      "Requirement already satisfied, skipping upgrade: pyyaml in /home/eduardonunes/Documents/virtualenvs/deeplearning/lib/python3.5/site-packages (from keras) (5.1.1)\n",
      "Requirement already satisfied, skipping upgrade: six>=1.9.0 in /home/eduardonunes/Documents/virtualenvs/deeplearning/lib/python3.5/site-packages (from keras) (1.12.0)\n",
      "Requirement already satisfied, skipping upgrade: keras-preprocessing>=1.0.5 in /home/eduardonunes/Documents/virtualenvs/deeplearning/lib/python3.5/site-packages (from keras) (1.1.0)\n"
     ]
    }
   ],
   "source": [
    "!pip install -r requirements.txt\n",
    "!pip install --upgrade keras"
   ]
  },
  {
   "cell_type": "code",
   "execution_count": 7,
   "metadata": {},
   "outputs": [],
   "source": [
    "# Convolutional Neural Network\n",
    "\n",
    "# Part 1 - Building the CNN\n",
    "\n",
    "# Importing the Keras libraries and packages\n",
    "from keras.models import Sequential\n",
    "from keras.layers import Conv2D\n",
    "from keras.layers import MaxPooling2D\n",
    "from keras.layers import Flatten\n",
    "from keras.layers import Dense\n",
    "from PIL import ImageFile\n",
    "\n",
    "ImageFile.LOAD_TRUNCATED_IMAGES = True\n"
   ]
  },
  {
   "cell_type": "code",
   "execution_count": 8,
   "metadata": {},
   "outputs": [],
   "source": [
    "# Initialising the CNN\n",
    "classifier = Sequential()\n",
    "\n",
    "# Step 1 - Convolution\n",
    "classifier.add(Conv2D(32, (3, 3), input_shape=(64, 64, 3), activation='relu'))\n",
    "\n",
    "# Step 2 - Pooling\n",
    "classifier.add(MaxPooling2D(pool_size=(2, 2)))\n",
    "\n",
    "# Adding a second convolutional layer\n",
    "classifier.add(Conv2D(32, (3, 3), activation='relu'))\n",
    "classifier.add(MaxPooling2D(pool_size=(2, 2)))\n",
    "\n",
    "# Adding a third convolutional layer\n",
    "classifier.add(Conv2D(32, (3, 3), activation='tanh'))\n",
    "classifier.add(MaxPooling2D(pool_size=(2, 2)))\n",
    "\n",
    "# Step 3 - Flattening\n",
    "classifier.add(Flatten())\n",
    "\n",
    "# Step 4 - Full connection\n",
    "classifier.add(Dense(units=128, activation='relu'))\n",
    "classifier.add(Dense(units=1, activation='sigmoid'))\n",
    "\n",
    "# Compiling the CNN\n",
    "classifier.compile(optimizer='adam', loss='binary_crossentropy', metrics=['accuracy'])\n"
   ]
  },
  {
   "cell_type": "code",
   "execution_count": null,
   "metadata": {},
   "outputs": [
    {
     "name": "stdout",
     "output_type": "stream",
     "text": [
      "Found 8000 images belonging to 2 classes.\n",
      "Found 2000 images belonging to 2 classes.\n",
      "WARNING:tensorflow:From /home/eduardonunes/Documents/virtualenvs/deeplearning/lib/python3.5/site-packages/tensorflow/python/ops/math_ops.py:3066: to_int32 (from tensorflow.python.ops.math_ops) is deprecated and will be removed in a future version.\n",
      "Instructions for updating:\n",
      "Use tf.cast instead.\n",
      "Epoch 1/5\n",
      "8000/8000 [==============================] - 2087s 261ms/step - loss: 0.3238 - acc: 0.8502 - val_loss: 0.4679 - val_acc: 0.8396\n",
      "Epoch 2/5\n",
      "8000/8000 [==============================] - 2064s 258ms/step - loss: 0.0970 - acc: 0.9633 - val_loss: 0.7258 - val_acc: 0.8306\n",
      "Epoch 3/5\n",
      " 397/8000 [>.............................] - ETA: 28:20 - loss: 0.0639 - acc: 0.9769"
     ]
    }
   ],
   "source": [
    "# Part 2 - Fitting the CNN to the images\n",
    "\n",
    "from keras.preprocessing.image import ImageDataGenerator\n",
    "\n",
    "train_datagen = ImageDataGenerator(rescale = 1./255,\n",
    "                                   shear_range = 0.2,\n",
    "                                   zoom_range = 0.2,\n",
    "                                   horizontal_flip = True)\n",
    "\n",
    "test_datagen = ImageDataGenerator(rescale = 1./255)\n",
    "\n",
    "training_set = train_datagen.flow_from_directory('dataset/training_set',\n",
    "                                                 target_size = (64, 64),\n",
    "                                                 batch_size = 32,\n",
    "                                                 class_mode = 'binary')\n",
    "\n",
    "test_set = test_datagen.flow_from_directory('dataset/test_set',\n",
    "                                            target_size = (64, 64),\n",
    "                                            batch_size = 32,\n",
    "                                            class_mode = 'binary')\n",
    "\n",
    "classifier.fit_generator(training_set,\n",
    "                         steps_per_epoch = 8000,\n",
    "                         epochs = 5,\n",
    "                         validation_data = test_set,\n",
    "                         validation_steps = 2000)"
   ]
  },
  {
   "cell_type": "code",
   "execution_count": null,
   "metadata": {},
   "outputs": [],
   "source": [
    "# Part 3 - Making new predictions\n",
    "\n",
    "import numpy as np\n",
    "from keras.preprocessing import image\n",
    "test_image = image.load_img('dataset/single_prediction/cat_or_dog_1.jpg', target_size = (64, 64))\n",
    "test_image = image.img_to_array(test_image)\n",
    "test_image = np.expand_dims(test_image, axis = 0)\n",
    "result = classifier.predict(test_image)\n",
    "training_set.class_indices\n",
    "if result[0][0] == 1:\n",
    "    prediction = 'dog'\n",
    "else:\n",
    "    prediction = 'cat'"
   ]
  },
  {
   "cell_type": "code",
   "execution_count": null,
   "metadata": {},
   "outputs": [],
   "source": []
  }
 ],
 "metadata": {
  "kernelspec": {
   "display_name": "Python 3",
   "language": "python",
   "name": "python3"
  },
  "language_info": {
   "codemirror_mode": {
    "name": "ipython",
    "version": 3
   },
   "file_extension": ".py",
   "mimetype": "text/x-python",
   "name": "python",
   "nbconvert_exporter": "python",
   "pygments_lexer": "ipython3",
   "version": "3.5.3"
  }
 },
 "nbformat": 4,
 "nbformat_minor": 2
}
