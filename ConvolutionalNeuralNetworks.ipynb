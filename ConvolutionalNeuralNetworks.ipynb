{
 "cells": [
  {
   "cell_type": "code",
   "execution_count": null,
   "metadata": {},
   "outputs": [],
   "source": [
    "!pip install -r requirements.txt"
   ]
  },
  {
   "cell_type": "code",
   "execution_count": 1,
   "metadata": {},
   "outputs": [
    {
     "name": "stderr",
     "output_type": "stream",
     "text": [
      "Using TensorFlow backend.\n"
     ]
    }
   ],
   "source": [
    "# Convolutional Neural Network\n",
    "\n",
    "# Part 1 - Building the CNN\n",
    "\n",
    "# Importing the Keras libraries and packages\n",
    "from keras.models import Sequential\n",
    "from keras.layers import Conv2D\n",
    "from keras.layers import MaxPooling2D\n",
    "from keras.layers import Flatten\n",
    "from keras.layers import Dense"
   ]
  },
  {
   "cell_type": "code",
   "execution_count": 2,
   "metadata": {},
   "outputs": [
    {
     "name": "stdout",
     "output_type": "stream",
     "text": [
      "WARNING:tensorflow:From C:\\ProgramData\\Anaconda3\\lib\\site-packages\\tensorflow\\python\\framework\\op_def_library.py:263: colocate_with (from tensorflow.python.framework.ops) is deprecated and will be removed in a future version.\n",
      "Instructions for updating:\n",
      "Colocations handled automatically by placer.\n"
     ]
    }
   ],
   "source": [
    "# Initialising the CNN\n",
    "classifier = Sequential()\n",
    "\n",
    "# Step 1 - Convolution\n",
    "classifier.add(Conv2D(32, (3, 3), input_shape = (64, 64, 3), activation = 'relu'))\n",
    "\n",
    "# Step 2 - Pooling\n",
    "classifier.add(MaxPooling2D(pool_size = (2, 2)))\n",
    "\n",
    "# Adding a second convolutional layer\n",
    "classifier.add(Conv2D(32, (3, 3), activation = 'relu'))\n",
    "classifier.add(MaxPooling2D(pool_size = (2, 2)))\n",
    "\n",
    "# Adding a second convolutional layer\n",
    "classifier.add(Conv2D(32, (3, 3), activation = 'relu'))\n",
    "classifier.add(MaxPooling2D(pool_size = (2, 2)))\n",
    "\n",
    "# Step 3 - Flattening\n",
    "classifier.add(Flatten())\n",
    "\n",
    "# Step 4 - Full connection\n",
    "classifier.add(Dense(units = 128, activation = 'relu'))\n",
    "classifier.add(Dense(units = 1, activation = 'sigmoid'))\n",
    "\n",
    "# Compiling the CNN\n",
    "classifier.compile(optimizer = 'adam', loss = 'binary_crossentropy', metrics = ['accuracy'])\n"
   ]
  },
  {
   "cell_type": "code",
   "execution_count": 3,
   "metadata": {},
   "outputs": [
    {
     "name": "stdout",
     "output_type": "stream",
     "text": [
      "Found 8000 images belonging to 2 classes.\n",
      "Found 2000 images belonging to 2 classes.\n",
      "WARNING:tensorflow:From C:\\ProgramData\\Anaconda3\\lib\\site-packages\\tensorflow\\python\\ops\\math_ops.py:3066: to_int32 (from tensorflow.python.ops.math_ops) is deprecated and will be removed in a future version.\n",
      "Instructions for updating:\n",
      "Use tf.cast instead.\n",
      "Epoch 1/25\n",
      "8000/8000 [==============================] - 1233s 154ms/step - loss: 0.3932 - acc: 0.8116 - val_loss: 0.4564 - val_acc: 0.8374\n",
      "Epoch 2/25\n",
      "8000/8000 [==============================] - 1223s 153ms/step - loss: 0.1691 - acc: 0.9307 - val_loss: 0.6462 - val_acc: 0.8228\n",
      "Epoch 3/25\n",
      "8000/8000 [==============================] - 1221s 153ms/step - loss: 0.0869 - acc: 0.9668 - val_loss: 0.7648 - val_acc: 0.8399\n",
      "Epoch 4/25\n",
      "8000/8000 [==============================] - 1225s 153ms/step - loss: 0.0606 - acc: 0.9775 - val_loss: 0.8641 - val_acc: 0.8399\n",
      "Epoch 5/25\n",
      "8000/8000 [==============================] - 1219s 152ms/step - loss: 0.0490 - acc: 0.9823 - val_loss: 0.8992 - val_acc: 0.8290\n",
      "Epoch 6/25\n",
      "8000/8000 [==============================] - 1212s 151ms/step - loss: 0.0423 - acc: 0.9850 - val_loss: 0.9694 - val_acc: 0.8269\n",
      "Epoch 7/25\n",
      "8000/8000 [==============================] - 1218s 152ms/step - loss: 0.0373 - acc: 0.9871 - val_loss: 1.0058 - val_acc: 0.8327\n",
      "Epoch 8/25\n",
      "8000/8000 [==============================] - 1214s 152ms/step - loss: 0.0329 - acc: 0.9886 - val_loss: 1.1023 - val_acc: 0.8251\n",
      "Epoch 9/25\n",
      "8000/8000 [==============================] - 1210s 151ms/step - loss: 0.0308 - acc: 0.9893 - val_loss: 1.1766 - val_acc: 0.8281\n",
      "Epoch 10/25\n",
      "8000/8000 [==============================] - 1211s 151ms/step - loss: 0.0281 - acc: 0.9907 - val_loss: 1.1251 - val_acc: 0.8283\n",
      "Epoch 11/25\n",
      "8000/8000 [==============================] - 1214s 152ms/step - loss: 0.0262 - acc: 0.9911 - val_loss: 1.2353 - val_acc: 0.8201\n",
      "Epoch 12/25\n",
      "8000/8000 [==============================] - 1214s 152ms/step - loss: 0.0241 - acc: 0.9918 - val_loss: 1.1928 - val_acc: 0.8285\n",
      "Epoch 13/25\n",
      "8000/8000 [==============================] - 1210s 151ms/step - loss: 0.0217 - acc: 0.9927 - val_loss: 1.3481 - val_acc: 0.8252\n",
      "Epoch 14/25\n",
      "8000/8000 [==============================] - 1210s 151ms/step - loss: 0.0219 - acc: 0.9929 - val_loss: 1.1962 - val_acc: 0.8246\n",
      "Epoch 15/25\n",
      "8000/8000 [==============================] - 1209s 151ms/step - loss: 0.0197 - acc: 0.9933 - val_loss: 1.2531 - val_acc: 0.8260\n",
      "Epoch 16/25\n",
      "8000/8000 [==============================] - 1217s 152ms/step - loss: 0.0194 - acc: 0.9935 - val_loss: 1.2934 - val_acc: 0.8316\n",
      "Epoch 17/25\n",
      "8000/8000 [==============================] - 1215s 152ms/step - loss: 0.0183 - acc: 0.9939 - val_loss: 1.2437 - val_acc: 0.8288\n",
      "Epoch 18/25\n",
      "8000/8000 [==============================] - 1211s 151ms/step - loss: 0.0172 - acc: 0.9942 - val_loss: 1.3653 - val_acc: 0.8279\n",
      "Epoch 19/25\n",
      "8000/8000 [==============================] - 1210s 151ms/step - loss: 0.0177 - acc: 0.9945 - val_loss: 1.2426 - val_acc: 0.8341\n",
      "Epoch 20/25\n",
      "8000/8000 [==============================] - 1215s 152ms/step - loss: 0.0169 - acc: 0.9945 - val_loss: 1.3999 - val_acc: 0.8229\n",
      "Epoch 21/25\n",
      "8000/8000 [==============================] - 1220s 152ms/step - loss: 0.0166 - acc: 0.9947 - val_loss: 1.5144 - val_acc: 0.8148\n",
      "Epoch 22/25\n",
      "8000/8000 [==============================] - 1213s 152ms/step - loss: 0.0159 - acc: 0.9949 - val_loss: 1.4871 - val_acc: 0.8175\n",
      "Epoch 23/25\n",
      "8000/8000 [==============================] - 1212s 151ms/step - loss: 0.0153 - acc: 0.9952 - val_loss: 1.4375 - val_acc: 0.8252\n",
      "Epoch 24/25\n",
      "8000/8000 [==============================] - 1212s 151ms/step - loss: 0.0155 - acc: 0.9952 - val_loss: 1.4725 - val_acc: 0.8246\n",
      "Epoch 25/25\n",
      "8000/8000 [==============================] - 1207s 151ms/step - loss: 0.0158 - acc: 0.9951 - val_loss: 1.4149 - val_acc: 0.8305\n"
     ]
    },
    {
     "data": {
      "text/plain": [
       "<keras.callbacks.History at 0x20c8f86ada0>"
      ]
     },
     "execution_count": 3,
     "metadata": {},
     "output_type": "execute_result"
    }
   ],
   "source": [
    "# Part 2 - Fitting the CNN to the images\n",
    "\n",
    "from keras.preprocessing.image import ImageDataGenerator\n",
    "\n",
    "train_datagen = ImageDataGenerator(rescale = 1./255,\n",
    "                                   shear_range = 0.2,\n",
    "                                   zoom_range = 0.2,\n",
    "                                   horizontal_flip = True)\n",
    "\n",
    "test_datagen = ImageDataGenerator(rescale = 1./255)\n",
    "\n",
    "training_set = train_datagen.flow_from_directory('dataset/training_set',\n",
    "                                                 target_size = (64, 64),\n",
    "                                                 batch_size = 32,\n",
    "                                                 class_mode = 'binary')\n",
    "\n",
    "test_set = test_datagen.flow_from_directory('dataset/test_set',\n",
    "                                            target_size = (64, 64),\n",
    "                                            batch_size = 32,\n",
    "                                            class_mode = 'binary')\n",
    "\n",
    "classifier.fit_generator(training_set,\n",
    "                         steps_per_epoch = 8000,\n",
    "                         epochs = 25,\n",
    "                         validation_data = test_set,\n",
    "                         validation_steps = 2000)"
   ]
  },
  {
   "cell_type": "code",
   "execution_count": 4,
   "metadata": {},
   "outputs": [],
   "source": [
    "# Part 3 - Making new predictions\n",
    "\n",
    "import numpy as np\n",
    "from keras.preprocessing import image\n",
    "test_image = image.load_img('dataset/single_prediction/cat_or_dog_1.jpg', target_size = (64, 64))\n",
    "test_image = image.img_to_array(test_image)\n",
    "test_image = np.expand_dims(test_image, axis = 0)\n",
    "result = classifier.predict(test_image)\n",
    "training_set.class_indices\n",
    "if result[0][0] == 1:\n",
    "    prediction = 'dog'\n",
    "else:\n",
    "    prediction = 'cat'"
   ]
  },
  {
   "cell_type": "code",
   "execution_count": null,
   "metadata": {},
   "outputs": [],
   "source": []
  }
 ],
 "metadata": {
  "kernelspec": {
   "display_name": "Python 3",
   "language": "python",
   "name": "python3"
  },
  "language_info": {
   "codemirror_mode": {
    "name": "ipython",
    "version": 3
   },
   "file_extension": ".py",
   "mimetype": "text/x-python",
   "name": "python",
   "nbconvert_exporter": "python",
   "pygments_lexer": "ipython3",
   "version": "3.6.8"
  }
 },
 "nbformat": 4,
 "nbformat_minor": 2
}
