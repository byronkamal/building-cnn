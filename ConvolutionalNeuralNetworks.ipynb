{
 "cells": [
  {
   "cell_type": "code",
   "execution_count": 1,
   "metadata": {},
   "outputs": [
    {
     "name": "stdout",
     "output_type": "stream",
     "text": "Requirement already satisfied: tensorflow==1.13.1 in /home/joao/anaconda3/lib/python3.7/site-packages (from -r requirements.txt (line 1)) (1.13.1)\nRequirement already satisfied: numpy==1.16.2 in /home/joao/anaconda3/lib/python3.7/site-packages (from -r requirements.txt (line 2)) (1.16.2)\nRequirement already satisfied: pandas==0.24.2 in /home/joao/anaconda3/lib/python3.7/site-packages (from -r requirements.txt (line 3)) (0.24.2)\nRequirement already satisfied: matplotlib==3.0.3 in /home/joao/anaconda3/lib/python3.7/site-packages (from -r requirements.txt (line 4)) (3.0.3)\nRequirement already satisfied: Keras==2.2.4 in /home/joao/anaconda3/lib/python3.7/site-packages (from -r requirements.txt (line 5)) (2.2.4)\nRequirement already satisfied: sklearn==0.0 in /home/joao/anaconda3/lib/python3.7/site-packages (from -r requirements.txt (line 6)) (0.0)\nRequirement already satisfied: tensorflow-estimator<1.14.0rc0,>=1.13.0 in /home/joao/anaconda3/lib/python3.7/site-packages (from tensorflow==1.13.1->-r requirements.txt (line 1)) (1.13.0)\nRequirement already satisfied: gast>=0.2.0 in /home/joao/anaconda3/lib/python3.7/site-packages (from tensorflow==1.13.1->-r requirements.txt (line 1)) (0.2.2)\nRequirement already satisfied: tensorboard<1.14.0,>=1.13.0 in /home/joao/anaconda3/lib/python3.7/site-packages (from tensorflow==1.13.1->-r requirements.txt (line 1)) (1.13.1)\nRequirement already satisfied: astor>=0.6.0 in /home/joao/anaconda3/lib/python3.7/site-packages (from tensorflow==1.13.1->-r requirements.txt (line 1)) (0.8.0)\nRequirement already satisfied: grpcio>=1.8.6 in /home/joao/anaconda3/lib/python3.7/site-packages (from tensorflow==1.13.1->-r requirements.txt (line 1)) (1.16.1)\nRequirement already satisfied: wheel>=0.26 in /home/joao/anaconda3/lib/python3.7/site-packages (from tensorflow==1.13.1->-r requirements.txt (line 1)) (0.33.1)\nRequirement already satisfied: absl-py>=0.1.6 in /home/joao/anaconda3/lib/python3.7/site-packages (from tensorflow==1.13.1->-r requirements.txt (line 1)) (0.8.0)\nRequirement already satisfied: protobuf>=3.6.1 in /home/joao/anaconda3/lib/python3.7/site-packages (from tensorflow==1.13.1->-r requirements.txt (line 1)) (3.9.2)\nRequirement already satisfied: six>=1.10.0 in /home/joao/anaconda3/lib/python3.7/site-packages (from tensorflow==1.13.1->-r requirements.txt (line 1)) (1.12.0)\nRequirement already satisfied: keras-preprocessing>=1.0.5 in /home/joao/anaconda3/lib/python3.7/site-packages (from tensorflow==1.13.1->-r requirements.txt (line 1)) (1.1.0)\nRequirement already satisfied: termcolor>=1.1.0 in /home/joao/anaconda3/lib/python3.7/site-packages (from tensorflow==1.13.1->-r requirements.txt (line 1)) (1.1.0)\nRequirement already satisfied: keras-applications>=1.0.6 in /home/joao/anaconda3/lib/python3.7/site-packages (from tensorflow==1.13.1->-r requirements.txt (line 1)) (1.0.8)\nRequirement already satisfied: python-dateutil>=2.5.0 in /home/joao/anaconda3/lib/python3.7/site-packages (from pandas==0.24.2->-r requirements.txt (line 3)) (2.8.0)\nRequirement already satisfied: pytz>=2011k in /home/joao/anaconda3/lib/python3.7/site-packages (from pandas==0.24.2->-r requirements.txt (line 3)) (2018.9)\nRequirement already satisfied: cycler>=0.10 in /home/joao/anaconda3/lib/python3.7/site-packages (from matplotlib==3.0.3->-r requirements.txt (line 4)) (0.10.0)\nRequirement already satisfied: kiwisolver>=1.0.1 in /home/joao/anaconda3/lib/python3.7/site-packages (from matplotlib==3.0.3->-r requirements.txt (line 4)) (1.0.1)\nRequirement already satisfied: pyparsing!=2.0.4,!=2.1.2,!=2.1.6,>=2.0.1 in /home/joao/anaconda3/lib/python3.7/site-packages (from matplotlib==3.0.3->-r requirements.txt (line 4)) (2.3.1)\nRequirement already satisfied: pyyaml in /home/joao/anaconda3/lib/python3.7/site-packages (from Keras==2.2.4->-r requirements.txt (line 5)) (5.1)\nRequirement already satisfied: h5py in /home/joao/anaconda3/lib/python3.7/site-packages (from Keras==2.2.4->-r requirements.txt (line 5)) (2.9.0)\nRequirement already satisfied: scipy>=0.14 in /home/joao/anaconda3/lib/python3.7/site-packages (from Keras==2.2.4->-r requirements.txt (line 5)) (1.2.1)\nRequirement already satisfied: scikit-learn in /home/joao/anaconda3/lib/python3.7/site-packages (from sklearn==0.0->-r requirements.txt (line 6)) (0.20.3)\nRequirement already satisfied: mock>=2.0.0 in /home/joao/anaconda3/lib/python3.7/site-packages (from tensorflow-estimator<1.14.0rc0,>=1.13.0->tensorflow==1.13.1->-r requirements.txt (line 1)) (3.0.5)\nRequirement already satisfied: markdown>=2.6.8 in /home/joao/anaconda3/lib/python3.7/site-packages (from tensorboard<1.14.0,>=1.13.0->tensorflow==1.13.1->-r requirements.txt (line 1)) (3.1.1)\nRequirement already satisfied: werkzeug>=0.11.15 in /home/joao/anaconda3/lib/python3.7/site-packages (from tensorboard<1.14.0,>=1.13.0->tensorflow==1.13.1->-r requirements.txt (line 1)) (0.14.1)\nRequirement already satisfied: setuptools in /home/joao/anaconda3/lib/python3.7/site-packages (from protobuf>=3.6.1->tensorflow==1.13.1->-r requirements.txt (line 1)) (42.0.1)\n"
    }
   ],
   "source": [
    "!pip install -r requirements.txt"
   ]
  },
  {
   "cell_type": "code",
   "execution_count": 2,
   "metadata": {},
   "outputs": [
    {
     "name": "stderr",
     "output_type": "stream",
     "text": "Using TensorFlow backend.\n"
    }
   ],
   "source": [
    "# Convolutional Neural Network\n",
    "\n",
    "# Part 1 - Building the CNN\n",
    "\n",
    "# Importing the Keras libraries and packages\n",
    "from keras.models import Sequential\n",
    "from keras.layers import Conv2D\n",
    "from keras.layers import MaxPooling2D\n",
    "from keras.layers import Flatten\n",
    "from keras.layers import Dense"
   ]
  },
  {
   "cell_type": "code",
   "execution_count": 3,
   "metadata": {},
   "outputs": [
    {
     "name": "stdout",
     "output_type": "stream",
     "text": "WARNING:tensorflow:From /home/joao/anaconda3/lib/python3.7/site-packages/tensorflow/python/framework/op_def_library.py:263: colocate_with (from tensorflow.python.framework.ops) is deprecated and will be removed in a future version.\nInstructions for updating:\nColocations handled automatically by placer.\n"
    }
   ],
   "source": [
    "# Initialising the CNN\n",
    "classifier = Sequential()\n",
    "\n",
    "# Step 1 - Convolution\n",
    "classifier.add(Conv2D(32, (3, 3), input_shape = (64, 64, 3), activation = 'relu'))\n",
    "\n",
    "# Step 2 - Pooling\n",
    "classifier.add(MaxPooling2D(pool_size = (2, 2)))\n",
    "\n",
    "# Adding first convolutional layer\n",
    "classifier.add(Conv2D(32, (3, 3), activation = 'relu'))\n",
    "classifier.add(MaxPooling2D(pool_size = (2, 2)))\n",
    "\n",
    "# Adding a second convolutional layer\n",
    "classifier.add(Conv2D(32, (3, 3), activation = 'relu'))\n",
    "classifier.add(MaxPooling2D(pool_size = (2, 2)))\n",
    "\n",
    "# Adding a third convolutional layer\n",
    "classifier.add(Conv2D(32, (3, 3), activation = 'relu'))\n",
    "classifier.add(MaxPooling2D(pool_size = (2, 2)))\n",
    "\n",
    "# Step 3 - Flattening\n",
    "classifier.add(Flatten())\n",
    "\n",
    "# Step 4 - Full connection\n",
    "classifier.add(Dense(units = 128, activation = 'relu'))\n",
    "classifier.add(Dense(units = 1, activation = 'sigmoid'))\n",
    "\n",
    "# Compiling the CNN\n",
    "classifier.compile(optimizer = 'adam', loss = 'binary_crossentropy', metrics = ['accuracy'])\n"
   ]
  },
  {
   "cell_type": "code",
   "execution_count": 4,
   "metadata": {},
   "outputs": [
    {
     "name": "stdout",
     "output_type": "stream",
     "text": "Found 8000 images belonging to 2 classes.\nFound 2000 images belonging to 2 classes.\nWARNING:tensorflow:From /home/joao/anaconda3/lib/python3.7/site-packages/tensorflow/python/ops/math_ops.py:3066: to_int32 (from tensorflow.python.ops.math_ops) is deprecated and will be removed in a future version.\nInstructions for updating:\nUse tf.cast instead.\nEpoch 1/20\n100/100 [==============================] - 124s 1s/step - loss: 0.6942 - acc: 0.4975 - val_loss: 0.6926 - val_acc: 0.4994\nEpoch 2/20\n100/100 [==============================] - 133s 1s/step - loss: 0.6901 - acc: 0.5356 - val_loss: 0.6823 - val_acc: 0.5586\nEpoch 3/20\n100/100 [==============================] - 125s 1s/step - loss: 0.6721 - acc: 0.5756 - val_loss: 0.6897 - val_acc: 0.5849\nEpoch 4/20\n100/100 [==============================] - 89s 891ms/step - loss: 0.6573 - acc: 0.6169 - val_loss: 0.6476 - val_acc: 0.6310\nEpoch 5/20\n100/100 [==============================] - 64s 640ms/step - loss: 0.6440 - acc: 0.6266 - val_loss: 0.6288 - val_acc: 0.6514\nEpoch 6/20\n100/100 [==============================] - 58s 575ms/step - loss: 0.6300 - acc: 0.6462 - val_loss: 0.6061 - val_acc: 0.6853\nEpoch 7/20\n100/100 [==============================] - 59s 595ms/step - loss: 0.6099 - acc: 0.6616 - val_loss: 0.6568 - val_acc: 0.6200\nEpoch 8/20\n100/100 [==============================] - 60s 596ms/step - loss: 0.5985 - acc: 0.6872 - val_loss: 0.5839 - val_acc: 0.6940\nEpoch 9/20\n100/100 [==============================] - 59s 587ms/step - loss: 0.5927 - acc: 0.6784 - val_loss: 0.5576 - val_acc: 0.7174\nEpoch 10/20\n100/100 [==============================] - 60s 595ms/step - loss: 0.5738 - acc: 0.7050 - val_loss: 0.5621 - val_acc: 0.7187\nEpoch 11/20\n100/100 [==============================] - 59s 595ms/step - loss: 0.5620 - acc: 0.6953 - val_loss: 0.5625 - val_acc: 0.7141\nEpoch 12/20\n100/100 [==============================] - 57s 567ms/step - loss: 0.5490 - acc: 0.7219 - val_loss: 0.5488 - val_acc: 0.7369\nEpoch 13/20\n100/100 [==============================] - 60s 603ms/step - loss: 0.5488 - acc: 0.7241 - val_loss: 0.5269 - val_acc: 0.7478\nEpoch 14/20\n100/100 [==============================] - 61s 609ms/step - loss: 0.5419 - acc: 0.7231 - val_loss: 0.5333 - val_acc: 0.7286\nEpoch 15/20\n100/100 [==============================] - 62s 620ms/step - loss: 0.5311 - acc: 0.7403 - val_loss: 0.5118 - val_acc: 0.7525\nEpoch 16/20\n100/100 [==============================] - 58s 584ms/step - loss: 0.5071 - acc: 0.7562 - val_loss: 0.5160 - val_acc: 0.7454\nEpoch 17/20\n100/100 [==============================] - 59s 589ms/step - loss: 0.5126 - acc: 0.7537 - val_loss: 0.5286 - val_acc: 0.7428\nEpoch 18/20\n100/100 [==============================] - 79s 786ms/step - loss: 0.5069 - acc: 0.7459 - val_loss: 0.4967 - val_acc: 0.7590\nEpoch 19/20\n100/100 [==============================] - 67s 672ms/step - loss: 0.4847 - acc: 0.7687 - val_loss: 0.4979 - val_acc: 0.7628\nEpoch 20/20\n100/100 [==============================] - 61s 612ms/step - loss: 0.4976 - acc: 0.7572 - val_loss: 0.4813 - val_acc: 0.7742\n"
    },
    {
     "data": {
      "text/plain": "<keras.callbacks.History at 0x7f555e815a90>"
     },
     "execution_count": 4,
     "metadata": {},
     "output_type": "execute_result"
    }
   ],
   "source": [
    "# Part 2 - Fitting the CNN to the images\n",
    "\n",
    "from keras.preprocessing.image import ImageDataGenerator\n",
    "\n",
    "train_datagen = ImageDataGenerator(rescale = 1./255,\n",
    "                                   shear_range = 0.2,\n",
    "                                   zoom_range = 0.2,\n",
    "                                   horizontal_flip = True)\n",
    "\n",
    "test_datagen = ImageDataGenerator(rescale = 1./255)\n",
    "\n",
    "training_set = train_datagen.flow_from_directory('dataset/training_set',\n",
    "                                                 target_size = (64, 64),\n",
    "                                                 batch_size = 32,\n",
    "                                                 class_mode = 'binary')\n",
    "\n",
    "test_set = test_datagen.flow_from_directory('dataset/test_set',\n",
    "                                            target_size = (64, 64),\n",
    "                                            batch_size = 32,\n",
    "                                            class_mode = 'binary')\n",
    "\n",
    "classifier.fit_generator(training_set,\n",
    "                         steps_per_epoch = 80,\n",
    "                         epochs = 40,\n",
    "                         validation_data = test_set,\n",
    "                         validation_steps = 200)"
   ]
  },
  {
   "cell_type": "code",
   "execution_count": 6,
   "metadata": {},
   "outputs": [
    {
     "name": "stdout",
     "output_type": "stream",
     "text": "dog\n_________________________________________________________________\nLayer (type)                 Output Shape              Param #   \n=================================================================\nconv2d_1 (Conv2D)            (None, 62, 62, 32)        896       \n_________________________________________________________________\nmax_pooling2d_1 (MaxPooling2 (None, 31, 31, 32)        0         \n_________________________________________________________________\nconv2d_2 (Conv2D)            (None, 29, 29, 32)        9248      \n_________________________________________________________________\nmax_pooling2d_2 (MaxPooling2 (None, 14, 14, 32)        0         \n_________________________________________________________________\nconv2d_3 (Conv2D)            (None, 12, 12, 32)        9248      \n_________________________________________________________________\nmax_pooling2d_3 (MaxPooling2 (None, 6, 6, 32)          0         \n_________________________________________________________________\nconv2d_4 (Conv2D)            (None, 4, 4, 32)          9248      \n_________________________________________________________________\nmax_pooling2d_4 (MaxPooling2 (None, 2, 2, 32)          0         \n_________________________________________________________________\nflatten_1 (Flatten)          (None, 128)               0         \n_________________________________________________________________\ndense_1 (Dense)              (None, 128)               16512     \n_________________________________________________________________\ndense_2 (Dense)              (None, 1)                 129       \n=================================================================\nTotal params: 45,281\nTrainable params: 45,281\nNon-trainable params: 0\n_________________________________________________________________\naccuracy:  0.7731224798387096\n"
    }
   ],
   "source": [
    "# Part 3 - Making new predictions\n",
    "\n",
    "import numpy as np\n",
    "from keras.preprocessing import image\n",
    "test_image = image.load_img('dataset/single_prediction/cat_or_dog_1.jpg', target_size = (64, 64))\n",
    "test_image = image.img_to_array(test_image)\n",
    "test_image = np.expand_dims(test_image, axis = 0)\n",
    "result = classifier.predict(test_image)\n",
    "training_set.class_indices\n",
    "if result[0][0] == 1:\n",
    "    prediction = 'dog'\n",
    "else:\n",
    "    prediction = 'cat'\n",
    "\n",
    "print(prediction)\n",
    "classifier.summary()\n",
    "\n",
    "loss, metric = classifier.evaluate_generator(generator=test_set, steps=500)\n",
    "\n",
    "print(\"accuracy: \", metric)\n"
   ]
  },
  {
   "cell_type": "code",
   "execution_count": null,
   "metadata": {},
   "outputs": [],
   "source": []
  }
 ],
 "metadata": {
  "kernelspec": {
   "display_name": "Python 3",
   "language": "python",
   "name": "python3"
  },
  "language_info": {
   "codemirror_mode": {
    "name": "ipython",
    "version": 3
   },
   "file_extension": ".py",
   "mimetype": "text/x-python",
   "name": "python",
   "nbconvert_exporter": "python",
   "pygments_lexer": "ipython3",
   "version": "3.7.3"
  }
 },
 "nbformat": 4,
 "nbformat_minor": 2
}