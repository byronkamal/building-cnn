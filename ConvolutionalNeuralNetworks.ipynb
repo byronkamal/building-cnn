{
 "cells": [
  {
   "cell_type": "code",
   "execution_count": 1,
   "metadata": {},
   "outputs": [
    {
     "name": "stderr",
     "output_type": "stream",
     "text": [
      "Using TensorFlow backend.\n"
     ]
    }
   ],
   "source": [
    "# Convolutional Neural Network\n",
    "\n",
    "# Part 1 - Building the CNN\n",
    "\n",
    "# Importing the Keras libraries and packages\n",
    "from keras.models import Sequential\n",
    "from keras.layers import Conv2D\n",
    "from keras.layers import MaxPooling2D\n",
    "from keras.layers import Flatten\n",
    "from keras.layers import Dense"
   ]
  },
  {
   "cell_type": "code",
   "execution_count": 2,
   "metadata": {},
   "outputs": [
    {
     "name": "stdout",
     "output_type": "stream",
     "text": [
      "WARNING:tensorflow:From /home/lucas/anaconda3/envs/aula/lib/python3.6/site-packages/tensorflow/python/framework/op_def_library.py:263: colocate_with (from tensorflow.python.framework.ops) is deprecated and will be removed in a future version.\n",
      "Instructions for updating:\n",
      "Colocations handled automatically by placer.\n"
     ]
    }
   ],
   "source": [
    "# Initialising the CNN\n",
    "classifier = Sequential()\n",
    "\n",
    "# Step 1 - Convolution\n",
    "classifier.add(Conv2D(32, (3, 3), input_shape = (64, 64, 3), activation = 'relu'))\n",
    "\n",
    "# Step 2 - Pooling\n",
    "classifier.add(MaxPooling2D(pool_size = (2, 2)))\n",
    "\n",
    "# Adding a second convolutional layer\n",
    "classifier.add(Conv2D(32, (3, 3), activation = 'relu'))\n",
    "classifier.add(MaxPooling2D(pool_size = (2, 2)))\n",
    "\n",
    "# Adding a second convolutional layer\n",
    "classifier.add(Conv2D(32, (3, 3), activation = 'relu'))\n",
    "classifier.add(MaxPooling2D(pool_size = (2, 2)))\n",
    "\n",
    "# Step 3 - Flattening\n",
    "classifier.add(Flatten())\n",
    "\n",
    "# Step 4 - Full connection\n",
    "classifier.add(Dense(units = 128, activation = 'relu'))\n",
    "classifier.add(Dense(units = 1, activation = 'sigmoid'))\n",
    "\n",
    "# Compiling the CNN\n",
    "classifier.compile(optimizer = 'adam', loss = 'binary_crossentropy', metrics = ['accuracy'])\n"
   ]
  },
  {
   "cell_type": "code",
   "execution_count": 4,
   "metadata": {},
   "outputs": [
    {
     "name": "stdout",
     "output_type": "stream",
     "text": [
      "Found 24 images belonging to 2 classes.\n",
      "Found 24 images belonging to 2 classes.\n",
      "Epoch 1/25\n",
      "24/24 [==============================] - 125s 5s/step - loss: 3.4621e-06 - acc: 1.0000 - val_loss: 1.1531 - val_acc: 0.8333\n",
      "Epoch 2/25\n",
      "24/24 [==============================] - 124s 5s/step - loss: 2.7020e-06 - acc: 1.0000 - val_loss: 1.1692 - val_acc: 0.8333\n",
      "Epoch 3/25\n",
      "24/24 [==============================] - 124s 5s/step - loss: 2.3295e-06 - acc: 1.0000 - val_loss: 1.1915 - val_acc: 0.8333\n",
      "Epoch 4/25\n",
      "24/24 [==============================] - 124s 5s/step - loss: 2.1497e-06 - acc: 1.0000 - val_loss: 1.1893 - val_acc: 0.8333\n",
      "Epoch 5/25\n",
      "24/24 [==============================] - 124s 5s/step - loss: 1.9804e-06 - acc: 1.0000 - val_loss: 1.1833 - val_acc: 0.8333\n",
      "Epoch 6/25\n",
      "24/24 [==============================] - 124s 5s/step - loss: 2.6570e-06 - acc: 1.0000 - val_loss: 1.1832 - val_acc: 0.8333\n",
      "Epoch 7/25\n",
      "24/24 [==============================] - 124s 5s/step - loss: 1.8077e-06 - acc: 1.0000 - val_loss: 1.1909 - val_acc: 0.8333\n",
      "Epoch 8/25\n",
      "24/24 [==============================] - 132s 5s/step - loss: 2.2581e-06 - acc: 1.0000 - val_loss: 1.1811 - val_acc: 0.8333\n",
      "Epoch 9/25\n",
      "24/24 [==============================] - 146s 6s/step - loss: 2.3968e-06 - acc: 1.0000 - val_loss: 1.1814 - val_acc: 0.8333\n",
      "Epoch 10/25\n",
      "24/24 [==============================] - 141s 6s/step - loss: 1.6608e-06 - acc: 1.0000 - val_loss: 1.1845 - val_acc: 0.8333\n",
      "Epoch 11/25\n",
      "24/24 [==============================] - 124s 5s/step - loss: 1.7422e-06 - acc: 1.0000 - val_loss: 1.2023 - val_acc: 0.8333\n",
      "Epoch 12/25\n",
      "24/24 [==============================] - 146s 6s/step - loss: 1.7368e-06 - acc: 1.0000 - val_loss: 1.2061 - val_acc: 0.8333\n",
      "Epoch 13/25\n",
      "24/24 [==============================] - 136s 6s/step - loss: 2.5298e-06 - acc: 1.0000 - val_loss: 1.1773 - val_acc: 0.8333\n",
      "Epoch 14/25\n",
      "24/24 [==============================] - 130s 5s/step - loss: 1.8099e-06 - acc: 1.0000 - val_loss: 1.2102 - val_acc: 0.8333\n",
      "Epoch 15/25\n",
      "24/24 [==============================] - 142s 6s/step - loss: 1.7710e-06 - acc: 1.0000 - val_loss: 1.1991 - val_acc: 0.8333\n",
      "Epoch 16/25\n",
      "24/24 [==============================] - 128s 5s/step - loss: 2.1351e-06 - acc: 1.0000 - val_loss: 1.1833 - val_acc: 0.8333\n",
      "Epoch 17/25\n",
      "24/24 [==============================] - 125s 5s/step - loss: 1.4278e-06 - acc: 1.0000 - val_loss: 1.2041 - val_acc: 0.8333\n",
      "Epoch 18/25\n",
      "24/24 [==============================] - 125s 5s/step - loss: 1.3597e-06 - acc: 1.0000 - val_loss: 1.1960 - val_acc: 0.8333\n",
      "Epoch 19/25\n",
      "24/24 [==============================] - 125s 5s/step - loss: 1.9215e-06 - acc: 1.0000 - val_loss: 1.2253 - val_acc: 0.8333\n",
      "Epoch 20/25\n",
      "24/24 [==============================] - 125s 5s/step - loss: 1.1417e-06 - acc: 1.0000 - val_loss: 1.2156 - val_acc: 0.8333\n",
      "Epoch 21/25\n",
      "24/24 [==============================] - 125s 5s/step - loss: 1.8881e-06 - acc: 1.0000 - val_loss: 1.2063 - val_acc: 0.8333\n",
      "Epoch 22/25\n",
      "24/24 [==============================] - 125s 5s/step - loss: 1.4290e-06 - acc: 1.0000 - val_loss: 1.2198 - val_acc: 0.8333\n",
      "Epoch 23/25\n",
      "24/24 [==============================] - 125s 5s/step - loss: 1.3895e-06 - acc: 1.0000 - val_loss: 1.2147 - val_acc: 0.8333\n",
      "Epoch 24/25\n",
      "24/24 [==============================] - 125s 5s/step - loss: 1.0342e-06 - acc: 1.0000 - val_loss: 1.2126 - val_acc: 0.8333\n",
      "Epoch 25/25\n",
      "24/24 [==============================] - 126s 5s/step - loss: 1.0698e-06 - acc: 1.0000 - val_loss: 1.2148 - val_acc: 0.8333\n"
     ]
    },
    {
     "data": {
      "text/plain": [
       "<keras.callbacks.History at 0x7f493be9ea20>"
      ]
     },
     "execution_count": 4,
     "metadata": {},
     "output_type": "execute_result"
    }
   ],
   "source": [
    "# Part 2 - Fitting the CNN to the images\n",
    "\n",
    "from keras.preprocessing.image import ImageDataGenerator\n",
    "\n",
    "train_datagen = ImageDataGenerator(rescale = 1./255,\n",
    "                                   shear_range = 0.2,\n",
    "                                   zoom_range = 0.2,\n",
    "                                   horizontal_flip = True)\n",
    "\n",
    "test_datagen = ImageDataGenerator(rescale = 1./255)\n",
    "\n",
    "training_set = train_datagen.flow_from_directory('dataset/training_set',\n",
    "                                                 target_size = (64, 64),\n",
    "                                                 batch_size = 32,\n",
    "                                                 class_mode = 'binary')\n",
    "\n",
    "test_set = test_datagen.flow_from_directory('dataset/test_set',\n",
    "                                            target_size = (64, 64),\n",
    "                                            batch_size = 32,\n",
    "                                            class_mode = 'binary')\n",
    "\n",
    "classifier.fit_generator(training_set,\n",
    "                         steps_per_epoch = 24,\n",
    "                         epochs = 25,\n",
    "                         validation_data = test_set,\n",
    "                         validation_steps = 2000)"
   ]
  },
  {
   "cell_type": "code",
   "execution_count": 37,
   "metadata": {},
   "outputs": [
    {
     "name": "stdout",
     "output_type": "stream",
     "text": [
      "pikachu\n"
     ]
    }
   ],
   "source": [
    "# Part 3 - Making new predictions\n",
    "# Foto do pikachu\n",
    "import numpy as np\n",
    "from keras.preprocessing import image\n",
    "test_image = image.load_img('dataset/single_prediction/pichu_or_pikachu1.jpeg', target_size = (64, 64))\n",
    "test_image = image.img_to_array(test_image)\n",
    "test_image = np.expand_dims(test_image, axis = 0)\n",
    "result = classifier.predict(test_image)\n",
    "training_set.class_indices\n",
    "if result[0][0] == 1:\n",
    "    prediction = 'pikachu'\n",
    "else:\n",
    "    prediction = 'pichu'\n",
    "print(prediction)"
   ]
  },
  {
   "cell_type": "code",
   "execution_count": 38,
   "metadata": {
    "scrolled": true
   },
   "outputs": [
    {
     "name": "stdout",
     "output_type": "stream",
     "text": [
      "pichu\n"
     ]
    }
   ],
   "source": [
    "# Part 3 - Making new predictions\n",
    "# Foto do pichu\n",
    "import numpy as np\n",
    "from keras.preprocessing import image\n",
    "test_image = image.load_img('dataset/single_prediction/pichu_or_pikachu2.jpeg', target_size = (64, 64))\n",
    "test_image = image.img_to_array(test_image)\n",
    "test_image = np.expand_dims(test_image, axis = 0)\n",
    "result = classifier.predict(test_image)\n",
    "training_set.class_indices\n",
    "if result[0][0] == 1:\n",
    "    prediction = 'pikachu'\n",
    "else:\n",
    "    prediction = 'pichu'\n",
    "print(prediction)"
   ]
  }
 ],
 "metadata": {
  "kernelspec": {
   "display_name": "Python 3",
   "language": "python",
   "name": "python3"
  },
  "language_info": {
   "codemirror_mode": {
    "name": "ipython",
    "version": 3
   },
   "file_extension": ".py",
   "mimetype": "text/x-python",
   "name": "python",
   "nbconvert_exporter": "python",
   "pygments_lexer": "ipython3",
   "version": "3.6.8"
  }
 },
 "nbformat": 4,
 "nbformat_minor": 2
}
