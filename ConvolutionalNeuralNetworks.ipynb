{
 "cells": [
  {
   "cell_type": "code",
   "execution_count": 1,
   "metadata": {},
   "outputs": [
    {
     "name": "stdout",
     "output_type": "stream",
     "text": [
      "Requirement already satisfied: tensorflow==1.13.1 in /home/stefania/anaconda3/lib/python3.6/site-packages (from -r requirements.txt (line 1)) (1.13.1)\n",
      "Requirement already satisfied: numpy==1.16.2 in /home/stefania/anaconda3/lib/python3.6/site-packages (from -r requirements.txt (line 2)) (1.16.2)\n",
      "Requirement already satisfied: pandas==0.24.2 in /home/stefania/anaconda3/lib/python3.6/site-packages (from -r requirements.txt (line 3)) (0.24.2)\n",
      "Requirement already satisfied: matplotlib==3.0.3 in /home/stefania/anaconda3/lib/python3.6/site-packages (from -r requirements.txt (line 4)) (3.0.3)\n",
      "Requirement already satisfied: Keras==2.2.4 in /home/stefania/anaconda3/lib/python3.6/site-packages (from -r requirements.txt (line 5)) (2.2.4)\n",
      "Requirement already satisfied: sklearn==0.0 in /home/stefania/anaconda3/lib/python3.6/site-packages (from -r requirements.txt (line 6)) (0.0)\n",
      "Requirement already satisfied: six>=1.10.0 in /home/stefania/anaconda3/lib/python3.6/site-packages (from tensorflow==1.13.1->-r requirements.txt (line 1)) (1.11.0)\n",
      "Requirement already satisfied: grpcio>=1.8.6 in /home/stefania/anaconda3/lib/python3.6/site-packages (from tensorflow==1.13.1->-r requirements.txt (line 1)) (1.23.0)\n",
      "Requirement already satisfied: protobuf>=3.6.1 in /home/stefania/anaconda3/lib/python3.6/site-packages (from tensorflow==1.13.1->-r requirements.txt (line 1)) (3.9.1)\n",
      "Requirement already satisfied: keras-applications>=1.0.6 in /home/stefania/anaconda3/lib/python3.6/site-packages (from tensorflow==1.13.1->-r requirements.txt (line 1)) (1.0.8)\n",
      "Requirement already satisfied: wheel>=0.26 in /home/stefania/anaconda3/lib/python3.6/site-packages (from tensorflow==1.13.1->-r requirements.txt (line 1)) (0.29.0)\n",
      "Requirement already satisfied: gast>=0.2.0 in /home/stefania/anaconda3/lib/python3.6/site-packages (from tensorflow==1.13.1->-r requirements.txt (line 1)) (0.2.2)\n",
      "Requirement already satisfied: tensorflow-estimator<1.14.0rc0,>=1.13.0 in /home/stefania/anaconda3/lib/python3.6/site-packages (from tensorflow==1.13.1->-r requirements.txt (line 1)) (1.13.0)\n",
      "Requirement already satisfied: absl-py>=0.1.6 in /home/stefania/anaconda3/lib/python3.6/site-packages (from tensorflow==1.13.1->-r requirements.txt (line 1)) (0.8.0)\n",
      "Requirement already satisfied: astor>=0.6.0 in /home/stefania/anaconda3/lib/python3.6/site-packages (from tensorflow==1.13.1->-r requirements.txt (line 1)) (0.8.0)\n",
      "Requirement already satisfied: keras-preprocessing>=1.0.5 in /home/stefania/anaconda3/lib/python3.6/site-packages (from tensorflow==1.13.1->-r requirements.txt (line 1)) (1.1.0)\n",
      "Requirement already satisfied: termcolor>=1.1.0 in /home/stefania/anaconda3/lib/python3.6/site-packages (from tensorflow==1.13.1->-r requirements.txt (line 1)) (1.1.0)\n",
      "Requirement already satisfied: tensorboard<1.14.0,>=1.13.0 in /home/stefania/anaconda3/lib/python3.6/site-packages (from tensorflow==1.13.1->-r requirements.txt (line 1)) (1.13.1)\n",
      "Requirement already satisfied: pytz>=2011k in /home/stefania/anaconda3/lib/python3.6/site-packages (from pandas==0.24.2->-r requirements.txt (line 3)) (2017.2)\n",
      "Requirement already satisfied: python-dateutil>=2.5.0 in /home/stefania/anaconda3/lib/python3.6/site-packages (from pandas==0.24.2->-r requirements.txt (line 3)) (2.6.1)\n",
      "Requirement already satisfied: cycler>=0.10 in /home/stefania/anaconda3/lib/python3.6/site-packages (from matplotlib==3.0.3->-r requirements.txt (line 4)) (0.10.0)\n",
      "Requirement already satisfied: pyparsing!=2.0.4,!=2.1.2,!=2.1.6,>=2.0.1 in /home/stefania/anaconda3/lib/python3.6/site-packages (from matplotlib==3.0.3->-r requirements.txt (line 4)) (2.2.0)\n",
      "Requirement already satisfied: kiwisolver>=1.0.1 in /home/stefania/anaconda3/lib/python3.6/site-packages (from matplotlib==3.0.3->-r requirements.txt (line 4)) (1.1.0)\n",
      "Requirement already satisfied: pyyaml in /home/stefania/anaconda3/lib/python3.6/site-packages (from Keras==2.2.4->-r requirements.txt (line 5)) (3.12)\n",
      "Requirement already satisfied: scipy>=0.14 in /home/stefania/anaconda3/lib/python3.6/site-packages (from Keras==2.2.4->-r requirements.txt (line 5)) (0.19.1)\n",
      "Requirement already satisfied: h5py in /home/stefania/anaconda3/lib/python3.6/site-packages (from Keras==2.2.4->-r requirements.txt (line 5)) (2.7.0)\n",
      "Requirement already satisfied: scikit-learn in /home/stefania/anaconda3/lib/python3.6/site-packages (from sklearn==0.0->-r requirements.txt (line 6)) (0.19.1)\n",
      "Requirement already satisfied: setuptools in /home/stefania/anaconda3/lib/python3.6/site-packages (from protobuf>=3.6.1->tensorflow==1.13.1->-r requirements.txt (line 1)) (41.2.0)\n",
      "Requirement already satisfied: mock>=2.0.0 in /home/stefania/anaconda3/lib/python3.6/site-packages (from tensorflow-estimator<1.14.0rc0,>=1.13.0->tensorflow==1.13.1->-r requirements.txt (line 1)) (3.0.5)\n",
      "Requirement already satisfied: werkzeug>=0.11.15 in /home/stefania/anaconda3/lib/python3.6/site-packages (from tensorboard<1.14.0,>=1.13.0->tensorflow==1.13.1->-r requirements.txt (line 1)) (0.12.2)\n",
      "Requirement already satisfied: markdown>=2.6.8 in /home/stefania/anaconda3/lib/python3.6/site-packages (from tensorboard<1.14.0,>=1.13.0->tensorflow==1.13.1->-r requirements.txt (line 1)) (3.1.1)\n",
      "\u001b[33mWARNING: You are using pip version 19.2.3, however version 19.3.1 is available.\n",
      "You should consider upgrading via the 'pip install --upgrade pip' command.\u001b[0m\n"
     ]
    }
   ],
   "source": [
    "!pip install -r requirements.txt"
   ]
  },
  {
   "cell_type": "code",
   "execution_count": 2,
   "metadata": {},
   "outputs": [
    {
     "name": "stderr",
     "output_type": "stream",
     "text": [
      "/home/stefania/anaconda3/lib/python3.6/site-packages/h5py/__init__.py:34: FutureWarning: Conversion of the second argument of issubdtype from `float` to `np.floating` is deprecated. In future, it will be treated as `np.float64 == np.dtype(float).type`.\n",
      "  from ._conv import register_converters as _register_converters\n",
      "Using TensorFlow backend.\n"
     ]
    }
   ],
   "source": [
    "# Convolutional Neural Network\n",
    "\n",
    "# Part 1 - Building the CNN\n",
    "\n",
    "# Importing the Keras libraries and packages\n",
    "from keras.models import Sequential\n",
    "from keras.layers import Conv2D\n",
    "from keras.layers import MaxPooling2D\n",
    "from keras.layers import Flatten\n",
    "from keras.layers import Dense"
   ]
  },
  {
   "cell_type": "code",
   "execution_count": null,
   "metadata": {},
   "outputs": [
    {
     "name": "stdout",
     "output_type": "stream",
     "text": [
      "WARNING:tensorflow:From /home/stefania/anaconda3/lib/python3.6/site-packages/tensorflow/python/framework/op_def_library.py:263: colocate_with (from tensorflow.python.framework.ops) is deprecated and will be removed in a future version.\n",
      "Instructions for updating:\n",
      "Colocations handled automatically by placer.\n"
     ]
    }
   ],
   "source": [
    "# Initialising the CNN\n",
    "classifier = Sequential()\n",
    "\n",
    "# Step 1 - Convolution\n",
    "classifier.add(Conv2D(32, (3, 3), input_shape = (64, 64, 3), activation = 'relu'))\n",
    "\n",
    "# Step 2 - Pooling\n",
    "classifier.add(MaxPooling2D(pool_size = (2, 2)))\n",
    "\n",
    "# Adding a second convolutional layer\n",
    "classifier.add(Conv2D(32, (3, 3), activation = 'relu'))\n",
    "classifier.add(MaxPooling2D(pool_size = (2, 2)))\n",
    "\n",
    "# Adding a thrid convolutional layer\n",
    "classifier.add(Conv2D(32, (3, 3), activation = 'sigmoid'))\n",
    "classifier.add(MaxPooling2D(pool_size = (2, 2)))\n",
    "\n",
    "# Step 3 - Flattening\n",
    "classifier.add(Flatten())\n",
    "\n",
    "# Step 4 - Full connection\n",
    "classifier.add(Dense(units = 128, activation = 'relu'))\n",
    "classifier.add(Dense(units = 1, activation = 'sigmoid'))\n",
    "\n",
    "# Compiling the CNN\n",
    "classifier.compile(optimizer = 'adam', loss = 'binary_crossentropy', metrics = ['accuracy'])\n"
   ]
  },
  {
   "cell_type": "code",
   "execution_count": null,
   "metadata": {},
   "outputs": [
    {
     "name": "stdout",
     "output_type": "stream",
     "text": [
      "Found 8000 images belonging to 2 classes.\n",
      "Found 2000 images belonging to 2 classes.\n",
      "WARNING:tensorflow:From /home/stefania/anaconda3/lib/python3.6/site-packages/tensorflow/python/ops/math_ops.py:3066: to_int32 (from tensorflow.python.ops.math_ops) is deprecated and will be removed in a future version.\n",
      "Instructions for updating:\n",
      "Use tf.cast instead.\n",
      "Epoch 1/25\n",
      "8000/8000 [==============================] - 1569s 196ms/step - loss: 0.3728 - acc: 0.8247 - val_loss: 0.4101 - val_acc: 0.8490\n",
      "Epoch 2/25\n",
      "8000/8000 [==============================] - 1512s 189ms/step - loss: 0.1448 - acc: 0.9419 - val_loss: 0.6131 - val_acc: 0.8234\n",
      "Epoch 3/25\n",
      "8000/8000 [==============================] - 1703s 213ms/step - loss: 0.0739 - acc: 0.9724 - val_loss: 0.8685 - val_acc: 0.8295\n",
      "Epoch 4/25\n",
      "1661/8000 [=====>........................] - ETA: 22:59 - loss: 0.0601 - acc: 0.9785"
     ]
    }
   ],
   "source": [
    "# Part 2 - Fitting the CNN to the images\n",
    "\n",
    "from keras.preprocessing.image import ImageDataGenerator\n",
    "\n",
    "train_datagen = ImageDataGenerator(rescale = 1./255,\n",
    "                                   shear_range = 0.2,\n",
    "                                   zoom_range = 0.2,\n",
    "                                   horizontal_flip = True)\n",
    "\n",
    "test_datagen = ImageDataGenerator(rescale = 1./255)\n",
    "\n",
    "training_set = train_datagen.flow_from_directory('dataset/training_set',\n",
    "                                                 target_size = (64, 64),\n",
    "                                                 batch_size = 32,\n",
    "                                                 class_mode = 'binary')\n",
    "\n",
    "test_set = test_datagen.flow_from_directory('dataset/test_set',\n",
    "                                            target_size = (64, 64),\n",
    "                                            batch_size = 32,\n",
    "                                            class_mode = 'binary')\n",
    "\n",
    "classifier.fit_generator(training_set,\n",
    "                         steps_per_epoch = 8000,\n",
    "                         epochs = 25,\n",
    "                         validation_data = test_set,\n",
    "                         validation_steps = 2000)"
   ]
  },
  {
   "cell_type": "code",
   "execution_count": null,
   "metadata": {
    "collapsed": true
   },
   "outputs": [],
   "source": [
    "# Part 3 - Making new predictions\n",
    "\n",
    "import numpy as np\n",
    "from keras.preprocessing import image\n",
    "test_image = image.load_img('dataset/single_prediction/cat_or_dog_1.jpg', target_size = (64, 64))\n",
    "test_image = image.img_to_array(test_image)\n",
    "test_image = np.expand_dims(test_image, axis = 0)\n",
    "result = classifier.predict(test_image)\n",
    "training_set.class_indices\n",
    "if result[0][0] == 1:\n",
    "    prediction = 'dog'\n",
    "else:\n",
    "    prediction = 'cat'"
   ]
  }
 ],
 "metadata": {
  "kernelspec": {
   "display_name": "Python 3",
   "language": "python",
   "name": "python3"
  },
  "language_info": {
   "codemirror_mode": {
    "name": "ipython",
    "version": 3
   },
   "file_extension": ".py",
   "mimetype": "text/x-python",
   "name": "python",
   "nbconvert_exporter": "python",
   "pygments_lexer": "ipython3",
   "version": "3.6.3"
  }
 },
 "nbformat": 4,
 "nbformat_minor": 2
}
