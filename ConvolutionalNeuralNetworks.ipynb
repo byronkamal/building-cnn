{
 "cells": [
  {
   "cell_type": "code",
   "execution_count": 1,
   "metadata": {},
   "outputs": [
    {
     "name": "stdout",
     "output_type": "stream",
     "text": "Requirement already satisfied: tensorflow==1.13.1 in /home/lucianosz7/anaconda3/lib/python3.7/site-packages (from -r requirements.txt (line 1)) (1.13.1)\nRequirement already satisfied: numpy==1.16.2 in /home/lucianosz7/anaconda3/lib/python3.7/site-packages (from -r requirements.txt (line 2)) (1.16.2)\nRequirement already satisfied: pandas==0.24.2 in /home/lucianosz7/anaconda3/lib/python3.7/site-packages (from -r requirements.txt (line 3)) (0.24.2)\nRequirement already satisfied: matplotlib==3.0.3 in /home/lucianosz7/anaconda3/lib/python3.7/site-packages (from -r requirements.txt (line 4)) (3.0.3)\nRequirement already satisfied: Keras==2.2.4 in /home/lucianosz7/anaconda3/lib/python3.7/site-packages (from -r requirements.txt (line 5)) (2.2.4)\nRequirement already satisfied: sklearn==0.0 in /home/lucianosz7/anaconda3/lib/python3.7/site-packages (from -r requirements.txt (line 6)) (0.0)\nRequirement already satisfied: protobuf>=3.6.1 in /home/lucianosz7/anaconda3/lib/python3.7/site-packages (from tensorflow==1.13.1->-r requirements.txt (line 1)) (3.11.0)\nRequirement already satisfied: keras-applications>=1.0.6 in /home/lucianosz7/anaconda3/lib/python3.7/site-packages (from tensorflow==1.13.1->-r requirements.txt (line 1)) (1.0.8)\nRequirement already satisfied: astor>=0.6.0 in /home/lucianosz7/anaconda3/lib/python3.7/site-packages (from tensorflow==1.13.1->-r requirements.txt (line 1)) (0.8.0)\nRequirement already satisfied: gast>=0.2.0 in /home/lucianosz7/anaconda3/lib/python3.7/site-packages (from tensorflow==1.13.1->-r requirements.txt (line 1)) (0.2.2)\nRequirement already satisfied: tensorboard<1.14.0,>=1.13.0 in /home/lucianosz7/anaconda3/lib/python3.7/site-packages (from tensorflow==1.13.1->-r requirements.txt (line 1)) (1.13.1)\nRequirement already satisfied: keras-preprocessing>=1.0.5 in /home/lucianosz7/anaconda3/lib/python3.7/site-packages (from tensorflow==1.13.1->-r requirements.txt (line 1)) (1.1.0)\nRequirement already satisfied: wheel>=0.26 in /home/lucianosz7/anaconda3/lib/python3.7/site-packages (from tensorflow==1.13.1->-r requirements.txt (line 1)) (0.33.6)\nRequirement already satisfied: absl-py>=0.1.6 in /home/lucianosz7/anaconda3/lib/python3.7/site-packages (from tensorflow==1.13.1->-r requirements.txt (line 1)) (0.8.1)\nRequirement already satisfied: grpcio>=1.8.6 in /home/lucianosz7/anaconda3/lib/python3.7/site-packages (from tensorflow==1.13.1->-r requirements.txt (line 1)) (1.25.0)\nRequirement already satisfied: six>=1.10.0 in /home/lucianosz7/anaconda3/lib/python3.7/site-packages (from tensorflow==1.13.1->-r requirements.txt (line 1)) (1.12.0)\nRequirement already satisfied: tensorflow-estimator<1.14.0rc0,>=1.13.0 in /home/lucianosz7/anaconda3/lib/python3.7/site-packages (from tensorflow==1.13.1->-r requirements.txt (line 1)) (1.13.0)\nRequirement already satisfied: termcolor>=1.1.0 in /home/lucianosz7/anaconda3/lib/python3.7/site-packages (from tensorflow==1.13.1->-r requirements.txt (line 1)) (1.1.0)\nRequirement already satisfied: pytz>=2011k in /home/lucianosz7/anaconda3/lib/python3.7/site-packages (from pandas==0.24.2->-r requirements.txt (line 3)) (2018.4)\nRequirement already satisfied: python-dateutil>=2.5.0 in /home/lucianosz7/anaconda3/lib/python3.7/site-packages (from pandas==0.24.2->-r requirements.txt (line 3)) (2.8.0)\nRequirement already satisfied: kiwisolver>=1.0.1 in /home/lucianosz7/anaconda3/lib/python3.7/site-packages (from matplotlib==3.0.3->-r requirements.txt (line 4)) (1.1.0)\nRequirement already satisfied: pyparsing!=2.0.4,!=2.1.2,!=2.1.6,>=2.0.1 in /home/lucianosz7/anaconda3/lib/python3.7/site-packages (from matplotlib==3.0.3->-r requirements.txt (line 4)) (2.4.2)\nRequirement already satisfied: cycler>=0.10 in /home/lucianosz7/anaconda3/lib/python3.7/site-packages (from matplotlib==3.0.3->-r requirements.txt (line 4)) (0.10.0)\nRequirement already satisfied: pyyaml in /home/lucianosz7/anaconda3/lib/python3.7/site-packages (from Keras==2.2.4->-r requirements.txt (line 5)) (5.1.2)\nRequirement already satisfied: h5py in /home/lucianosz7/anaconda3/lib/python3.7/site-packages (from Keras==2.2.4->-r requirements.txt (line 5)) (2.9.0)\nRequirement already satisfied: scipy>=0.14 in /home/lucianosz7/anaconda3/lib/python3.7/site-packages (from Keras==2.2.4->-r requirements.txt (line 5)) (1.3.1)\nRequirement already satisfied: scikit-learn in /home/lucianosz7/anaconda3/lib/python3.7/site-packages (from sklearn==0.0->-r requirements.txt (line 6)) (0.21.3)\nRequirement already satisfied: setuptools in /home/lucianosz7/anaconda3/lib/python3.7/site-packages (from protobuf>=3.6.1->tensorflow==1.13.1->-r requirements.txt (line 1)) (41.4.0)\nRequirement already satisfied: werkzeug>=0.11.15 in /home/lucianosz7/anaconda3/lib/python3.7/site-packages (from tensorboard<1.14.0,>=1.13.0->tensorflow==1.13.1->-r requirements.txt (line 1)) (0.16.0)\nRequirement already satisfied: markdown>=2.6.8 in /home/lucianosz7/anaconda3/lib/python3.7/site-packages (from tensorboard<1.14.0,>=1.13.0->tensorflow==1.13.1->-r requirements.txt (line 1)) (3.1.1)\nRequirement already satisfied: mock>=2.0.0 in /home/lucianosz7/anaconda3/lib/python3.7/site-packages (from tensorflow-estimator<1.14.0rc0,>=1.13.0->tensorflow==1.13.1->-r requirements.txt (line 1)) (3.0.5)\nRequirement already satisfied: joblib>=0.11 in /home/lucianosz7/anaconda3/lib/python3.7/site-packages (from scikit-learn->sklearn==0.0->-r requirements.txt (line 6)) (0.13.2)\n"
    }
   ],
   "source": [
    "!pip install -r requirements.txt"
   ]
  },
  {
   "cell_type": "code",
   "execution_count": 2,
   "metadata": {},
   "outputs": [
    {
     "name": "stderr",
     "output_type": "stream",
     "text": "Using TensorFlow backend.\n"
    }
   ],
   "source": [
    "# Convolutional Neural Network\n",
    "\n",
    "# Part 1 - Building the CNN\n",
    "\n",
    "# Importing the Keras libraries and packages\n",
    "from keras.models import Sequential\n",
    "from keras.layers import Conv2D\n",
    "from keras.layers import MaxPooling2D\n",
    "from keras.layers import Flatten\n",
    "from keras.layers import Dense"
   ]
  },
  {
   "cell_type": "code",
   "execution_count": 3,
   "metadata": {},
   "outputs": [
    {
     "name": "stdout",
     "output_type": "stream",
     "text": "WARNING:tensorflow:From /home/lucianosz7/anaconda3/lib/python3.7/site-packages/tensorflow/python/framework/op_def_library.py:263: colocate_with (from tensorflow.python.framework.ops) is deprecated and will be removed in a future version.\nInstructions for updating:\nColocations handled automatically by placer.\n"
    }
   ],
   "source": [
    "# Initialising the CNN\n",
    "classifier = Sequential()\n",
    "\n",
    "# Step 1 - Convolution\n",
    "classifier.add(Conv2D(32, (3, 3), input_shape = (64, 64, 3), activation = 'relu'))\n",
    "\n",
    "# Step 2 - Pooling\n",
    "classifier.add(MaxPooling2D(pool_size = (2, 2)))\n",
    "\n",
    "# Adding a second convolutional layer\n",
    "classifier.add(Conv2D(32, (3, 3), activation = 'relu'))\n",
    "classifier.add(MaxPooling2D(pool_size = (2, 2)))\n",
    "\n",
    "# Adding a second convolutional layer\n",
    "classifier.add(Conv2D(32, (3, 3), activation = 'relu'))\n",
    "classifier.add(MaxPooling2D(pool_size = (2, 2)))\n",
    "\n",
    "# Step 3 - Flattening\n",
    "classifier.add(Flatten())\n",
    "\n",
    "# Step 4 - Full connection\n",
    "classifier.add(Dense(units = 128, activation = 'relu'))\n",
    "classifier.add(Dense(units = 1, activation = 'sigmoid'))\n",
    "\n",
    "# Compiling the CNN\n",
    "classifier.compile(optimizer = 'adam', loss = 'binary_crossentropy', metrics = ['accuracy'])\n"
   ]
  },
  {
   "cell_type": "code",
   "execution_count": 4,
   "metadata": {},
   "outputs": [
    {
     "name": "stdout",
     "output_type": "stream",
     "text": "Found 8000 images belonging to 2 classes.\nFound 2000 images belonging to 2 classes.\nWARNING:tensorflow:From /home/lucianosz7/anaconda3/lib/python3.7/site-packages/tensorflow/python/ops/math_ops.py:3066: to_int32 (from tensorflow.python.ops.math_ops) is deprecated and will be removed in a future version.\nInstructions for updating:\nUse tf.cast instead.\nEpoch 1/15\n800/800 [==============================] - 232s 290ms/step - loss: 0.6036 - acc: 0.6602 - val_loss: 0.5597 - val_acc: 0.7344\nEpoch 2/15\n800/800 [==============================] - 239s 298ms/step - loss: 0.4888 - acc: 0.7643 - val_loss: 0.4321 - val_acc: 0.7922\nEpoch 3/15\n800/800 [==============================] - 233s 291ms/step - loss: 0.4331 - acc: 0.7958 - val_loss: 0.4086 - val_acc: 0.8203\nEpoch 4/15\n800/800 [==============================] - 234s 293ms/step - loss: 0.3974 - acc: 0.8174 - val_loss: 0.4135 - val_acc: 0.8077\nEpoch 5/15\n800/800 [==============================] - 228s 285ms/step - loss: 0.3687 - acc: 0.8336 - val_loss: 0.4306 - val_acc: 0.8250\nEpoch 6/15\n800/800 [==============================] - 245s 306ms/step - loss: 0.3453 - acc: 0.8457 - val_loss: 0.3496 - val_acc: 0.8328\nEpoch 7/15\n800/800 [==============================] - 252s 316ms/step - loss: 0.3163 - acc: 0.8613 - val_loss: 0.4273 - val_acc: 0.8221\nEpoch 8/15\n800/800 [==============================] - 251s 314ms/step - loss: 0.2915 - acc: 0.8728 - val_loss: 0.3845 - val_acc: 0.8172\nEpoch 9/15\n800/800 [==============================] - 275s 343ms/step - loss: 0.2658 - acc: 0.8852 - val_loss: 0.4326 - val_acc: 0.8422\nEpoch 10/15\n800/800 [==============================] - 323s 403ms/step - loss: 0.2505 - acc: 0.8925 - val_loss: 0.3801 - val_acc: 0.8446\nEpoch 11/15\n800/800 [==============================] - 334s 417ms/step - loss: 0.2233 - acc: 0.9059 - val_loss: 0.3917 - val_acc: 0.8484\nEpoch 12/15\n800/800 [==============================] - 382s 477ms/step - loss: 0.2065 - acc: 0.9132 - val_loss: 0.4495 - val_acc: 0.8187\nEpoch 13/15\n800/800 [==============================] - 258s 323ms/step - loss: 0.1904 - acc: 0.9214 - val_loss: 0.5793 - val_acc: 0.8237\nEpoch 14/15\n800/800 [==============================] - 245s 307ms/step - loss: 0.1760 - acc: 0.9278 - val_loss: 0.4622 - val_acc: 0.8391\nEpoch 15/15\n800/800 [==============================] - 241s 301ms/step - loss: 0.1581 - acc: 0.9365 - val_loss: 0.4438 - val_acc: 0.8578\n"
    },
    {
     "data": {
      "text/plain": "<keras.callbacks.History at 0x7f7c18db4110>"
     },
     "execution_count": 4,
     "metadata": {},
     "output_type": "execute_result"
    }
   ],
   "source": [
    "# Part 2 - Fitting the CNN to the images\n",
    "\n",
    "from keras.preprocessing.image import ImageDataGenerator\n",
    "\n",
    "train_datagen = ImageDataGenerator(rescale = 1./255,\n",
    "                                   shear_range = 0.2,\n",
    "                                   zoom_range = 0.2,\n",
    "                                   horizontal_flip = True)\n",
    "\n",
    "test_datagen = ImageDataGenerator(rescale = 1./255)\n",
    "\n",
    "training_set = train_datagen.flow_from_directory('dataset/training_set',\n",
    "                                                 target_size = (64, 64),\n",
    "                                                 batch_size = 32,\n",
    "                                                 class_mode = 'binary')\n",
    "\n",
    "test_set = test_datagen.flow_from_directory('dataset/test_set',\n",
    "                                            target_size = (64, 64),\n",
    "                                            batch_size = 32,\n",
    "                                            class_mode = 'binary')\n",
    "\n",
    "classifier.fit_generator(training_set,\n",
    "                         steps_per_epoch = 800,\n",
    "                         epochs = 15,\n",
    "                         validation_data = test_set,\n",
    "                         validation_steps = 20)"
   ]
  },
  {
   "cell_type": "code",
   "execution_count": 5,
   "metadata": {},
   "outputs": [],
   "source": [
    "# Part 3 - Making new predictions\n",
    "\n",
    "import numpy as np\n",
    "from keras.preprocessing import image\n",
    "test_image = image.load_img('dataset/single_prediction/cat_or_dog_1.jpg', target_size = (64, 64))\n",
    "test_image = image.img_to_array(test_image)\n",
    "test_image = np.expand_dims(test_image, axis = 0)\n",
    "result = classifier.predict(test_image)\n",
    "training_set.class_indices\n",
    "if result[0][0] == 1:\n",
    "    prediction = 'dog'\n",
    "else:\n",
    "    prediction = 'cat'"
   ]
  },
  {
   "cell_type": "code",
   "execution_count": null,
   "metadata": {},
   "outputs": [],
   "source": []
  }
 ],
 "metadata": {
  "kernelspec": {
   "display_name": "Python 3",
   "language": "python",
   "name": "python3"
  },
  "language_info": {
   "codemirror_mode": {
    "name": "ipython",
    "version": 3
   },
   "file_extension": ".py",
   "mimetype": "text/x-python",
   "name": "python",
   "nbconvert_exporter": "python",
   "pygments_lexer": "ipython3",
   "version": "3.7.4"
  }
 },
 "nbformat": 4,
 "nbformat_minor": 2
}