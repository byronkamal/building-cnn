{
 "cells": [
  {
   "cell_type": "code",
   "execution_count": 3,
   "metadata": {
    "colab": {
     "base_uri": "https://localhost:8080/",
     "height": 34
    },
    "colab_type": "code",
    "id": "IF39qs0b6Kat",
    "outputId": "fb501787-965f-4b46-97fb-ace066964b00"
   },
   "outputs": [
    {
     "name": "stderr",
     "output_type": "stream",
     "text": [
      "Using TensorFlow backend.\n"
     ]
    }
   ],
   "source": [
    "from keras.models import Sequential\n",
    "from keras.layers import Conv2D\n",
    "from keras.layers import MaxPooling2D\n",
    "from keras.layers import Flatten\n",
    "from keras.layers import Dense\n",
    "from keras.callbacks import *"
   ]
  },
  {
   "cell_type": "code",
   "execution_count": 4,
   "metadata": {
    "colab": {},
    "colab_type": "code",
    "id": "i-FszZYb9OzW"
   },
   "outputs": [],
   "source": [
    "filepath=\"../epochs:{epoch:03d}-val_acc:{val_acc:.3f}.hdf5\"\n",
    "checkpoint = ModelCheckpoint(filepath, monitor='val_acc', verbose=2, save_best_only=True, mode='max')"
   ]
  },
  {
   "cell_type": "code",
   "execution_count": 5,
   "metadata": {
    "colab": {},
    "colab_type": "code",
    "id": "nkjhP2N16QMx"
   },
   "outputs": [],
   "source": [
    "# Initialising the CNN\n",
    "classifier = Sequential()"
   ]
  },
  {
   "cell_type": "code",
   "execution_count": 6,
   "metadata": {
    "colab": {
     "base_uri": "https://localhost:8080/",
     "height": 68
    },
    "colab_type": "code",
    "id": "JIx6XsKP6Qxo",
    "outputId": "cba48942-2eed-4a50-ecd3-f524fd1e758a"
   },
   "outputs": [
    {
     "name": "stdout",
     "output_type": "stream",
     "text": [
      "WARNING:tensorflow:From /home/igor/anaconda3/lib/python3.7/site-packages/tensorflow/python/framework/op_def_library.py:263: colocate_with (from tensorflow.python.framework.ops) is deprecated and will be removed in a future version.\n",
      "Instructions for updating:\n",
      "Colocations handled automatically by placer.\n"
     ]
    }
   ],
   "source": [
    "# Step 1 - Convolution\n",
    "classifier.add(Conv2D(32, (3, 3), input_shape = (64, 64, 3), activation = 'relu'))"
   ]
  },
  {
   "cell_type": "code",
   "execution_count": 7,
   "metadata": {
    "colab": {},
    "colab_type": "code",
    "id": "9TFoahnu6S6y"
   },
   "outputs": [],
   "source": [
    "# Step 2 - Pooling\n",
    "classifier.add(MaxPooling2D(pool_size = (2, 2)))"
   ]
  },
  {
   "cell_type": "code",
   "execution_count": 8,
   "metadata": {
    "colab": {},
    "colab_type": "code",
    "id": "oUhjJ0zA9Pfm"
   },
   "outputs": [],
   "source": [
    "# Adding a second convolutional layer\n",
    "classifier.add(Conv2D(32, (3, 3), activation = 'relu'))\n",
    "classifier.add(MaxPooling2D(pool_size = (2, 2)))"
   ]
  },
  {
   "cell_type": "code",
   "execution_count": 9,
   "metadata": {
    "colab": {},
    "colab_type": "code",
    "id": "1Ibj_DD08Knt"
   },
   "outputs": [],
   "source": [
    "# Adding a third convolutional layer\n",
    "classifier.add(Conv2D(32, (3, 3), activation = 'relu'))\n",
    "classifier.add(MaxPooling2D(pool_size = (2, 2)))"
   ]
  },
  {
   "cell_type": "code",
   "execution_count": 10,
   "metadata": {
    "colab": {},
    "colab_type": "code",
    "id": "3q3OCa4TG02t"
   },
   "outputs": [],
   "source": [
    "# Adding a four convolutional layer\n",
    "classifier.add(Conv2D(32, (3, 3), activation = 'relu'))\n",
    "classifier.add(MaxPooling2D(pool_size = (2, 2)))"
   ]
  },
  {
   "cell_type": "code",
   "execution_count": 11,
   "metadata": {
    "colab": {},
    "colab_type": "code",
    "id": "ZjOG2CDZ6ct_"
   },
   "outputs": [],
   "source": [
    "# Step 3 - Flattening\n",
    "classifier.add(Flatten())\n"
   ]
  },
  {
   "cell_type": "code",
   "execution_count": 12,
   "metadata": {
    "colab": {},
    "colab_type": "code",
    "id": "vmpdLWXc6ebp"
   },
   "outputs": [],
   "source": [
    "# Step 4 - Full connection\n",
    "classifier.add(Dense(units = 128, activation = 'relu'))\n",
    "classifier.add(Dense(units = 1, activation = 'sigmoid'))"
   ]
  },
  {
   "cell_type": "code",
   "execution_count": 13,
   "metadata": {
    "colab": {},
    "colab_type": "code",
    "id": "VyLdxeiS6gpQ"
   },
   "outputs": [],
   "source": [
    "# Compiling the CNN\n",
    "classifier.compile(optimizer = 'adam', loss = 'binary_crossentropy', metrics = ['accuracy'])\n"
   ]
  },
  {
   "cell_type": "code",
   "execution_count": 14,
   "metadata": {
    "colab": {},
    "colab_type": "code",
    "id": "iPHMlfkI6ip1"
   },
   "outputs": [],
   "source": [
    "# Part 2 - Fitting the CNN to the images\n",
    "\n",
    "from keras.preprocessing.image import ImageDataGenerator"
   ]
  },
  {
   "cell_type": "code",
   "execution_count": 15,
   "metadata": {
    "colab": {},
    "colab_type": "code",
    "id": "aUMY6Opf6lO8"
   },
   "outputs": [],
   "source": [
    "train_datagen = ImageDataGenerator(rescale = 1./255,\n",
    "                                   shear_range = 0.2,\n",
    "                                   zoom_range = 0.2,\n",
    "                                   horizontal_flip = True)\n"
   ]
  },
  {
   "cell_type": "code",
   "execution_count": 16,
   "metadata": {
    "colab": {},
    "colab_type": "code",
    "id": "bRGZ72sj6nq6"
   },
   "outputs": [],
   "source": [
    "test_datagen = ImageDataGenerator(rescale = 1./255)"
   ]
  },
  {
   "cell_type": "code",
   "execution_count": 17,
   "metadata": {
    "colab": {
     "base_uri": "https://localhost:8080/",
     "height": 34
    },
    "colab_type": "code",
    "id": "zWtbsCug6sLC",
    "outputId": "92854569-5b7d-46d8-c081-7fea5825f691"
   },
   "outputs": [
    {
     "name": "stdout",
     "output_type": "stream",
     "text": [
      "Found 8000 images belonging to 2 classes.\n"
     ]
    }
   ],
   "source": [
    "training_set = train_datagen.flow_from_directory('dataset/training_set',\n",
    "                                                 target_size = (64, 64),\n",
    "                                                 batch_size = 32,\n",
    "                                                 class_mode = 'binary')"
   ]
  },
  {
   "cell_type": "code",
   "execution_count": 18,
   "metadata": {
    "colab": {
     "base_uri": "https://localhost:8080/",
     "height": 34
    },
    "colab_type": "code",
    "id": "pgnceLd56vHI",
    "outputId": "c9ea28c5-3f64-4c08-f60f-09505ccffcc1"
   },
   "outputs": [
    {
     "name": "stdout",
     "output_type": "stream",
     "text": [
      "Found 2000 images belonging to 2 classes.\n"
     ]
    }
   ],
   "source": [
    "test_set = test_datagen.flow_from_directory('dataset/test_set',\n",
    "                                            target_size = (64, 64),\n",
    "                                            batch_size = 32,\n",
    "                                            class_mode = 'binary')"
   ]
  },
  {
   "cell_type": "code",
   "execution_count": 19,
   "metadata": {
    "colab": {
     "base_uri": "https://localhost:8080/",
     "height": 85
    },
    "colab_type": "code",
    "id": "8nY7ogrW6xcE",
    "outputId": "6c7bb2dd-e620-4cbc-ac95-7c8d2d441d66"
   },
   "outputs": [
    {
     "name": "stdout",
     "output_type": "stream",
     "text": [
      "WARNING:tensorflow:From /home/igor/anaconda3/lib/python3.7/site-packages/tensorflow/python/ops/math_ops.py:3066: to_int32 (from tensorflow.python.ops.math_ops) is deprecated and will be removed in a future version.\n",
      "Instructions for updating:\n",
      "Use tf.cast instead.\n",
      "Epoch 1/25\n",
      "8000/8000 [==============================] - 1698s 212ms/step - loss: 0.4188 - acc: 0.7972 - val_loss: 0.4115 - val_acc: 0.8406\n",
      "\n",
      "Epoch 00001: val_acc improved from -inf to 0.84059, saving model to ../epochs:001-val_acc:0.841.hdf5\n",
      "Epoch 2/25\n",
      "8000/8000 [==============================] - 1674s 209ms/step - loss: 0.2407 - acc: 0.8974 - val_loss: 0.4548 - val_acc: 0.8316\n",
      "\n",
      "Epoch 00002: val_acc did not improve from 0.84059\n",
      "Epoch 3/25\n",
      "8000/8000 [==============================] - 1838s 230ms/step - loss: 0.1742 - acc: 0.9284 - val_loss: 0.5213 - val_acc: 0.8448\n",
      "\n",
      "Epoch 00003: val_acc improved from 0.84059 to 0.84476, saving model to ../epochs:003-val_acc:0.845.hdf5\n",
      "Epoch 4/25\n",
      "8000/8000 [==============================] - 2074s 259ms/step - loss: 0.1378 - acc: 0.9446 - val_loss: 0.5491 - val_acc: 0.8559\n",
      "\n",
      "Epoch 00004: val_acc improved from 0.84476 to 0.85587, saving model to ../epochs:004-val_acc:0.856.hdf5\n",
      "Epoch 5/25\n",
      "8000/8000 [==============================] - 2045s 256ms/step - loss: 0.1155 - acc: 0.9541 - val_loss: 0.6383 - val_acc: 0.8430\n",
      "\n",
      "Epoch 00005: val_acc did not improve from 0.85587\n",
      "Epoch 6/25\n",
      "8000/8000 [==============================] - 2091s 261ms/step - loss: 0.0999 - acc: 0.9608 - val_loss: 0.6465 - val_acc: 0.8484\n",
      "\n",
      "Epoch 00006: val_acc did not improve from 0.85587\n",
      "Epoch 7/25\n",
      "8000/8000 [==============================] - 2079s 260ms/step - loss: 0.0879 - acc: 0.9659 - val_loss: 0.6007 - val_acc: 0.8538\n",
      "\n",
      "Epoch 00007: val_acc did not improve from 0.85587\n",
      "Epoch 8/25\n",
      "8000/8000 [==============================] - 1915s 239ms/step - loss: 0.0804 - acc: 0.9693 - val_loss: 0.7390 - val_acc: 0.8382\n",
      "\n",
      "Epoch 00008: val_acc did not improve from 0.85587\n",
      "Epoch 9/25\n",
      "8000/8000 [==============================] - 1688s 211ms/step - loss: 0.0738 - acc: 0.9718 - val_loss: 0.7279 - val_acc: 0.8545\n",
      "\n",
      "Epoch 00009: val_acc did not improve from 0.85587\n",
      "Epoch 10/25\n",
      "8000/8000 [==============================] - 1669s 209ms/step - loss: 0.0686 - acc: 0.9742 - val_loss: 0.7726 - val_acc: 0.8406\n",
      "\n",
      "Epoch 00010: val_acc did not improve from 0.85587\n",
      "Epoch 11/25\n",
      "8000/8000 [==============================] - 1670s 209ms/step - loss: 0.0630 - acc: 0.9768 - val_loss: 0.6587 - val_acc: 0.8594\n",
      "\n",
      "Epoch 00011: val_acc improved from 0.85587 to 0.85936, saving model to ../epochs:011-val_acc:0.859.hdf5\n",
      "Epoch 12/25\n",
      "8000/8000 [==============================] - 1672s 209ms/step - loss: 0.0593 - acc: 0.9780 - val_loss: 0.7426 - val_acc: 0.8475\n",
      "\n",
      "Epoch 00012: val_acc did not improve from 0.85936\n",
      "Epoch 13/25\n",
      "8000/8000 [==============================] - 1669s 209ms/step - loss: 0.0576 - acc: 0.9784 - val_loss: 0.7788 - val_acc: 0.8576\n",
      "\n",
      "Epoch 00013: val_acc did not improve from 0.85936\n",
      "Epoch 14/25\n",
      "8000/8000 [==============================] - 1669s 209ms/step - loss: 0.0548 - acc: 0.9799 - val_loss: 0.8122 - val_acc: 0.8563\n",
      "\n",
      "Epoch 00014: val_acc did not improve from 0.85936\n",
      "Epoch 15/25\n",
      "8000/8000 [==============================] - 1671s 209ms/step - loss: 0.0527 - acc: 0.9806 - val_loss: 0.7579 - val_acc: 0.8462\n",
      "\n",
      "Epoch 00015: val_acc did not improve from 0.85936\n",
      "Epoch 16/25\n",
      "8000/8000 [==============================] - 1669s 209ms/step - loss: 0.0509 - acc: 0.9814 - val_loss: 0.7255 - val_acc: 0.8551\n",
      "\n",
      "Epoch 00016: val_acc did not improve from 0.85936\n",
      "Epoch 17/25\n",
      "8000/8000 [==============================] - 1670s 209ms/step - loss: 0.0488 - acc: 0.9824 - val_loss: 0.9458 - val_acc: 0.8456\n",
      "\n",
      "Epoch 00017: val_acc did not improve from 0.85936\n",
      "Epoch 18/25\n",
      "8000/8000 [==============================] - 1670s 209ms/step - loss: 0.0476 - acc: 0.9829 - val_loss: 0.8475 - val_acc: 0.8536\n",
      "\n",
      "Epoch 00018: val_acc did not improve from 0.85936\n",
      "Epoch 19/25\n",
      "8000/8000 [==============================] - 1670s 209ms/step - loss: 0.0460 - acc: 0.9833 - val_loss: 0.8672 - val_acc: 0.8461\n",
      "\n",
      "Epoch 00019: val_acc did not improve from 0.85936\n",
      "Epoch 20/25\n",
      "8000/8000 [==============================] - 1673s 209ms/step - loss: 0.0458 - acc: 0.9837 - val_loss: 0.9057 - val_acc: 0.8460\n",
      "\n",
      "Epoch 00020: val_acc did not improve from 0.85936\n",
      "Epoch 21/25\n",
      "8000/8000 [==============================] - 1672s 209ms/step - loss: 0.0445 - acc: 0.9843 - val_loss: 0.9162 - val_acc: 0.8521\n",
      "\n",
      "Epoch 00021: val_acc did not improve from 0.85936\n",
      "Epoch 22/25\n",
      "8000/8000 [==============================] - 1709s 214ms/step - loss: 0.0441 - acc: 0.9843 - val_loss: 0.8901 - val_acc: 0.8495\n",
      "\n",
      "Epoch 00022: val_acc did not improve from 0.85936\n",
      "Epoch 23/25\n",
      "8000/8000 [==============================] - 1685s 211ms/step - loss: 0.0440 - acc: 0.9847 - val_loss: 0.8356 - val_acc: 0.8526\n",
      "\n",
      "Epoch 00023: val_acc did not improve from 0.85936\n",
      "Epoch 24/25\n",
      "8000/8000 [==============================] - 1685s 211ms/step - loss: 0.0431 - acc: 0.9849 - val_loss: 0.9581 - val_acc: 0.8544\n",
      "\n",
      "Epoch 00024: val_acc did not improve from 0.85936\n",
      "Epoch 25/25\n",
      "8000/8000 [==============================] - 1765s 221ms/step - loss: 0.0419 - acc: 0.9852 - val_loss: 0.9201 - val_acc: 0.8510\n",
      "\n",
      "Epoch 00025: val_acc did not improve from 0.85936\n"
     ]
    },
    {
     "data": {
      "text/plain": [
       "<keras.callbacks.History at 0x7ff68ff58f28>"
      ]
     },
     "execution_count": 19,
     "metadata": {},
     "output_type": "execute_result"
    }
   ],
   "source": [
    "classifier.fit_generator(training_set,\n",
    "                         steps_per_epoch = 8000,\n",
    "                         epochs = 25,\n",
    "                         validation_data = test_set,\n",
    "                         validation_steps = 2000,\n",
    "                         callbacks=[checkpoint])"
   ]
  },
  {
   "cell_type": "code",
   "execution_count": 22,
   "metadata": {
    "colab": {
     "base_uri": "https://localhost:8080/",
     "height": 34
    },
    "colab_type": "code",
    "id": "AqiZTG1jIKRi",
    "outputId": "f9511d64-fd33-4350-b354-3af53cf86daf"
   },
   "outputs": [],
   "source": [
    "import matplotlib.pyplot as plt\n",
    "%matplotlib inline \n",
    "import seaborn as sns\n",
    "\n",
    "X_test, y_test = read_and_process_image(test_imgs[0:10]) #Y_test in this case will be empty.\n",
    "x = np.array(X_test)\n"
   ]
  },
  {
   "cell_type": "code",
   "execution_count": 23,
   "metadata": {},
   "outputs": [
    {
     "ename": "NameError",
     "evalue": "name 'x' is not defined",
     "output_type": "error",
     "traceback": [
      "\u001b[0;31m---------------------------------------------------------------------------\u001b[0m",
      "\u001b[0;31mNameError\u001b[0m                                 Traceback (most recent call last)",
      "\u001b[0;32m<ipython-input-23-f6c0f9eff88f>\u001b[0m in \u001b[0;36m<module>\u001b[0;34m\u001b[0m\n\u001b[1;32m      2\u001b[0m \u001b[0mtext_labels\u001b[0m \u001b[0;34m=\u001b[0m \u001b[0;34m[\u001b[0m\u001b[0;34m]\u001b[0m\u001b[0;34m\u001b[0m\u001b[0;34m\u001b[0m\u001b[0m\n\u001b[1;32m      3\u001b[0m \u001b[0mplt\u001b[0m\u001b[0;34m.\u001b[0m\u001b[0mfigure\u001b[0m\u001b[0;34m(\u001b[0m\u001b[0mfigsize\u001b[0m\u001b[0;34m=\u001b[0m\u001b[0;34m(\u001b[0m\u001b[0;36m30\u001b[0m\u001b[0;34m,\u001b[0m\u001b[0;36m20\u001b[0m\u001b[0;34m)\u001b[0m\u001b[0;34m)\u001b[0m\u001b[0;34m\u001b[0m\u001b[0;34m\u001b[0m\u001b[0m\n\u001b[0;32m----> 4\u001b[0;31m \u001b[0;32mfor\u001b[0m \u001b[0mbatch\u001b[0m \u001b[0;32min\u001b[0m \u001b[0mtest_datagen\u001b[0m\u001b[0;34m.\u001b[0m\u001b[0mflow\u001b[0m\u001b[0;34m(\u001b[0m\u001b[0mx\u001b[0m\u001b[0;34m,\u001b[0m \u001b[0mbatch_size\u001b[0m\u001b[0;34m=\u001b[0m\u001b[0;36m1\u001b[0m\u001b[0;34m)\u001b[0m\u001b[0;34m:\u001b[0m\u001b[0;34m\u001b[0m\u001b[0;34m\u001b[0m\u001b[0m\n\u001b[0m\u001b[1;32m      5\u001b[0m     \u001b[0mpred\u001b[0m \u001b[0;34m=\u001b[0m \u001b[0mmodel\u001b[0m\u001b[0;34m.\u001b[0m\u001b[0mpredict\u001b[0m\u001b[0;34m(\u001b[0m\u001b[0mbatch\u001b[0m\u001b[0;34m)\u001b[0m\u001b[0;34m\u001b[0m\u001b[0;34m\u001b[0m\u001b[0m\n\u001b[1;32m      6\u001b[0m     \u001b[0;32mif\u001b[0m \u001b[0mpred\u001b[0m \u001b[0;34m>\u001b[0m \u001b[0;36m0.5\u001b[0m\u001b[0;34m:\u001b[0m\u001b[0;34m\u001b[0m\u001b[0;34m\u001b[0m\u001b[0m\n",
      "\u001b[0;31mNameError\u001b[0m: name 'x' is not defined"
     ]
    },
    {
     "data": {
      "text/plain": [
       "<Figure size 2160x1440 with 0 Axes>"
      ]
     },
     "metadata": {},
     "output_type": "display_data"
    }
   ],
   "source": [
    "i = 0\n",
    "text_labels = []\n",
    "plt.figure(figsize=(30,20))\n",
    "for batch in test_datagen.flow(x, batch_size=1):\n",
    "    pred = model.predict(batch)\n",
    "    if pred > 0.5:\n",
    "        text_labels.append('dog')\n",
    "    else:\n",
    "        text_labels.append('cat')\n",
    "    plt.subplot(5 / columns + 1, columns, i + 1)\n",
    "    plt.title('This is a ' + text_labels[i])\n",
    "    imgplot = plt.imshow(batch[0])\n",
    "    i += 1\n",
    "    if i % 10 == 0:\n",
    "        break\n",
    "plt.show()"
   ]
  }
 ],
 "metadata": {
  "accelerator": "GPU",
  "colab": {
   "name": "Building-cnn.ipynb",
   "provenance": [],
   "version": "0.3.2"
  },
  "kernelspec": {
   "display_name": "Python 3",
   "language": "python",
   "name": "python3"
  },
  "language_info": {
   "codemirror_mode": {
    "name": "ipython",
    "version": 3
   },
   "file_extension": ".py",
   "mimetype": "text/x-python",
   "name": "python",
   "nbconvert_exporter": "python",
   "pygments_lexer": "ipython3",
   "version": "3.7.1"
  }
 },
 "nbformat": 4,
 "nbformat_minor": 1
}
