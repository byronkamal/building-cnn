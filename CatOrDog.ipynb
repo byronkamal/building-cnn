{
 "cells": [
  {
   "cell_type": "code",
   "execution_count": 1,
   "metadata": {},
   "outputs": [],
   "source": [
    "# Convolutional Neural Network\n",
    "\n",
    "# Installing Theano\n",
    "# pip install --upgrade --no-deps git+git://github.com/Theano/Theano.git\n",
    "\n",
    "# Installing Tensorflow\n",
    "# pip install tensorflow\n",
    "\n",
    "# Installing Keras\n",
    "# pip install --upgrade keras"
   ]
  },
  {
   "cell_type": "code",
   "execution_count": 3,
   "metadata": {},
   "outputs": [],
   "source": [
    "# Part 1 - Building the CNN\n",
    "\n",
    "# Importing the Keras libraries and packages\n",
    "from keras.models import Sequential\n",
    "from keras.layers import Conv2D\n",
    "from keras.layers import MaxPooling2D\n",
    "from keras.layers import Flatten\n",
    "from keras.layers import Dense, Dropout"
   ]
  },
  {
   "cell_type": "code",
   "execution_count": 4,
   "metadata": {},
   "outputs": [
    {
     "name": "stdout",
     "output_type": "stream",
     "text": [
      "WARNING:tensorflow:From /usr/local/anaconda/lib/python3.7/site-packages/keras/backend/tensorflow_backend.py:3445: calling dropout (from tensorflow.python.ops.nn_ops) with keep_prob is deprecated and will be removed in a future version.\n",
      "Instructions for updating:\n",
      "Please use `rate` instead of `keep_prob`. Rate should be set to `rate = 1 - keep_prob`.\n"
     ]
    }
   ],
   "source": [
    "# Initialising the CNN\n",
    "classifier = Sequential()\n",
    "\n",
    "# Step 1 - Convolution\n",
    "classifier.add(Conv2D(32, (3, 3), input_shape = (64, 64, 3), activation = 'relu'))\n",
    "\n",
    "# Step 2 - Pooling\n",
    "classifier.add(MaxPooling2D(pool_size = (2, 2)))\n",
    "\n",
    "# Adding a second convolutional layer\n",
    "classifier.add(Conv2D(32, (3, 3), activation = 'relu'))\n",
    "classifier.add(MaxPooling2D(pool_size = (2, 2)))\n",
    "\n",
    "# Step 3 - Flattening\n",
    "classifier.add(Flatten())\n",
    "\n",
    "# Step 4 - Full connection\n",
    "classifier.add(Dense(units = 128, activation = 'relu'))\n",
    "classifier.add(Dropout(rate=0.2))\n",
    "classifier.add(Dense(units = 64, activation = 'relu'))\n",
    "classifier.add(Dense(units = 1, activation = 'sigmoid'))\n",
    "\n",
    "# Compiling the CNN\n",
    "classifier.compile(optimizer = 'adam', loss = 'binary_crossentropy', metrics = ['accuracy'])"
   ]
  },
  {
   "cell_type": "code",
   "execution_count": 5,
   "metadata": {},
   "outputs": [
    {
     "name": "stdout",
     "output_type": "stream",
     "text": [
      "Found 8000 images belonging to 2 classes.\n",
      "Found 2000 images belonging to 2 classes.\n",
      "WARNING:tensorflow:From /usr/local/anaconda/lib/python3.7/site-packages/tensorflow/python/ops/math_ops.py:3066: to_int32 (from tensorflow.python.ops.math_ops) is deprecated and will be removed in a future version.\n",
      "Instructions for updating:\n",
      "Use tf.cast instead.\n",
      "Epoch 1/25\n",
      "8000/8000 [==============================] - 1874s 234ms/step - loss: 0.3623 - acc: 0.8317 - val_loss: 0.5352 - val_acc: 0.8010\n",
      "Epoch 2/25\n",
      "8000/8000 [==============================] - 1865s 233ms/step - loss: 0.1448 - acc: 0.9434 - val_loss: 0.6358 - val_acc: 0.8194\n",
      "Epoch 3/25\n",
      "8000/8000 [==============================] - 1828s 228ms/step - loss: 0.0913 - acc: 0.9658 - val_loss: 0.6538 - val_acc: 0.8160\n",
      "Epoch 4/25\n",
      "8000/8000 [==============================] - 1834s 229ms/step - loss: 0.0680 - acc: 0.9752 - val_loss: 0.7006 - val_acc: 0.8149\n",
      "Epoch 5/25\n",
      "8000/8000 [==============================] - 1999s 250ms/step - loss: 0.0536 - acc: 0.9805 - val_loss: 0.7627 - val_acc: 0.8184\n",
      "Epoch 6/25\n",
      "8000/8000 [==============================] - 2100s 263ms/step - loss: 0.0449 - acc: 0.9839 - val_loss: 0.7692 - val_acc: 0.8232\n",
      "Epoch 7/25\n",
      "8000/8000 [==============================] - 2106s 263ms/step - loss: 0.0395 - acc: 0.9857 - val_loss: 0.7861 - val_acc: 0.8281\n",
      "Epoch 8/25\n",
      "8000/8000 [==============================] - 2125s 266ms/step - loss: 0.0347 - acc: 0.9877 - val_loss: 0.8342 - val_acc: 0.8203\n",
      "Epoch 9/25\n",
      "8000/8000 [==============================] - 2064s 258ms/step - loss: 0.0302 - acc: 0.9894 - val_loss: 0.8443 - val_acc: 0.8240\n",
      "Epoch 10/25\n",
      "8000/8000 [==============================] - 2075s 259ms/step - loss: 0.0290 - acc: 0.9901 - val_loss: 0.8690 - val_acc: 0.8196\n",
      "Epoch 11/25\n",
      "8000/8000 [==============================] - 1927s 241ms/step - loss: 0.0260 - acc: 0.9909 - val_loss: 0.9475 - val_acc: 0.8241\n",
      "Epoch 12/25\n",
      "8000/8000 [==============================] - 1843s 230ms/step - loss: 0.0244 - acc: 0.9915 - val_loss: 0.9972 - val_acc: 0.8170\n",
      "Epoch 13/25\n",
      "8000/8000 [==============================] - 1847s 231ms/step - loss: 0.0228 - acc: 0.9919 - val_loss: 0.8930 - val_acc: 0.8190\n",
      "Epoch 14/25\n",
      "8000/8000 [==============================] - 1850s 231ms/step - loss: 0.0212 - acc: 0.9927 - val_loss: 1.0155 - val_acc: 0.8165\n",
      "Epoch 15/25\n",
      "8000/8000 [==============================] - 1843s 230ms/step - loss: 0.0200 - acc: 0.9933 - val_loss: 1.0365 - val_acc: 0.8216\n",
      "Epoch 16/25\n",
      "8000/8000 [==============================] - 1859s 232ms/step - loss: 0.0195 - acc: 0.9934 - val_loss: 0.9669 - val_acc: 0.8270\n",
      "Epoch 17/25\n",
      "8000/8000 [==============================] - 1845s 231ms/step - loss: 0.0181 - acc: 0.9938 - val_loss: 1.0702 - val_acc: 0.8203\n",
      "Epoch 18/25\n",
      "8000/8000 [==============================] - 1846s 231ms/step - loss: 0.0175 - acc: 0.9943 - val_loss: 0.9948 - val_acc: 0.8214\n",
      "Epoch 19/25\n",
      "8000/8000 [==============================] - 1847s 231ms/step - loss: 0.0174 - acc: 0.9942 - val_loss: 1.0174 - val_acc: 0.8216\n",
      "Epoch 20/25\n",
      "8000/8000 [==============================] - 1846s 231ms/step - loss: 0.0159 - acc: 0.9948 - val_loss: 1.0959 - val_acc: 0.8196\n",
      "Epoch 21/25\n",
      "8000/8000 [==============================] - 1852s 231ms/step - loss: 0.0158 - acc: 0.9948 - val_loss: 1.0889 - val_acc: 0.8273\n",
      "Epoch 22/25\n",
      "8000/8000 [==============================] - 1851s 231ms/step - loss: 0.0155 - acc: 0.9949 - val_loss: 1.1413 - val_acc: 0.8170\n",
      "Epoch 23/25\n",
      "8000/8000 [==============================] - 1850s 231ms/step - loss: 0.0149 - acc: 0.9952 - val_loss: 1.0441 - val_acc: 0.8068\n",
      "Epoch 24/25\n",
      "8000/8000 [==============================] - 1854s 232ms/step - loss: 0.0145 - acc: 0.9953 - val_loss: 0.9832 - val_acc: 0.8248\n",
      "Epoch 25/25\n",
      "8000/8000 [==============================] - 1877s 235ms/step - loss: 0.0142 - acc: 0.9956 - val_loss: 0.9648 - val_acc: 0.8244\n"
     ]
    },
    {
     "data": {
      "text/plain": [
       "<keras.callbacks.History at 0x7f020c1498d0>"
      ]
     },
     "execution_count": 5,
     "metadata": {},
     "output_type": "execute_result"
    }
   ],
   "source": [
    "# Part 2 - Fitting the CNN to the images\n",
    "\n",
    "from keras.preprocessing.image import ImageDataGenerator\n",
    "\n",
    "train_datagen = ImageDataGenerator(rescale = 1./255,\n",
    "                                   shear_range = 0.2,\n",
    "                                   zoom_range = 0.2,\n",
    "                                   horizontal_flip = True)\n",
    "\n",
    "test_datagen = ImageDataGenerator(rescale = 1./255)\n",
    "\n",
    "training_set = train_datagen.flow_from_directory('dataset/training_set',\n",
    "                                                 target_size = (64, 64),\n",
    "                                                 batch_size = 32,\n",
    "                                                 class_mode = 'binary')\n",
    "\n",
    "test_set = test_datagen.flow_from_directory('dataset/test_set',\n",
    "                                            target_size = (64, 64),\n",
    "                                            batch_size = 32,\n",
    "                                            class_mode = 'binary')\n",
    "\n",
    "classifier.fit_generator(training_set,\n",
    "                         steps_per_epoch = 8000,\n",
    "                         epochs = 25,\n",
    "                         validation_data = test_set,\n",
    "                         validation_steps = 2000)"
   ]
  },
  {
   "cell_type": "code",
   "execution_count": 13,
   "metadata": {},
   "outputs": [],
   "source": [
    "import numpy as np\n",
    "from keras.preprocessing import image\n",
    "test_image = image.load_img('dataset/single_prediction/cat_or_dog_1.jpg', target_size = (64, 64))\n",
    "test_image = image.img_to_array(test_image)\n",
    "test_image = np.expand_dims(test_image, axis = 0)\n",
    "result = classifier.predict(test_image)\n",
    "training_set.class_indices\n",
    "if result[0][0] == 1:\n",
    "    prediction = 'dog'\n",
    "else:\n",
    "    prediction = 'cat' "
   ]
  },
  {
   "cell_type": "code",
   "execution_count": 14,
   "metadata": {},
   "outputs": [
    {
     "name": "stdout",
     "output_type": "stream",
     "text": [
      "[[1.]]\n"
     ]
    }
   ],
   "source": [
    "print(result)"
   ]
  },
  {
   "cell_type": "code",
   "execution_count": null,
   "metadata": {},
   "outputs": [],
   "source": [
    "#Epoch 25/25\n",
    "#8000/8000 [==============================] - 1877s 235ms/step - \n",
    "#loss: 0.0142 - acc: 0.9956 - val_loss: 0.9648 - val_acc: 0.8244"
   ]
  }
 ],
 "metadata": {
  "kernelspec": {
   "display_name": "Python 3",
   "language": "python",
   "name": "python3"
  },
  "language_info": {
   "codemirror_mode": {
    "name": "ipython",
    "version": 3
   },
   "file_extension": ".py",
   "mimetype": "text/x-python",
   "name": "python",
   "nbconvert_exporter": "python",
   "pygments_lexer": "ipython3",
   "version": "3.7.3"
  }
 },
 "nbformat": 4,
 "nbformat_minor": 2
}
