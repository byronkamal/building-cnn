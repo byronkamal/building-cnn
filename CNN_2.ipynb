{
 "cells": [
  {
   "cell_type": "code",
   "execution_count": 1,
   "metadata": {},
   "outputs": [
    {
     "name": "stderr",
     "output_type": "stream",
     "text": [
      "Using TensorFlow backend.\n"
     ]
    }
   ],
   "source": [
    "# Part 1 - Building the CNN\n",
    "\n",
    "# Importing the Keras libraries and packages\n",
    "from keras.models import Sequential\n",
    "from keras.layers import Conv2D\n",
    "from keras.layers import MaxPooling2D\n",
    "from keras.layers import Flatten\n",
    "from keras.layers import Dense"
   ]
  },
  {
   "cell_type": "code",
   "execution_count": 2,
   "metadata": {},
   "outputs": [
    {
     "name": "stdout",
     "output_type": "stream",
     "text": [
      "WARNING:tensorflow:From /home/fabdebian/anaconda3/lib/python3.7/site-packages/tensorflow/python/framework/op_def_library.py:263: colocate_with (from tensorflow.python.framework.ops) is deprecated and will be removed in a future version.\n",
      "Instructions for updating:\n",
      "Colocations handled automatically by placer.\n"
     ]
    }
   ],
   "source": [
    "# Initialising the CNN\n",
    "classifier = Sequential()\n",
    "\n",
    "# Step 1 - Convolution\n",
    "classifier.add(Conv2D(32, (3, 3), input_shape = (64, 64, 3), activation = 'relu'))\n",
    "classifier.add(Conv2D(32, (3, 3), activation = 'relu'))\n",
    "\n",
    "# Step 2 - Pooling\n",
    "classifier.add(MaxPooling2D(pool_size = (2, 2)))\n",
    "\n",
    "# Adding a second convolutional layer\n",
    "classifier.add(Conv2D(32, (3, 3), activation = 'relu'))\n",
    "classifier.add(Conv2D(32, (3, 3), activation = 'sigmoid'))\n",
    "classifier.add(MaxPooling2D(pool_size = (2, 2)))\n",
    "\n",
    "# Step 3 - Flattening\n",
    "classifier.add(Flatten())\n",
    "\n",
    "# Step 4 - Full connection\n",
    "classifier.add(Dense(units = 128, activation = 'relu'))\n",
    "classifier.add(Dense(units = 1, activation = 'sigmoid'))\n",
    "\n",
    "classifier.compile(optimizer = 'adam', loss = 'binary_crossentropy', metrics = ['accuracy'])"
   ]
  },
  {
   "cell_type": "code",
   "execution_count": 3,
   "metadata": {},
   "outputs": [
    {
     "name": "stdout",
     "output_type": "stream",
     "text": [
      "Found 8000 images belonging to 2 classes.\n",
      "Found 2000 images belonging to 2 classes.\n",
      "WARNING:tensorflow:From /home/fabdebian/anaconda3/lib/python3.7/site-packages/tensorflow/python/ops/math_ops.py:3066: to_int32 (from tensorflow.python.ops.math_ops) is deprecated and will be removed in a future version.\n",
      "Instructions for updating:\n",
      "Use tf.cast instead.\n",
      "Epoch 1/25\n",
      "8000/8000 [==============================] - 2218s 277ms/step - loss: 0.5494 - acc: 0.6985 - val_loss: 0.4640 - val_acc: 0.7815\n",
      "Epoch 2/25\n",
      "8000/8000 [==============================] - 2214s 277ms/step - loss: 0.3154 - acc: 0.8602 - val_loss: 0.4930 - val_acc: 0.8085\n",
      "Epoch 3/25\n",
      "8000/8000 [==============================] - 2216s 277ms/step - loss: 0.1955 - acc: 0.9188 - val_loss: 0.5288 - val_acc: 0.8136\n",
      "Epoch 4/25\n",
      "8000/8000 [==============================] - 2220s 277ms/step - loss: 0.1390 - acc: 0.9440 - val_loss: 0.5840 - val_acc: 0.8169\n",
      "Epoch 5/25\n",
      "8000/8000 [==============================] - 2221s 278ms/step - loss: 0.1104 - acc: 0.9565 - val_loss: 0.6426 - val_acc: 0.8172\n",
      "Epoch 6/25\n",
      "8000/8000 [==============================] - 2221s 278ms/step - loss: 0.0914 - acc: 0.9641 - val_loss: 0.6758 - val_acc: 0.8182\n",
      "Epoch 7/25\n",
      "8000/8000 [==============================] - 2220s 277ms/step - loss: 0.0825 - acc: 0.9685 - val_loss: 0.7061 - val_acc: 0.8349\n",
      "Epoch 8/25\n",
      "8000/8000 [==============================] - 2222s 278ms/step - loss: 0.0753 - acc: 0.9712 - val_loss: 0.7220 - val_acc: 0.8230\n",
      "Epoch 9/25\n",
      "8000/8000 [==============================] - 2221s 278ms/step - loss: 0.0685 - acc: 0.9736 - val_loss: 0.7520 - val_acc: 0.8240\n",
      "Epoch 10/25\n",
      "8000/8000 [==============================] - 2222s 278ms/step - loss: 0.0627 - acc: 0.9762 - val_loss: 0.8128 - val_acc: 0.8139\n",
      "Epoch 11/25\n",
      "8000/8000 [==============================] - 2222s 278ms/step - loss: 0.0579 - acc: 0.9779 - val_loss: 0.8027 - val_acc: 0.8139\n",
      "Epoch 12/25\n",
      "8000/8000 [==============================] - 2223s 278ms/step - loss: 0.0568 - acc: 0.9787 - val_loss: 0.8957 - val_acc: 0.8239\n",
      "Epoch 13/25\n",
      "8000/8000 [==============================] - 2223s 278ms/step - loss: 0.0532 - acc: 0.9803 - val_loss: 0.7769 - val_acc: 0.8294\n",
      "Epoch 14/25\n",
      "8000/8000 [==============================] - 2223s 278ms/step - loss: 0.0512 - acc: 0.9808 - val_loss: 0.8595 - val_acc: 0.8202\n",
      "Epoch 15/25\n",
      "8000/8000 [==============================] - 2223s 278ms/step - loss: 0.0477 - acc: 0.9823 - val_loss: 0.7996 - val_acc: 0.8302\n",
      "Epoch 16/25\n",
      "8000/8000 [==============================] - 2225s 278ms/step - loss: 0.0469 - acc: 0.9825 - val_loss: 0.8361 - val_acc: 0.8199\n",
      "Epoch 17/25\n",
      "8000/8000 [==============================] - 2223s 278ms/step - loss: 0.0447 - acc: 0.9838 - val_loss: 0.9098 - val_acc: 0.8181\n",
      "Epoch 18/25\n",
      "8000/8000 [==============================] - 2225s 278ms/step - loss: 0.0443 - acc: 0.9839 - val_loss: 0.8960 - val_acc: 0.8300\n",
      "Epoch 19/25\n",
      "8000/8000 [==============================] - 2225s 278ms/step - loss: 0.0419 - acc: 0.9846 - val_loss: 0.8639 - val_acc: 0.8252\n",
      "Epoch 20/25\n",
      "8000/8000 [==============================] - 2226s 278ms/step - loss: 0.0410 - acc: 0.9846 - val_loss: 0.8457 - val_acc: 0.8291\n",
      "Epoch 21/25\n",
      "8000/8000 [==============================] - 2226s 278ms/step - loss: 0.0434 - acc: 0.9842 - val_loss: 0.8138 - val_acc: 0.8240\n",
      "Epoch 22/25\n",
      "8000/8000 [==============================] - 2226s 278ms/step - loss: 0.0405 - acc: 0.9850 - val_loss: 0.9211 - val_acc: 0.8135\n",
      "Epoch 23/25\n",
      "8000/8000 [==============================] - 2226s 278ms/step - loss: 0.0398 - acc: 0.9855 - val_loss: 0.9293 - val_acc: 0.8344\n",
      "Epoch 24/25\n",
      "8000/8000 [==============================] - 2228s 278ms/step - loss: 0.0389 - acc: 0.9861 - val_loss: 0.9491 - val_acc: 0.8240\n",
      "Epoch 25/25\n",
      "8000/8000 [==============================] - 2227s 278ms/step - loss: 0.0396 - acc: 0.9857 - val_loss: 0.8428 - val_acc: 0.8226\n"
     ]
    },
    {
     "data": {
      "text/plain": [
       "<keras.callbacks.History at 0x7f2f7994e668>"
      ]
     },
     "execution_count": 3,
     "metadata": {},
     "output_type": "execute_result"
    }
   ],
   "source": [
    "# Part 2 - Fitting the CNN to the images\n",
    "\n",
    "from keras.preprocessing.image import ImageDataGenerator\n",
    "\n",
    "train_datagen = ImageDataGenerator(rescale = 1./255,\n",
    "                                   shear_range = 0.2,\n",
    "                                   zoom_range = 0.2,\n",
    "                                   horizontal_flip = True)\n",
    "\n",
    "test_datagen = ImageDataGenerator(rescale = 1./255)\n",
    "\n",
    "training_set = train_datagen.flow_from_directory('dataset/training_set',\n",
    "                                                 target_size = (64, 64),\n",
    "                                                 batch_size = 32,\n",
    "                                                 class_mode = 'binary')\n",
    "\n",
    "test_set = test_datagen.flow_from_directory('dataset/test_set',\n",
    "                                            target_size = (64, 64),\n",
    "                                            batch_size = 32,\n",
    "                                            class_mode = 'binary')\n",
    "\n",
    "classifier.fit_generator(training_set,\n",
    "                         steps_per_epoch = 8000,\n",
    "                         epochs = 25,\n",
    "                         validation_data = test_set,\n",
    "                         validation_steps = 2000)"
   ]
  },
  {
   "cell_type": "code",
   "execution_count": 4,
   "metadata": {},
   "outputs": [],
   "source": [
    "loss, accuracy = classifier.evaluate_generator(generator=test_set, steps=25)"
   ]
  },
  {
   "cell_type": "code",
   "execution_count": 5,
   "metadata": {},
   "outputs": [
    {
     "name": "stdout",
     "output_type": "stream",
     "text": [
      "Accuracy:  0.8073979591836735\n",
      "Loss: 0.9465004315181654\n"
     ]
    }
   ],
   "source": [
    "print('Accuracy: ', accuracy)\n",
    "print('Loss:', loss)"
   ]
  }
 ],
 "metadata": {
  "kernelspec": {
   "display_name": "Python 3",
   "language": "python",
   "name": "python3"
  },
  "language_info": {
   "codemirror_mode": {
    "name": "ipython",
    "version": 3
   },
   "file_extension": ".py",
   "mimetype": "text/x-python",
   "name": "python",
   "nbconvert_exporter": "python",
   "pygments_lexer": "ipython3",
   "version": "3.7.3"
  }
 },
 "nbformat": 4,
 "nbformat_minor": 2
}
